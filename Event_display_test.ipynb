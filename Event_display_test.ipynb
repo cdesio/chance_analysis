{
 "cells": [
  {
   "cell_type": "code",
   "execution_count": 11,
   "id": "5740bb4f",
   "metadata": {},
   "outputs": [],
   "source": [
    "import os, sys\n",
    "import numpy as np\n",
    "import matplotlib.pyplot as plt"
   ]
  },
  {
   "cell_type": "code",
   "execution_count": 12,
   "id": "844dc4b3",
   "metadata": {},
   "outputs": [],
   "source": [
    "sys.path.append('../readmaroc')"
   ]
  },
  {
   "cell_type": "code",
   "execution_count": 13,
   "id": "e4a7a4c5",
   "metadata": {},
   "outputs": [],
   "source": [
    "%matplotlib qt"
   ]
  },
  {
   "cell_type": "code",
   "execution_count": 14,
   "id": "d609b1cc",
   "metadata": {},
   "outputs": [],
   "source": [
    "from maroc_data import MarocData"
   ]
  },
  {
   "cell_type": "code",
   "execution_count": 15,
   "id": "af9f77ac",
   "metadata": {},
   "outputs": [],
   "source": [
    "from scipy.stats import norm"
   ]
  },
  {
   "cell_type": "code",
   "execution_count": 16,
   "id": "3827bf0f",
   "metadata": {},
   "outputs": [],
   "source": [
    "from functools import partial"
   ]
  },
  {
   "cell_type": "code",
   "execution_count": 17,
   "id": "a6406048",
   "metadata": {},
   "outputs": [],
   "source": [
    "import matplotlib.backends.backend_pdf"
   ]
  },
  {
   "cell_type": "code",
   "execution_count": 18,
   "id": "2fd135b1",
   "metadata": {},
   "outputs": [],
   "source": [
    "input_dat = '../data/0806/Run000092044.dat'"
   ]
  },
  {
   "cell_type": "code",
   "execution_count": 19,
   "id": "e651df47",
   "metadata": {},
   "outputs": [],
   "source": [
    "marocdata = MarocData(input_dat)"
   ]
  },
  {
   "cell_type": "code",
   "execution_count": 20,
   "id": "fa142bea",
   "metadata": {},
   "outputs": [],
   "source": [
    "y_offset = [12000, 10000, 8000, 4000, 2000]"
   ]
  },
  {
   "cell_type": "code",
   "execution_count": 21,
   "id": "e4386195",
   "metadata": {},
   "outputs": [],
   "source": [
    "def overthreshold(marocdata, event_id):\n",
    "    events = marocdata.get_event(event_id)\n",
    "    count = 0\n",
    "    for board_id, event in events:\n",
    "        \n",
    "        if event is None:\n",
    "            continue\n",
    "        board = marocdata.get_board(board_id)\n",
    "        pedestal = board.avg_data\n",
    "        noise = board.noise\n",
    "        mu, std = norm.fit(noise)\n",
    "        signal = event.signal\n",
    "        if np.any(signal-pedestal>=200+(mu+5*std)):\n",
    "            count+=1\n",
    "    if count>=2:\n",
    "        return True\n",
    "    return False"
   ]
  },
  {
   "cell_type": "code",
   "execution_count": 22,
   "id": "158e0302",
   "metadata": {},
   "outputs": [],
   "source": [
    "event_ids_over_theshold = list(filter(partial(overthreshold, marocdata), range(1, marocdata.max_evt+1)))"
   ]
  },
  {
   "cell_type": "code",
   "execution_count": 23,
   "id": "9caa7c39",
   "metadata": {},
   "outputs": [
    {
     "data": {
      "text/plain": [
       "23"
      ]
     },
     "execution_count": 23,
     "metadata": {},
     "output_type": "execute_result"
    }
   ],
   "source": [
    "len(event_ids_over_theshold)"
   ]
  },
  {
   "cell_type": "code",
   "execution_count": 24,
   "id": "777bd9ae",
   "metadata": {},
   "outputs": [],
   "source": [
    "def plot_event(evt, marocdata):\n",
    "    fig, (ax1, ax2) = plt.subplots(1, 2, figsize=(16,10), sharey=True, sharex=True)\n",
    "    for i, (triplet_y, triplet_x) in enumerate(zip(np.arange(1, 16).reshape(5, 3), \n",
    "                                                   np.arange(16,31).reshape(5,3))):\n",
    "        for j, (board_y, board_x) in enumerate(zip(triplet_y, triplet_x)):\n",
    "            if board_y in marocdata.active_boards:\n",
    "                if evt in marocdata.get_board(board_y):\n",
    "                    signal = marocdata.get_board(board_y).get_event(evt).signal\n",
    "                    ax1.text((320+320*j-0+(j*320))/2 -150, y_offset[i]-250, 'board {}, TS: {} '.format(board_y, marocdata.get_board(board_y).clean_timestamps[evt]), size='small')\n",
    "                    if np.max(signal)>2000:\n",
    "                        signal = signal*0.45\n",
    "                    ax1.plot(np.arange(0+(j*320), 320+320*j), \n",
    "                             (signal)+y_offset[i], color='blue', linewidth=1)\n",
    "                    ax1.axvline(320*(j+1), linestyle='--', linewidth=.75, color='grey', alpha=.5)\n",
    "                else:\n",
    "                    pass\n",
    "            if board_x in marocdata.active_boards:\n",
    "                if evt in marocdata.get_board(board_x):\n",
    "                    signal = marocdata.get_board(board_x).get_event(evt).signal\n",
    "                    ax2.text((320+320*j-0+(j*320))/2 -150, y_offset[i]-250, 'board {}, TS:{} '.format(board_x, marocdata.get_board(board_x).clean_timestamps[evt]), size='small')\n",
    "                    if np.max(signal)>2000:\n",
    "                        signal = signal*0.45\n",
    "                    ax2.plot(np.arange(0+(j*320), 320+320*j), \n",
    "                             (signal)+y_offset[i], color='red', linewidth=1)\n",
    "                    ax2.axvline(320*(j+1), linestyle='--', linewidth=.75, color='grey', alpha=.5)\n",
    "                else:\n",
    "                    pass\n",
    "            \n",
    "    ax1.set_title('y layers', size='x-large')\n",
    "    ax2.set_title('x layers', size='x-large')\n",
    "    plt.yticks(y_offset, ['layer 0','layer 1', 'layer 2', 'layer 3', 'layer 4'], size='x-large')\n",
    "    plt.xticks([0, 320, 640, 960])\n",
    "    fig.text(.5, .05, 'strips', size='large')\n",
    "    fig.text(.5, .95, 'Evt {}'.format(evt), size='large')\n",
    "    plt.ylim(1000, 13000)\n",
    "    return fig, ax1, ax2\n",
    "\n"
   ]
  },
  {
   "cell_type": "code",
   "execution_count": 25,
   "id": "bb118565",
   "metadata": {
    "scrolled": true
   },
   "outputs": [],
   "source": [
    "for evt in event_ids_over_theshold:\n",
    "    fig, ax1, ax2 = plot_event(evt, marocdata)\n",
    "    plt.show()\n",
    "    break"
   ]
  },
  {
   "cell_type": "code",
   "execution_count": null,
   "id": "12d99e1d",
   "metadata": {},
   "outputs": [],
   "source": []
  },
  {
   "cell_type": "code",
   "execution_count": 26,
   "id": "8b00aa58",
   "metadata": {},
   "outputs": [],
   "source": [
    "pdf = matplotlib.backends.backend_pdf.PdfPages(\"output_2hits_TS_clean.pdf\")\n",
    "for evt in event_ids_over_theshold:\n",
    "    fig, ax1, ax2 = plot_event(evt, marocdata)\n",
    "    pdf.savefig(fig)\n",
    "    plt.close(fig)\n",
    "pdf.close()\n",
    "plt.close()"
   ]
  },
  {
   "cell_type": "code",
   "execution_count": null,
   "id": "66793359",
   "metadata": {},
   "outputs": [],
   "source": []
  }
 ],
 "metadata": {
  "kernelspec": {
   "display_name": "Python 3",
   "language": "python",
   "name": "python3"
  },
  "language_info": {
   "codemirror_mode": {
    "name": "ipython",
    "version": 3
   },
   "file_extension": ".py",
   "mimetype": "text/x-python",
   "name": "python",
   "nbconvert_exporter": "python",
   "pygments_lexer": "ipython3",
   "version": "3.9.4"
  }
 },
 "nbformat": 4,
 "nbformat_minor": 5
}
