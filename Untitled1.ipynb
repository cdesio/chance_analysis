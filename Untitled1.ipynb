{
 "cells": [
  {
   "cell_type": "code",
   "execution_count": 1,
   "metadata": {},
   "outputs": [],
   "source": [
    "import numpy as np\n",
    "import uproot3\n",
    "import matplotlib.pyplot as plt"
   ]
  },
  {
   "cell_type": "code",
   "execution_count": 2,
   "metadata": {},
   "outputs": [],
   "source": [
    "%matplotlib widget"
   ]
  },
  {
   "cell_type": "code",
   "execution_count": 3,
   "metadata": {},
   "outputs": [],
   "source": [
    "infile_21l = 'data/largedrum_21L_dense_MedianCut_3cmVoxel_all.discriminator.root'"
   ]
  },
  {
   "cell_type": "code",
   "execution_count": 4,
   "metadata": {
    "tags": []
   },
   "outputs": [],
   "source": [
    "fu = uproot3.open(infile_21l)\n",
    "histogram_21l = fu['histMedianMetric'].numpy()[0]\n",
    "bins_x, bins_y, bins_z = fu['histMedianMetric;1'].numpy()[1][0]\n",
    "shape_x, shape_y, shape_z = histogram_21l.shape"
   ]
  },
  {
   "cell_type": "code",
   "execution_count": 5,
   "metadata": {},
   "outputs": [],
   "source": [
    "infile_bitumen = 'data/largedrum_onlybitumen_dense_newmetrics_3cmVoxel_April2021.discriminator.root'"
   ]
  },
  {
   "cell_type": "code",
   "execution_count": 6,
   "metadata": {},
   "outputs": [],
   "source": [
    "fu = uproot3.open(infile_bitumen)\n",
    "histogram_bitumen = fu['histMedianMetric'].numpy()[0]\n",
    "bins_x, bins_y, bins_z = fu['histMedianMetric;1'].numpy()[1][0]\n",
    "shape_x, shape_y, shape_z = histogram_bitumen.shape"
   ]
  },
  {
   "cell_type": "code",
   "execution_count": 7,
   "metadata": {},
   "outputs": [],
   "source": [
    "infile_hydrogen = 'data/largedrum_onlyhydrogen_dense_newmetrics_3cmVoxel_April2021.discriminator.root'"
   ]
  },
  {
   "cell_type": "code",
   "execution_count": 8,
   "metadata": {},
   "outputs": [],
   "source": [
    "fu = uproot3.open(infile_hydrogen)\n",
    "histogram_hydrogen = fu['histMedianMetric'].numpy()[0]\n",
    "bins_x, bins_y, bins_z = fu['histMedianMetric;1'].numpy()[1][0]\n",
    "shape_x, shape_y, shape_z = histogram_hydrogen.shape"
   ]
  },
  {
   "cell_type": "code",
   "execution_count": 9,
   "metadata": {},
   "outputs": [],
   "source": [
    "infile_shifted = 'data/largedrum_21L_5cm_dense_newmetrics_3cmVoxel_April2021.discriminator.root'"
   ]
  },
  {
   "cell_type": "code",
   "execution_count": 10,
   "metadata": {},
   "outputs": [],
   "source": [
    "fu = uproot3.open(infile_bitumen)\n",
    "histogram_shifted = fu['histMedianMetric'].numpy()[0]\n",
    "bins_x, bins_y, bins_z = fu['histMedianMetric;1'].numpy()[1][0]\n",
    "shape_x, shape_y, shape_z = histogram_shifted.shape"
   ]
  },
  {
   "cell_type": "code",
   "execution_count": 11,
   "metadata": {
    "tags": []
   },
   "outputs": [],
   "source": [
    "bincentre_x = []\n",
    "for i, _ in enumerate(bins_x[:-1]):\n",
    "    #print(i, bins_x[i], bins_x[i+1],(bins_x[i]+bins_x[i+1])/2 )\n",
    "    bincentre_x.append((bins_x[i]+bins_x[i+1])/2)\n",
    "bincentre_x = np.asarray(bincentre_x)"
   ]
  },
  {
   "cell_type": "code",
   "execution_count": 12,
   "metadata": {},
   "outputs": [],
   "source": [
    "bincentre_y = []\n",
    "for i, _ in enumerate(bins_y[:-1]):\n",
    "    bincentre_y.append((bins_y[i]+bins_y[i+1])/2)\n",
    "bincentre_y = np.asarray(bincentre_y)"
   ]
  },
  {
   "cell_type": "code",
   "execution_count": 13,
   "metadata": {},
   "outputs": [],
   "source": [
    "bincentre_z = []\n",
    "for i, _ in enumerate(bins_z[:-1]):\n",
    "    bincentre_z.append((bins_z[i]+bins_z[i+1])/2)\n",
    "bincentre_z = np.asarray(bincentre_z)"
   ]
  },
  {
   "cell_type": "code",
   "execution_count": 14,
   "metadata": {},
   "outputs": [],
   "source": [
    "def select_histogram_coords(histogram, x_min, x_max, y_min, y_max, z_min, z_max):\n",
    "    \n",
    "    sel_x = np.where(np.logical_and(bincentre_x>=x_min, bincentre_x<=x_max))[0]#[:-1]\n",
    "    sel_y = np.where(np.logical_and(bincentre_y>=y_min, bincentre_y<=y_max))[0]#[:-1]\n",
    "    sel_z = np.where(np.logical_and(bincentre_z>=z_min, bincentre_z<=z_max))[0]#[:-1]\n",
    "\n",
    "    bincentre_sel_x = bincentre_x[sel_x]\n",
    "    bincentre_sel_y = bincentre_y[sel_y] \n",
    "    bincentre_sel_z = bincentre_z[sel_z]\n",
    "    #print(sel_x, bincentre_x[sel_x],bincentre_sel_x)\n",
    "    xx, yy, zz = np.meshgrid(sel_x, sel_y, sel_z, indexing='ij')\n",
    "    selected_histogram = np.copy(histogram[xx, yy, zz])\n",
    "    \n",
    "    return selected_histogram, (bincentre_sel_x, bincentre_sel_y, bincentre_sel_z)"
   ]
  },
  {
   "cell_type": "code",
   "execution_count": 15,
   "metadata": {},
   "outputs": [],
   "source": [
    "def cut_regions(histo):\n",
    "    bitumen_left_hist, bins_left_bitumen = select_histogram_coords(histo, -440, -200, -300, 300, -300, 300)\n",
    "    bitumen_right_hist, bins_right_bitumen = select_histogram_coords(histo, 200, 440, -300, 300, -300, 300)\n",
    "    bubble_hist, bins_bubble = select_histogram_coords(histo, -100, 100, -100, 100, -100, 100)\n",
    "    drum_hist, bins_drum = select_histogram_coords(histo, -440, 440, -300, 300, -300, 300)\n",
    "    return bitumen_left_hist, bins_left_bitumen, bitumen_right_hist, bins_right_bitumen, bubble_hist, bins_bubble, drum_hist, bins_drum"
   ]
  },
  {
   "cell_type": "code",
   "execution_count": 16,
   "metadata": {},
   "outputs": [],
   "source": [
    "_, _, _, _, bt_centre_hist, bins_bt_centre, drum_bt_hist, bins_drum_bt = cut_regions(histogram_bitumen)\n",
    "_, _, _, _, h_centre_hist, bins_h_centre, drum_h_hist, bins_drum_h = cut_regions(histogram_hydrogen)\n",
    "_, _, _, _, air_centre_hist, bins_air_centre, drum_air_hist, bins_drum_air = cut_regions(histogram_21l)\n",
    "_, _, _, _, sh_centre_hist, bins_sh_centre, drum_sh_hist, bins_drum_sh = cut_regions(histogram_shifted)"
   ]
  },
  {
   "cell_type": "code",
   "execution_count": 17,
   "metadata": {},
   "outputs": [
    {
     "data": {
      "application/vnd.jupyter.widget-view+json": {
       "model_id": "0933b2b6b90045cab9b22d22e24ee796",
       "version_major": 2,
       "version_minor": 0
      },
      "text/plain": [
       "Canvas(toolbar=Toolbar(toolitems=[('Home', 'Reset original view', 'home', 'home'), ('Back', 'Back to previous …"
      ]
     },
     "metadata": {},
     "output_type": "display_data"
    }
   ],
   "source": [
    "bins = np.linspace(10,15, 100)\n",
    "plt.figure()\n",
    "plt.ylim(0,1200)\n",
    "plt.hist(drum_bt_hist[drum_bt_hist>0].ravel(), bins=bins, label='all data - drum')\n",
    "plt.hist(bt_centre_hist.ravel(), bins=bins, label='\"bubble\"')\n",
    "plt.legend(loc='upper right')\n",
    "plt.show()"
   ]
  },
  {
   "cell_type": "code",
   "execution_count": 18,
   "metadata": {},
   "outputs": [
    {
     "data": {
      "application/vnd.jupyter.widget-view+json": {
       "model_id": "4a5032ee7d1a40859366f9ae57a56514",
       "version_major": 2,
       "version_minor": 0
      },
      "text/plain": [
       "Canvas(toolbar=Toolbar(toolitems=[('Home', 'Reset original view', 'home', 'home'), ('Back', 'Back to previous …"
      ]
     },
     "metadata": {},
     "output_type": "display_data"
    }
   ],
   "source": [
    "bins = np.linspace(10,15, 100)\n",
    "plt.figure()\n",
    "plt.ylim(0,1200)\n",
    "plt.hist(drum_h_hist[drum_h_hist>0].ravel(), bins=bins, label='all data - drum')\n",
    "plt.hist(h_centre_hist.ravel(), bins=bins, label='\"bubble\"')\n",
    "plt.legend(loc='upper right')\n",
    "plt.show()"
   ]
  },
  {
   "cell_type": "code",
   "execution_count": 19,
   "metadata": {},
   "outputs": [
    {
     "data": {
      "application/vnd.jupyter.widget-view+json": {
       "model_id": "033e44881f9743e79948899fac0aee17",
       "version_major": 2,
       "version_minor": 0
      },
      "text/plain": [
       "Canvas(toolbar=Toolbar(toolitems=[('Home', 'Reset original view', 'home', 'home'), ('Back', 'Back to previous …"
      ]
     },
     "metadata": {},
     "output_type": "display_data"
    }
   ],
   "source": [
    "bins = np.linspace(10,15, 100)\n",
    "plt.figure()\n",
    "plt.ylim(0,1200)\n",
    "plt.hist(drum_air_hist[drum_air_hist>0].ravel(), bins=bins, label='all data - drum')\n",
    "plt.hist(air_centre_hist.ravel(), bins=bins, label='\"bubble\"')\n",
    "plt.legend(loc='upper right')\n",
    "plt.show()"
   ]
  },
  {
   "cell_type": "code",
   "execution_count": 20,
   "metadata": {},
   "outputs": [
    {
     "data": {
      "application/vnd.jupyter.widget-view+json": {
       "model_id": "203c9944c15f4e918646250662019a1c",
       "version_major": 2,
       "version_minor": 0
      },
      "text/plain": [
       "Canvas(toolbar=Toolbar(toolitems=[('Home', 'Reset original view', 'home', 'home'), ('Back', 'Back to previous …"
      ]
     },
     "metadata": {},
     "output_type": "display_data"
    }
   ],
   "source": [
    "bins = np.linspace(10,15, 100)\n",
    "plt.figure()\n",
    "plt.ylim(0,1200)\n",
    "plt.hist(drum_sh_hist[drum_sh_hist>0].ravel(), bins=bins, label='all data - drum')\n",
    "plt.hist(sh_centre_hist.ravel(), bins=bins, label='\"bubble\"')\n",
    "plt.legend(loc='upper right')\n",
    "plt.show()"
   ]
  },
  {
   "cell_type": "code",
   "execution_count": 17,
   "metadata": {},
   "outputs": [],
   "source": [
    "def distance_x_axis(histogram, indices, bins):\n",
    "    distance_yz = []\n",
    "    median = []\n",
    "    indices_x, indices_y, indices_z = indices\n",
    "    \n",
    "    bins_x, bins_y, bins_z = bins\n",
    "    for x, y, z in zip(indices_x, indices_y, indices_z):\n",
    "        if np.sqrt(bins_y[y]**2 + bins_z[z]**2)<=300:\n",
    "            #print(x,y,z,  np.sqrt(bins_x[x]**2+bins_y[y]**2), np.sqrt(bins_x[x]**2+bins_y[y]**2+bins_z[z]**2), histogram[x,y,z])\n",
    "            distance_yz.append(np.sqrt(bins_y[y]**2 + bins_z[z]**2))\n",
    "            median.append(histogram[x,y,z])\n",
    "    distance_yz = np.asarray(distance_yz)\n",
    "    median = np.asarray(median)\n",
    "    return distance_yz, median"
   ]
  },
  {
   "cell_type": "code",
   "execution_count": 18,
   "metadata": {},
   "outputs": [],
   "source": [
    "def distance_centre(histogram, indices, bins):\n",
    "    distance_xyz = []\n",
    "    median = []\n",
    "    indices_x, indices_y, indices_z = indices\n",
    "    bins_x, bins_y, bins_z = bins\n",
    "    for x, y, z in zip(indices_x, indices_y, indices_z):\n",
    "        if np.sqrt(bins_y[y]**2 + bins_z[z]**2)<=300:\n",
    "            distance_xyz.append(np.sqrt(bins_x[x]**2 + bins_y[y]**2 + bins_z[z]**2))\n",
    "            median.append(histogram[x,y,z])\n",
    "    distance_xyz = np.asarray(distance_xyz)\n",
    "    median = np.asarray(median)\n",
    "    return distance_xyz, median"
   ]
  },
  {
   "cell_type": "code",
   "execution_count": 19,
   "metadata": {},
   "outputs": [],
   "source": [
    "def distance_z(histogram, indices, bins):\n",
    "    distance_z = []\n",
    "    median = []\n",
    "    indices_x, indices_y, indices_z = indices\n",
    "    bins_x, bins_y, bins_z = bins\n",
    "    for x, y, z in zip(indices_x, indices_y, indices_z):\n",
    "        if np.sqrt(bins_y[y]**2 + bins_z[z]**2)<=300:\n",
    "            #print(x,y,z,  np.sqrt(bins_x[x]**2+bins_y[y]**2), np.sqrt(bins_x[x]**2+bins_y[y]**2+bins_z[z]**2), histogram[x,y,z])\n",
    "            distance_z.append(bins_z[z])\n",
    "            median.append(histogram[x,y,z])\n",
    "    distance_z = np.asarray(distance_z)\n",
    "    median = np.asarray(median)\n",
    "    return distance_z, median"
   ]
  },
  {
   "cell_type": "markdown",
   "metadata": {},
   "source": [
    "---"
   ]
  },
  {
   "cell_type": "markdown",
   "metadata": {},
   "source": [
    "---"
   ]
  },
  {
   "cell_type": "code",
   "execution_count": 1,
   "metadata": {},
   "outputs": [],
   "source": [
    "%load_ext autoreload"
   ]
  },
  {
   "cell_type": "code",
   "execution_count": 2,
   "metadata": {},
   "outputs": [],
   "source": [
    "%autoreload 2"
   ]
  },
  {
   "cell_type": "code",
   "execution_count": 3,
   "metadata": {},
   "outputs": [],
   "source": [
    "import os\n",
    "import uproot3"
   ]
  },
  {
   "cell_type": "code",
   "execution_count": 4,
   "metadata": {},
   "outputs": [],
   "source": [
    "from histogram_data import Bin"
   ]
  },
  {
   "cell_type": "code",
   "execution_count": 5,
   "metadata": {},
   "outputs": [],
   "source": [
    "%matplotlib widget"
   ]
  },
  {
   "cell_type": "code",
   "execution_count": 6,
   "metadata": {},
   "outputs": [],
   "source": [
    "infile_21l = 'data/largedrum_21L_dense_MedianCut_3cmVoxel_all.discriminator.root'"
   ]
  },
  {
   "cell_type": "code",
   "execution_count": 23,
   "metadata": {},
   "outputs": [],
   "source": [
    "fu = uproot3.open(infile_21l)\n",
    "histogram_21l = fu['histMedianMetric'].numpy()[0]\n",
    "bins_x, bins_y, bins_z = fu['histMedianMetric;1'].numpy()[1][0]"
   ]
  },
  {
   "cell_type": "code",
   "execution_count": 24,
   "metadata": {},
   "outputs": [],
   "source": [
    "bins = Bin(bins_x, bins_y, bins_z)"
   ]
  },
  {
   "cell_type": "code",
   "execution_count": 25,
   "metadata": {},
   "outputs": [],
   "source": [
    "from histogram_data import BinEdges"
   ]
  },
  {
   "cell_type": "code",
   "execution_count": 26,
   "metadata": {},
   "outputs": [
    {
     "data": {
      "text/plain": [
       "-440"
      ]
     },
     "execution_count": 26,
     "metadata": {},
     "output_type": "execute_result"
    }
   ],
   "source": [
    "x = (-440, 440)\n",
    "xe = BinEdges(*x)\n",
    "xe.low"
   ]
  },
  {
   "cell_type": "code",
   "execution_count": 27,
   "metadata": {},
   "outputs": [
    {
     "data": {
      "text/plain": [
       "(array([18, 19, 20, 21, 22, 23, 24, 25, 26, 27, 28, 29, 30, 31, 32, 33, 34,\n",
       "        35, 36, 37, 38, 39, 40, 41, 42, 43, 44, 45, 46, 47]),\n",
       " array([18, 19, 20, 21, 22, 23, 24, 25, 26, 27, 28, 29, 30, 31, 32, 33, 34,\n",
       "        35, 36, 37, 38, 39, 40, 41, 42, 43, 44, 45]),\n",
       " array([ 7,  8,  9, 10, 11, 12, 13, 14, 15, 16, 17, 18, 19, 20, 21, 22, 23,\n",
       "        24, 25]))"
      ]
     },
     "execution_count": 27,
     "metadata": {},
     "output_type": "execute_result"
    }
   ],
   "source": [
    "bins.select((-440, 440),(-440, 400), (-300, 300))"
   ]
  },
  {
   "cell_type": "code",
   "execution_count": 30,
   "metadata": {},
   "outputs": [
    {
     "ename": "TypeError",
     "evalue": "selected_centre() missing 1 required positional argument: 'sel_z'",
     "output_type": "error",
     "traceback": [
      "\u001b[0;31m---------------------------------------------------------------------------\u001b[0m",
      "\u001b[0;31mTypeError\u001b[0m                                 Traceback (most recent call last)",
      "\u001b[0;32m<ipython-input-30-43a21ffb10ec>\u001b[0m in \u001b[0;36m<module>\u001b[0;34m\u001b[0m\n\u001b[0;32m----> 1\u001b[0;31m \u001b[0mbins\u001b[0m\u001b[0;34m.\u001b[0m\u001b[0mselected_centre\u001b[0m\u001b[0;34m(\u001b[0m\u001b[0mbins\u001b[0m\u001b[0;34m.\u001b[0m\u001b[0mselect\u001b[0m\u001b[0;34m(\u001b[0m\u001b[0;34m(\u001b[0m\u001b[0;34m-\u001b[0m\u001b[0;36m440\u001b[0m\u001b[0;34m,\u001b[0m \u001b[0;36m440\u001b[0m\u001b[0;34m)\u001b[0m\u001b[0;34m,\u001b[0m\u001b[0;34m(\u001b[0m\u001b[0;34m-\u001b[0m\u001b[0;36m440\u001b[0m\u001b[0;34m,\u001b[0m \u001b[0;36m400\u001b[0m\u001b[0;34m)\u001b[0m\u001b[0;34m,\u001b[0m \u001b[0;34m(\u001b[0m\u001b[0;34m-\u001b[0m\u001b[0;36m300\u001b[0m\u001b[0;34m,\u001b[0m \u001b[0;36m300\u001b[0m\u001b[0;34m)\u001b[0m\u001b[0;34m)\u001b[0m\u001b[0;34m)\u001b[0m\u001b[0;34m\u001b[0m\u001b[0;34m\u001b[0m\u001b[0m\n\u001b[0m",
      "\u001b[0;31mTypeError\u001b[0m: selected_centre() missing 1 required positional argument: 'sel_z'"
     ]
    }
   ],
   "source": [
    "bins.selected_centre(bins.select((-440, 440),(-440, 400), (-300, 300)))"
   ]
  },
  {
   "cell_type": "code",
   "execution_count": 165,
   "metadata": {},
   "outputs": [],
   "source": [
    "\n",
    "\n",
    "class Hist:\n",
    "    \"\"\"\n",
    "    Contains all info of the input histogram, i.e. size, bins, indices, cut histogram, distances\n",
    "    \"\"\"\n",
    "    def __init__(self, infile):\n",
    "        self._fname = infile\n",
    "        self._read_file(infile)\n",
    "            \n",
    "    @staticmethod\n",
    "    def _read_file(infile):\n",
    "        fu = uproot3.open(infile)\n",
    "        hist = fu['histMedianMetric'].numpy()[0]\n",
    "        bins_x, bins_y, bins_z = fu['histMedianMetric;1'].numpy()[1][0]\n",
    "        self.histogram = hist\n",
    "        self.bins = Bin(bins_x, bins_y, bins_z)\n",
    "            \n",
    "    @property\n",
    "    def shape(self):\n",
    "        return self.histogram.shape\n",
    "    \n",
    "    def _default_bins_edges(self):\n",
    "        return BinEdges(xmin=self.bins_x.min(), xmax=self.bins_x.max(), \n",
    "                        ymin=self.bins_y.min(), ymax=self.bins_y.max(), \n",
    "                        zmin=self.bins_z.min(), zmax=self.bins_z.max())\n",
    "    \n",
    "    def cube_select_histogram(self, bin_edges: BinEdges=None):\n",
    "        \n",
    "        if bin_edges is None:\n",
    "            bin_edges = self._default_bins_edges()\n",
    "        \n",
    "        #print(sel_x, bincentre_x[sel_x],bincentre_sel_x)\n",
    "        xx, yy, zz = np.meshgrid(sel_x, sel_y, sel_z, indexing='ij')\n",
    "        selected_histogram = np.copy(self.histogram[xx, yy, zz])\n",
    "    \n",
    "        return selected_histogram, (bincentre_sel_x, bincentre_sel_y, bincentre_sel_z)\n",
    "    \n",
    "    def plot_data_distribution(self):\n",
    "        bins = np.linspace(10,15, 100)\n",
    "        plt.figure()\n",
    "        plt.ylim(0,1200)\n",
    "        plt.hist(self.histogram[self.histogram>0].ravel(), bins=bins, label='all data - drum')\n",
    "        plt.legend(loc='upper right')\n",
    "        plt.show()\n",
    "        \n",
    "        #itumen_left_hist, bins_left_bitumen = self.cube_select_histogram(histo, -440, -200, -300, 300, -300, 300)\n",
    "        #bitumen_right_hist, bins_right_bitumen = self.cube_select_histogram(histo, 200, 440, -300, 300, -300, 300)\n",
    "        #bubble_hist, bins_bubble = select_histogram_coords(histo, -100, 100, -100, 100, -100, 100)\n",
    "        #drum_hist, bins_drum = select_histogram_coords(histo, -440, 440, -300, 300, -300, 300)\n",
    "        #return bitumen_left_hist, bins_left_bitumen, bitumen_right_hist, bins_right_bitumen, bubble_hist, bins_bubble, drum_hist, bins_drum\n"
   ]
  },
  {
   "cell_type": "code",
   "execution_count": 166,
   "metadata": {},
   "outputs": [],
   "source": [
    "bt_histogram=Data(infile_bitumen)"
   ]
  },
  {
   "cell_type": "code",
   "execution_count": 167,
   "metadata": {},
   "outputs": [
    {
     "data": {
      "text/plain": [
       "(-1000.0, 1000.0, -1000.0, 1000.0, -500.0, 500.0)"
      ]
     },
     "execution_count": 167,
     "metadata": {},
     "output_type": "execute_result"
    }
   ],
   "source": [
    "bt_histogram._bins_edges()"
   ]
  },
  {
   "cell_type": "code",
   "execution_count": 168,
   "metadata": {
    "tags": []
   },
   "outputs": [
    {
     "data": {
      "text/plain": [
       "(array([[[0., 0., 0., ..., 0., 0., 0.],\n",
       "         [0., 0., 0., ..., 0., 0., 0.],\n",
       "         [0., 0., 0., ..., 0., 0., 0.],\n",
       "         ...,\n",
       "         [0., 0., 0., ..., 0., 0., 0.],\n",
       "         [0., 0., 0., ..., 0., 0., 0.],\n",
       "         [0., 0., 0., ..., 0., 0., 0.]],\n",
       " \n",
       "        [[0., 0., 0., ..., 0., 0., 0.],\n",
       "         [0., 0., 0., ..., 0., 0., 0.],\n",
       "         [0., 0., 0., ..., 0., 0., 0.],\n",
       "         ...,\n",
       "         [0., 0., 0., ..., 0., 0., 0.],\n",
       "         [0., 0., 0., ..., 0., 0., 0.],\n",
       "         [0., 0., 0., ..., 0., 0., 0.]],\n",
       " \n",
       "        [[0., 0., 0., ..., 0., 0., 0.],\n",
       "         [0., 0., 0., ..., 0., 0., 0.],\n",
       "         [0., 0., 0., ..., 0., 0., 0.],\n",
       "         ...,\n",
       "         [0., 0., 0., ..., 0., 0., 0.],\n",
       "         [0., 0., 0., ..., 0., 0., 0.],\n",
       "         [0., 0., 0., ..., 0., 0., 0.]],\n",
       " \n",
       "        ...,\n",
       " \n",
       "        [[0., 0., 0., ..., 0., 0., 0.],\n",
       "         [0., 0., 0., ..., 0., 0., 0.],\n",
       "         [0., 0., 0., ..., 0., 0., 0.],\n",
       "         ...,\n",
       "         [0., 0., 0., ..., 0., 0., 0.],\n",
       "         [0., 0., 0., ..., 0., 0., 0.],\n",
       "         [0., 0., 0., ..., 0., 0., 0.]],\n",
       " \n",
       "        [[0., 0., 0., ..., 0., 0., 0.],\n",
       "         [0., 0., 0., ..., 0., 0., 0.],\n",
       "         [0., 0., 0., ..., 0., 0., 0.],\n",
       "         ...,\n",
       "         [0., 0., 0., ..., 0., 0., 0.],\n",
       "         [0., 0., 0., ..., 0., 0., 0.],\n",
       "         [0., 0., 0., ..., 0., 0., 0.]],\n",
       " \n",
       "        [[0., 0., 0., ..., 0., 0., 0.],\n",
       "         [0., 0., 0., ..., 0., 0., 0.],\n",
       "         [0., 0., 0., ..., 0., 0., 0.],\n",
       "         ...,\n",
       "         [0., 0., 0., ..., 0., 0., 0.],\n",
       "         [0., 0., 0., ..., 0., 0., 0.],\n",
       "         [0., 0., 0., ..., 0., 0., 0.]]], dtype=float32),\n",
       " (array([-984.84848485, -954.54545455, -924.24242424, -893.93939394,\n",
       "         -863.63636364, -833.33333333, -803.03030303, -772.72727273,\n",
       "         -742.42424242, -712.12121212, -681.81818182, -651.51515152,\n",
       "         -621.21212121, -590.90909091, -560.60606061, -530.3030303 ,\n",
       "         -500.        , -469.6969697 , -439.39393939, -409.09090909,\n",
       "         -378.78787879, -348.48484848, -318.18181818, -287.87878788,\n",
       "         -257.57575758, -227.27272727, -196.96969697, -166.66666667,\n",
       "         -136.36363636, -106.06060606,  -75.75757576,  -45.45454545,\n",
       "          -15.15151515,   15.15151515,   45.45454545,   75.75757576,\n",
       "          106.06060606,  136.36363636,  166.66666667,  196.96969697,\n",
       "          227.27272727,  257.57575758,  287.87878788,  318.18181818,\n",
       "          348.48484848,  378.78787879,  409.09090909,  439.39393939,\n",
       "          469.6969697 ,  500.        ,  530.3030303 ,  560.60606061,\n",
       "          590.90909091,  621.21212121,  651.51515152,  681.81818182,\n",
       "          712.12121212,  742.42424242,  772.72727273,  803.03030303,\n",
       "          833.33333333,  863.63636364,  893.93939394,  924.24242424,\n",
       "          954.54545455,  984.84848485]),\n",
       "  array([-984.84848485, -954.54545455, -924.24242424, -893.93939394,\n",
       "         -863.63636364, -833.33333333, -803.03030303, -772.72727273,\n",
       "         -742.42424242, -712.12121212, -681.81818182, -651.51515152,\n",
       "         -621.21212121, -590.90909091, -560.60606061, -530.3030303 ,\n",
       "         -500.        , -469.6969697 , -439.39393939, -409.09090909,\n",
       "         -378.78787879, -348.48484848, -318.18181818, -287.87878788,\n",
       "         -257.57575758, -227.27272727, -196.96969697, -166.66666667,\n",
       "         -136.36363636, -106.06060606,  -75.75757576,  -45.45454545,\n",
       "          -15.15151515,   15.15151515,   45.45454545,   75.75757576,\n",
       "          106.06060606,  136.36363636,  166.66666667,  196.96969697,\n",
       "          227.27272727,  257.57575758,  287.87878788,  318.18181818,\n",
       "          348.48484848,  378.78787879,  409.09090909,  439.39393939,\n",
       "          469.6969697 ,  500.        ,  530.3030303 ,  560.60606061,\n",
       "          590.90909091,  621.21212121,  651.51515152,  681.81818182,\n",
       "          712.12121212,  742.42424242,  772.72727273,  803.03030303,\n",
       "          833.33333333,  863.63636364,  893.93939394,  924.24242424,\n",
       "          954.54545455,  984.84848485]),\n",
       "  array([-484.84848485, -454.54545455, -424.24242424, -393.93939394,\n",
       "         -363.63636364, -333.33333333, -303.03030303, -272.72727273,\n",
       "         -242.42424242, -212.12121212, -181.81818182, -151.51515152,\n",
       "         -121.21212121,  -90.90909091,  -60.60606061,  -30.3030303 ,\n",
       "            0.        ,   30.3030303 ,   60.60606061,   90.90909091,\n",
       "          121.21212121,  151.51515152,  181.81818182,  212.12121212,\n",
       "          242.42424242,  272.72727273,  303.03030303,  333.33333333,\n",
       "          363.63636364,  393.93939394,  424.24242424,  454.54545455,\n",
       "          484.84848485])))"
      ]
     },
     "execution_count": 168,
     "metadata": {},
     "output_type": "execute_result"
    }
   ],
   "source": [
    "bt_histogram.cube_select_histogram(bin_edges=bt_histogram._bins_edges())"
   ]
  },
  {
   "cell_type": "code",
   "execution_count": 120,
   "metadata": {
    "tags": []
   },
   "outputs": [],
   "source": [
    "bincentre_x = []\n",
    "for i, _ in enumerate(bins_x[:-1]):\n",
    "    #print(i, bins_x[i], bins_x[i+1],(bins_x[i]+bins_x[i+1])/2 )\n",
    "    bincentre_x.append((bins_x[i]+bins_x[i+1])/2)\n",
    "bincentre_x = np.asarray(bincentre_x)\n",
    "[12]:\n",
    "\n",
    "bincentre_y = []\n",
    "for i, _ in enumerate(bins_y[:-1]):\n",
    "    bincentre_y.append((bins_y[i]+bins_y[i+1])/2)\n",
    "bincentre_y = np.asarray(bincentre_y)\n",
    "[13]:\n",
    "\n",
    "bincentre_z = []\n",
    "for i, _ in enumerate(bins_z[:-1]):\n",
    "    bincentre_z.append((bins_z[i]+bins_z[i+1])/2)\n",
    "bincentre_z = np.asarray(bincentre_z)"
   ]
  },
  {
   "cell_type": "code",
   "execution_count": 122,
   "metadata": {},
   "outputs": [
    {
     "data": {
      "text/plain": [
       "(66, 66, 33)"
      ]
     },
     "execution_count": 122,
     "metadata": {},
     "output_type": "execute_result"
    }
   ],
   "source": [
    "select_histogram_coords(histogram_hydrogen, -1000,1000,-1000,1000,-500,500)[0].shape"
   ]
  },
  {
   "cell_type": "code",
   "execution_count": null,
   "metadata": {},
   "outputs": [],
   "source": []
  }
 ],
 "metadata": {
  "kernelspec": {
   "display_name": "Python 3",
   "language": "python",
   "name": "python3"
  },
  "language_info": {
   "codemirror_mode": {
    "name": "ipython",
    "version": 3
   },
   "file_extension": ".py",
   "mimetype": "text/x-python",
   "name": "python",
   "nbconvert_exporter": "python",
   "pygments_lexer": "ipython3",
   "version": "3.9.2"
  }
 },
 "nbformat": 4,
 "nbformat_minor": 4
}
