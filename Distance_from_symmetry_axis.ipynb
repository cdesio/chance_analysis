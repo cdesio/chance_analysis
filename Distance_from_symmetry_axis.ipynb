{
 "cells": [
  {
   "cell_type": "code",
   "execution_count": 1,
   "metadata": {},
   "outputs": [],
   "source": [
    "import numpy as np\n",
    "import uproot3\n",
    "import matplotlib.pyplot as plt"
   ]
  },
  {
   "cell_type": "code",
   "execution_count": 2,
   "metadata": {},
   "outputs": [],
   "source": [
    "%matplotlib widget"
   ]
  },
  {
   "cell_type": "code",
   "execution_count": 3,
   "metadata": {},
   "outputs": [],
   "source": [
    "infile_21l = 'data/largedrum_21L_dense_MedianCut_3cmVoxel_all.discriminator.root'"
   ]
  },
  {
   "cell_type": "code",
   "execution_count": 4,
   "metadata": {},
   "outputs": [],
   "source": [
    "fu = uproot3.open(infile_21l)\n",
    "histogram_21l = fu['histMedianMetric'].numpy()[0]\n",
    "bins_x, bins_y, bins_z = fu['histMedianMetric;1'].numpy()[1][0]\n",
    "shape_x, shape_y, shape_z = histogram_21l.shape"
   ]
  },
  {
   "cell_type": "markdown",
   "metadata": {},
   "source": [
    "#### Calculate bin centre"
   ]
  },
  {
   "cell_type": "code",
   "execution_count": 5,
   "metadata": {
    "tags": []
   },
   "outputs": [],
   "source": [
    "bincentre_x = []\n",
    "for i, _ in enumerate(bins_x[:-1]):\n",
    "    #print(i, bins_x[i], bins_x[i+1],(bins_x[i]+bins_x[i+1])/2 )\n",
    "    bincentre_x.append((bins_x[i]+bins_x[i+1])/2)\n",
    "bincentre_x = np.asarray(bincentre_x)"
   ]
  },
  {
   "cell_type": "code",
   "execution_count": 6,
   "metadata": {},
   "outputs": [],
   "source": [
    "bincentre_y = []\n",
    "for i, _ in enumerate(bins_y[:-1]):\n",
    "    bincentre_y.append((bins_y[i]+bins_y[i+1])/2)\n",
    "bincentre_y = np.asarray(bincentre_y)"
   ]
  },
  {
   "cell_type": "code",
   "execution_count": 7,
   "metadata": {},
   "outputs": [],
   "source": [
    "bincentre_z = []\n",
    "for i, _ in enumerate(bins_z[:-1]):\n",
    "    bincentre_z.append((bins_z[i]+bins_z[i+1])/2)\n",
    "bincentre_z = np.asarray(bincentre_z)"
   ]
  },
  {
   "cell_type": "code",
   "execution_count": 8,
   "metadata": {},
   "outputs": [],
   "source": [
    "def select_histogram_coords(histogram, x_min, x_max, y_min, y_max, z_min, z_max):\n",
    "    \n",
    "    sel_x = np.where(np.logical_and(bincentre_x>=x_min, bincentre_x<=x_max))[0]#[:-1]\n",
    "    sel_y = np.where(np.logical_and(bincentre_y>=y_min, bincentre_y<=y_max))[0]#[:-1]\n",
    "    sel_z = np.where(np.logical_and(bincentre_z>=z_min, bincentre_z<=z_max))[0]#[:-1]\n",
    "\n",
    "    bincentre_sel_x = bincentre_x[sel_x]\n",
    "    bincentre_sel_y = bincentre_y[sel_y] \n",
    "    bincentre_sel_z = bincentre_z[sel_z]\n",
    "    #print(sel_x, bincentre_x[sel_x],bincentre_sel_x)\n",
    "    xx, yy, zz = np.meshgrid(sel_x, sel_y, sel_z, indexing='ij')\n",
    "    selected_histogram = np.copy(histogram[xx, yy, zz])\n",
    "    \n",
    "    return selected_histogram, (bincentre_sel_x, bincentre_sel_y, bincentre_sel_z)"
   ]
  },
  {
   "cell_type": "markdown",
   "metadata": {},
   "source": [
    "#### select histogram portion (bitumen/bubble)"
   ]
  },
  {
   "cell_type": "code",
   "execution_count": 9,
   "metadata": {},
   "outputs": [],
   "source": [
    "bitumen_left_hist, bins_left_bitumen = select_histogram_coords(histogram_21l, -440, -200, -300, 300, -300, 300)"
   ]
  },
  {
   "cell_type": "code",
   "execution_count": 10,
   "metadata": {},
   "outputs": [],
   "source": [
    "bitumen_right_hist, bins_right_bitumen = select_histogram_coords(histogram_21l, 200, 440, -300, 300, -300, 300)"
   ]
  },
  {
   "cell_type": "code",
   "execution_count": 11,
   "metadata": {},
   "outputs": [],
   "source": [
    "bubble_hist, bins_bubble = select_histogram_coords(histogram_21l, -100, 100, -100, 100, -100, 100)"
   ]
  },
  {
   "cell_type": "code",
   "execution_count": 12,
   "metadata": {},
   "outputs": [],
   "source": [
    "drum_hist, bins_drum = select_histogram_coords(histogram_21l, -440, 440, -300, 300, -300, 300)"
   ]
  },
  {
   "cell_type": "markdown",
   "metadata": {},
   "source": [
    "#### for each voxel, calculate distance from the x axis and get metric value"
   ]
  },
  {
   "cell_type": "markdown",
   "metadata": {},
   "source": [
    "distance from x axis: sqrt(y^2+z^2)"
   ]
  },
  {
   "cell_type": "code",
   "execution_count": 13,
   "metadata": {},
   "outputs": [],
   "source": [
    "def distance_and_metric(histogram, indices, bins):\n",
    "    distance_yz = []\n",
    "    distance_xyz = []\n",
    "    distance_x = []\n",
    "    median = []\n",
    "    indices_x, indices_y, indices_z = indices\n",
    "    bins_x, bins_y, bins_z = bins\n",
    "    for x, y, z in zip(indices_x, indices_y, indices_z):\n",
    "        if np.sqrt(bins_y[y]**2 + bins_z[z]**2)<=300:\n",
    "            distance_yz.append(np.sqrt(bins_y[y]**2 + bins_z[z]**2))\n",
    "            distance_xyz.append(np.sqrt(bins_x[x]**2 + bins_y[y]**2 + bins_z[z]**2))\n",
    "            median.append(histogram[x,y,z])\n",
    "    distance_x = np.asarray(distance_x)\n",
    "    distance_yz = np.asarray(distance_yz)\n",
    "    distance_xyz = np.asarray(distance_xyz)\n",
    "    median = np.asarray(median)\n",
    "    distance_x = np.asarray(distance_x)\n",
    "    return distance_yz, median, distance_x, distance_xyz"
   ]
  },
  {
   "cell_type": "code",
   "execution_count": 14,
   "metadata": {},
   "outputs": [],
   "source": [
    "bt_left_dist, bt_left_med, bt_left_dx, bt_left_dxyz = distance_and_metric(bitumen_left_hist, np.where(bitumen_left_hist>0), bins_left_bitumen)\n",
    "bt_right_dist, bt_right_med, bt_right_dx, bt_right_dxyz = distance_and_metric(bitumen_right_hist, np.where(bitumen_right_hist>0), bins_right_bitumen)\n",
    "air_dist, air_med, air_dx, air_dxyz = distance_and_metric(bubble_hist,np.where(bubble_hist>0), bins_bubble)"
   ]
  },
  {
   "cell_type": "code",
   "execution_count": 15,
   "metadata": {},
   "outputs": [],
   "source": [
    "all_data_d, all_data_med, all_data_dx, all_data_dxyz = distance_and_metric(histogram_21l, np.where(histogram_21l>0), (bincentre_x, bincentre_y, bincentre_z))"
   ]
  },
  {
   "cell_type": "code",
   "execution_count": 16,
   "metadata": {
    "tags": []
   },
   "outputs": [],
   "source": [
    "all_data_drum_d, all_data_drum_med, all_data_drum_dx, all_data_drum_dxyz = distance_and_metric(drum_hist, np.where(drum_hist>=0),\n",
    "                                                                                               bins_drum)"
   ]
  },
  {
   "cell_type": "code",
   "execution_count": 17,
   "metadata": {
    "tags": []
   },
   "outputs": [
    {
     "data": {
      "application/vnd.jupyter.widget-view+json": {
       "model_id": "2882310fe6df475b859022fa88b59c90",
       "version_major": 2,
       "version_minor": 0
      },
      "text/plain": [
       "Canvas(toolbar=Toolbar(toolitems=[('Home', 'Reset original view', 'home', 'home'), ('Back', 'Back to previous …"
      ]
     },
     "metadata": {},
     "output_type": "display_data"
    }
   ],
   "source": [
    "plt.figure(figsize=(10,6))\n",
    "plt.scatter(all_data_drum_d, all_data_drum_med, c='cornflowerblue', s=5, marker='s', alpha=.5, label='alldata drum (metric>0)')\n",
    "plt.scatter(bt_left_dist, bt_left_med, c='darkgreen', s=5, marker='s', alpha=.3, label='bitumen left: (x in (-440;-200); y,z in (-300;300))')\n",
    "#plt.scatter(bt_right_dist, bt_right_med, c='goldenrod', s=10, marker='s', alpha=.3, label='bitumen: (x in (200;440); y,z in (-300;300))')\n",
    "\n",
    "plt.scatter(air_dist, air_med, c='crimson', s=5, marker='s', alpha=.5, label='bubble: x, y, z in (-100;100)')\n",
    "plt.axhline(11.265, linestyle='--', c='gray', linewidth=1)\n",
    "plt.text(-16,11.25,'11.265', fontsize=8)\n",
    "plt.ylim(9.5,13)\n",
    "#plt.ylim(0,15)\n",
    "#plt.yticks(np.arange(0,15,1))\n",
    "plt.xlabel('distance from x axis (mm)')\n",
    "plt.ylabel('metric')\n",
    "plt.legend(loc='upper left')\n",
    "plt.show()"
   ]
  },
  {
   "cell_type": "code",
   "execution_count": 18,
   "metadata": {},
   "outputs": [
    {
     "data": {
      "application/vnd.jupyter.widget-view+json": {
       "model_id": "744e380f026140029b1dc5c9c039525f",
       "version_major": 2,
       "version_minor": 0
      },
      "text/plain": [
       "Canvas(toolbar=Toolbar(toolitems=[('Home', 'Reset original view', 'home', 'home'), ('Back', 'Back to previous …"
      ]
     },
     "metadata": {},
     "output_type": "display_data"
    }
   ],
   "source": [
    "plt.figure(figsize=(10,6))\n",
    "plt.scatter(all_data_drum_d, all_data_drum_med, c='cornflowerblue', s=10, marker='s', alpha=.5, label='alldata drum (metric>0)')\n",
    "#plt.scatter(bt_left_dist, bt_left_med, c='darkgreen', s=10, marker='s', alpha=.3, label='bitumen: (x in (-440;-200); y,z in (-300;300))')\n",
    "plt.scatter(bt_right_dist, bt_right_med, c='goldenrod', s=10, marker='s', alpha=.3, label='bitumen right: (x in (200;440); y,z in (-300;300))')\n",
    "\n",
    "plt.scatter(air_dist, air_med, c='crimson', s=10, marker='s', alpha=.5, label='bubble: x, y, z in (-100;100)')\n",
    "plt.axhline(11.265, linestyle='--', c='gray', linewidth=1)\n",
    "plt.text(-16,11.25,'11.265', fontsize=8)\n",
    "plt.ylim(9.5,13)\n",
    "#plt.xlim(0,1200)\n",
    "plt.xlabel('distance from x axis (mm)')\n",
    "plt.ylabel('metric')\n",
    "plt.legend(loc='upper left')\n",
    "plt.show()"
   ]
  },
  {
   "cell_type": "code",
   "execution_count": 19,
   "metadata": {
    "tags": []
   },
   "outputs": [
    {
     "data": {
      "application/vnd.jupyter.widget-view+json": {
       "model_id": "2f333f80d899466d9a06d8fd68d05ac2",
       "version_major": 2,
       "version_minor": 0
      },
      "text/plain": [
       "Canvas(toolbar=Toolbar(toolitems=[('Home', 'Reset original view', 'home', 'home'), ('Back', 'Back to previous …"
      ]
     },
     "metadata": {},
     "output_type": "display_data"
    }
   ],
   "source": [
    "plt.figure(figsize=(10,6))\n",
    "plt.scatter(all_data_drum_dxyz, all_data_drum_med, c='cornflowerblue', s=10, marker='s', alpha=.5, label='alldata drum (metric>0)')\n",
    "#plt.scatter(bt_left_dist, bt_left_med, c='darkgreen', s=10, marker='s', alpha=.3, label='bitumen: (x in (-440;-200); y,z in (-300;300))')\n",
    "plt.scatter(bt_right_dxyz, bt_right_med, c='goldenrod', s=10, marker='s', alpha=.3, label='bitumen right: (x in (200;440); y,z in (-300;300))')\n",
    "\n",
    "plt.scatter(air_dxyz, air_med, c='crimson', s=10, marker='s', alpha=.5, label='bubble: x, y, z in (-100;100)')\n",
    "plt.axhline(11.265, linestyle='--', c='gray', linewidth=1)\n",
    "plt.text(-35,11.25,'11.265', fontsize=8)\n",
    "plt.ylim(9.5,13)\n",
    "#plt.xlim(0,1200)\n",
    "plt.xlabel('distance from (0;0;0) (mm)')\n",
    "plt.ylabel('metric')\n",
    "plt.legend(loc='upper left')\n",
    "plt.show()"
   ]
  },
  {
   "cell_type": "code",
   "execution_count": 20,
   "metadata": {},
   "outputs": [
    {
     "data": {
      "application/vnd.jupyter.widget-view+json": {
       "model_id": "2e4c1e199d2140a29ef269a52b53902d",
       "version_major": 2,
       "version_minor": 0
      },
      "text/plain": [
       "Canvas(toolbar=Toolbar(toolitems=[('Home', 'Reset original view', 'home', 'home'), ('Back', 'Back to previous …"
      ]
     },
     "metadata": {},
     "output_type": "display_data"
    }
   ],
   "source": [
    "plt.figure(figsize=(10,6))\n",
    "plt.scatter(all_data_drum_dxyz, all_data_drum_med, c='cornflowerblue', s=10, marker='s', alpha=.5, label='alldata drum (metric>0)')\n",
    "plt.scatter(bt_left_dxyz, bt_left_med, c='darkgreen', s=10, marker='s', alpha=.3, label='bitumen: (x in (-440;-200); y,z in (-300;300))')\n",
    "#plt.scatter(bt_right_dxyz, bt_right_med, c='goldenrod', s=10, marker='s', alpha=.3, label='bitumen right: (x in (200;440); y,z in (-300;300))')\n",
    "\n",
    "plt.scatter(air_dxyz, air_med, c='crimson', s=10, marker='s', alpha=.5, label='bubble: x, y, z in (-100;100)')\n",
    "plt.axhline(11.265, linestyle='--', c='gray', linewidth=1)\n",
    "plt.text(-35,11.25,'11.265', fontsize=8)\n",
    "plt.ylim(9.5,13)\n",
    "#plt.xlim(0,1200)\n",
    "plt.xlabel('distance from (0;0;0) (mm)')\n",
    "plt.ylabel('metric')\n",
    "plt.legend(loc='upper left')\n",
    "plt.show()"
   ]
  },
  {
   "cell_type": "code",
   "execution_count": 21,
   "metadata": {},
   "outputs": [
    {
     "data": {
      "application/vnd.jupyter.widget-view+json": {
       "model_id": "5857e7f0901d4dd5ba577b8ace3b51de",
       "version_major": 2,
       "version_minor": 0
      },
      "text/plain": [
       "Canvas(toolbar=Toolbar(toolitems=[('Home', 'Reset original view', 'home', 'home'), ('Back', 'Back to previous …"
      ]
     },
     "metadata": {},
     "output_type": "display_data"
    }
   ],
   "source": [
    "plt.figure(figsize=(10,6))\n",
    "plt.scatter(all_data_drum_dxyz, all_data_drum_med, c='cornflowerblue', s=10, marker='s', alpha=.5, label='alldata drum (metric>0)')\n",
    "plt.scatter(bt_left_dxyz, bt_left_med, c='darkgreen', s=10, marker='s', alpha=.3, label='bitumen: (x in (-440;-200); y,z in (-300;300))')\n",
    "plt.scatter(bt_right_dxyz, bt_right_med, c='goldenrod', s=10, marker='s', alpha=.3, label='bitumen right: (x in (200;440); y,z in (-300;300))')\n",
    "\n",
    "plt.scatter(air_dxyz, air_med, c='crimson', s=10, marker='s', alpha=.5, label='bubble: x, y, z in (-100;100)')\n",
    "plt.axhline(11.265, linestyle='--', c='gray', linewidth=1)\n",
    "plt.text(-35,11.25,'11.265', fontsize=8)\n",
    "plt.ylim(9.5,13)\n",
    "#plt.xlim(0,1200)\n",
    "plt.xlabel('distance from (0;0;0) (mm)')\n",
    "plt.ylabel('metric')\n",
    "plt.legend(loc='upper left')\n",
    "plt.show()"
   ]
  },
  {
   "cell_type": "code",
   "execution_count": 22,
   "metadata": {},
   "outputs": [
    {
     "data": {
      "application/vnd.jupyter.widget-view+json": {
       "model_id": "6ad0c1658a5a48929f3aff5bd606fb9f",
       "version_major": 2,
       "version_minor": 0
      },
      "text/plain": [
       "Canvas(toolbar=Toolbar(toolitems=[('Home', 'Reset original view', 'home', 'home'), ('Back', 'Back to previous …"
      ]
     },
     "metadata": {},
     "output_type": "display_data"
    }
   ],
   "source": [
    "bins = np.linspace(10,15, 100)\n",
    "plt.figure()\n",
    "plt.hist(drum_hist.ravel(), bins=bins, label='all data - drum')\n",
    "plt.hist(bitumen_left_hist.ravel(), alpha=.6,bins=bins, label='\"bitumen\" left')\n",
    "plt.hist(bitumen_right_hist.ravel(),alpha=.4, bins=bins, label='\"bitumen\" right')\n",
    "plt.ylim(0,1200)\n",
    "plt.hist(bubble_hist.ravel(), bins=bins, label='\"bubble\"')\n",
    "plt.legend(loc='upper right')\n",
    "plt.show()"
   ]
  },
  {
   "cell_type": "markdown",
   "metadata": {},
   "source": [
    "#### Bitumen Only"
   ]
  },
  {
   "cell_type": "code",
   "execution_count": 23,
   "metadata": {},
   "outputs": [],
   "source": [
    "infile_bitumen = 'data/largedrum_onlybitumen_dense_newmetrics_3cmVoxel_April2021.discriminator.root'"
   ]
  },
  {
   "cell_type": "code",
   "execution_count": 24,
   "metadata": {},
   "outputs": [],
   "source": [
    "fu = uproot3.open(infile_bitumen)\n",
    "histogram_bitumen = fu['histMedianMetric'].numpy()[0]\n",
    "bins_x, bins_y, bins_z = fu['histMedianMetric;1'].numpy()[1][0]\n",
    "shape_x, shape_y, shape_z = histogram_bitumen.shape"
   ]
  },
  {
   "cell_type": "code",
   "execution_count": 25,
   "metadata": {},
   "outputs": [],
   "source": [
    "bitumen_left_hist, bins_left_bitumen = select_histogram_coords(histogram_bitumen, -440, -200, -300, 300, -300, 300)"
   ]
  },
  {
   "cell_type": "code",
   "execution_count": 26,
   "metadata": {},
   "outputs": [],
   "source": [
    "bitumen_right_hist, bins_right_bitumen = select_histogram_coords(histogram_bitumen, 200, 440, -300, 300, -300, 300)"
   ]
  },
  {
   "cell_type": "code",
   "execution_count": 27,
   "metadata": {},
   "outputs": [],
   "source": [
    "bubble_hist, bins_bubble = select_histogram_coords(histogram_bitumen, -100, 100, -100, 100, -100, 100)"
   ]
  },
  {
   "cell_type": "code",
   "execution_count": 28,
   "metadata": {},
   "outputs": [],
   "source": [
    "drum_hist, bins_drum = select_histogram_coords(histogram_bitumen, -440, 440, -300, 300, -300, 300)"
   ]
  },
  {
   "cell_type": "code",
   "execution_count": 29,
   "metadata": {},
   "outputs": [],
   "source": [
    "bt_left_dist, bt_left_med, bt_left_dx, bt_left_dxyz = distance_and_metric(bitumen_left_hist, np.where(bitumen_left_hist>0), bins_left_bitumen)\n",
    "bt_right_dist, bt_right_med, bt_right_dx, bt_right_dxyz = distance_and_metric(bitumen_right_hist, np.where(bitumen_right_hist>0), bins_right_bitumen)\n",
    "air_dist, air_med, air_dx, air_dxyz = distance_and_metric(bubble_hist,np.where(bubble_hist>0), bins_bubble)"
   ]
  },
  {
   "cell_type": "code",
   "execution_count": 30,
   "metadata": {},
   "outputs": [],
   "source": [
    "all_data_d, all_data_med, all_data_dx, all_data_dxyz = distance_and_metric(histogram_bitumen, np.where(histogram_bitumen>0), (bincentre_x, bincentre_y, bincentre_z))"
   ]
  },
  {
   "cell_type": "code",
   "execution_count": 31,
   "metadata": {},
   "outputs": [],
   "source": [
    "all_data_drum_d, all_data_drum_med, all_data_drum_dx, all_data_drum_dxyz = distance_and_metric(drum_hist, np.where(drum_hist>0),\n",
    "                                                                                               bins_drum)"
   ]
  },
  {
   "cell_type": "code",
   "execution_count": 32,
   "metadata": {
    "tags": []
   },
   "outputs": [
    {
     "data": {
      "application/vnd.jupyter.widget-view+json": {
       "model_id": "9619b63d47bc48a58632d91610427af6",
       "version_major": 2,
       "version_minor": 0
      },
      "text/plain": [
       "Canvas(toolbar=Toolbar(toolitems=[('Home', 'Reset original view', 'home', 'home'), ('Back', 'Back to previous …"
      ]
     },
     "metadata": {},
     "output_type": "display_data"
    }
   ],
   "source": [
    "plt.figure(figsize=(10,6))\n",
    "plt.scatter(all_data_drum_d, all_data_drum_med, c='cornflowerblue', s=5, marker='s', alpha=.5, label='alldata drum (metric>0)')\n",
    "plt.scatter(bt_left_dist, bt_left_med, c='darkgreen', s=5, marker='s', alpha=.3, label='bitumen left: (x in (-440;-200); y,z in (-300;300))')\n",
    "#plt.scatter(bt_right_dist, bt_right_med, c='goldenrod', s=10, marker='s', alpha=.3, label='bitumen: (x in (200;440); y,z in (-300;300))')\n",
    "\n",
    "plt.scatter(air_dist, air_med, c='crimson', s=5, marker='s', alpha=.5, label='bubble: x, y, z in (-100;100)')\n",
    "plt.axhline(11.265, linestyle='--', c='gray', linewidth=1)\n",
    "plt.text(-16,11.25,'11.265', fontsize=8)\n",
    "plt.ylim(9.5,13)\n",
    "#plt.xlim(0,1200)\n",
    "plt.xlabel('distance from x axis (mm)')\n",
    "plt.ylabel('metric')\n",
    "plt.legend(loc='upper left')\n",
    "plt.show()"
   ]
  },
  {
   "cell_type": "code",
   "execution_count": 33,
   "metadata": {},
   "outputs": [
    {
     "data": {
      "application/vnd.jupyter.widget-view+json": {
       "model_id": "80f584a88c0b4614a73e930d4f64f20c",
       "version_major": 2,
       "version_minor": 0
      },
      "text/plain": [
       "Canvas(toolbar=Toolbar(toolitems=[('Home', 'Reset original view', 'home', 'home'), ('Back', 'Back to previous …"
      ]
     },
     "metadata": {},
     "output_type": "display_data"
    }
   ],
   "source": [
    "plt.figure(figsize=(10,6))\n",
    "plt.scatter(all_data_drum_d, all_data_drum_med, c='cornflowerblue', s=10, marker='s', alpha=.5, label='alldata drum (metric>0)')\n",
    "#plt.scatter(bt_left_dist, bt_left_med, c='darkgreen', s=10, marker='s', alpha=.3, label='bitumen: (x in (-440;-200); y,z in (-300;300))')\n",
    "plt.scatter(bt_right_dist, bt_right_med, c='goldenrod', s=10, marker='s', alpha=.3, label='bitumen right: (x in (200;440); y,z in (-300;300))')\n",
    "\n",
    "plt.scatter(air_dist, air_med, c='crimson', s=10, marker='s', alpha=.5, label='bubble: x, y, z in (-100;100)')\n",
    "plt.axhline(11.265, linestyle='--', c='gray', linewidth=1)\n",
    "plt.text(-16,11.25,'11.265', fontsize=8)\n",
    "plt.ylim(9.5,13)\n",
    "#plt.xlim(0,1200)\n",
    "plt.xlabel('distance from x axis (mm)')\n",
    "plt.ylabel('metric')\n",
    "plt.legend(loc='upper left')\n",
    "plt.show()"
   ]
  },
  {
   "cell_type": "code",
   "execution_count": 34,
   "metadata": {},
   "outputs": [
    {
     "data": {
      "application/vnd.jupyter.widget-view+json": {
       "model_id": "95d595f0501648ccb93f9793ef3dff1f",
       "version_major": 2,
       "version_minor": 0
      },
      "text/plain": [
       "Canvas(toolbar=Toolbar(toolitems=[('Home', 'Reset original view', 'home', 'home'), ('Back', 'Back to previous …"
      ]
     },
     "metadata": {},
     "output_type": "display_data"
    }
   ],
   "source": [
    "plt.figure(figsize=(10,6))\n",
    "plt.scatter(all_data_drum_dxyz, all_data_drum_med, c='cornflowerblue', s=10, marker='s', alpha=.5, label='alldata drum (metric>0)')\n",
    "plt.scatter(bt_left_dxyz, bt_left_med, c='darkgreen', s=10, marker='s', alpha=.3, label='bitumen: (x in (-440;-200); y,z in (-300;300))')\n",
    "#plt.scatter(bt_right_dxyz, bt_right_med, c='goldenrod', s=10, marker='s', alpha=.3, label='bitumen right: (x in (200;440); y,z in (-300;300))')\n",
    "\n",
    "plt.scatter(air_dxyz, air_med, c='crimson', s=10, marker='s', alpha=.5, label='bubble: x, y, z in (-100;100)')\n",
    "plt.axhline(11.265, linestyle='--', c='gray', linewidth=1)\n",
    "plt.text(-35,11.25,'11.265', fontsize=8)\n",
    "plt.ylim(9.5,13)\n",
    "#plt.xlim(0,1200)\n",
    "plt.xlabel('distance from (0;0;0) (mm)')\n",
    "plt.ylabel('metric')\n",
    "plt.legend(loc='upper left')\n",
    "plt.show()"
   ]
  },
  {
   "cell_type": "code",
   "execution_count": 35,
   "metadata": {},
   "outputs": [
    {
     "data": {
      "application/vnd.jupyter.widget-view+json": {
       "model_id": "ca8e66aaf59e483fb9feebcfb9a3f11d",
       "version_major": 2,
       "version_minor": 0
      },
      "text/plain": [
       "Canvas(toolbar=Toolbar(toolitems=[('Home', 'Reset original view', 'home', 'home'), ('Back', 'Back to previous …"
      ]
     },
     "metadata": {},
     "output_type": "display_data"
    }
   ],
   "source": [
    "plt.figure(figsize=(10,6))\n",
    "plt.scatter(all_data_drum_dxyz, all_data_drum_med, c='cornflowerblue', s=10, marker='s', alpha=.5, label='alldata drum (metric>0)')\n",
    "#plt.scatter(bt_left_dxyz, bt_left_med, c='darkgreen', s=10, marker='s', alpha=.3, label='bitumen: (x in (-440;-200); y,z in (-300;300))')\n",
    "plt.scatter(bt_right_dxyz, bt_right_med, c='goldenrod', s=10, marker='s', alpha=.3, label='bitumen right: (x in (200;440); y,z in (-300;300))')\n",
    "\n",
    "plt.scatter(air_dxyz, air_med, c='crimson', s=10, marker='s', alpha=.5, label='bubble: x, y, z in (-100;100)')\n",
    "plt.axhline(11.265, linestyle='--', c='gray', linewidth=1)\n",
    "plt.text(-35,11.25,'11.265', fontsize=8)\n",
    "plt.ylim(9.5,13)\n",
    "#plt.xlim(0,1200)\n",
    "plt.xlabel('distance from (0;0;0) (mm)')\n",
    "plt.ylabel('metric')\n",
    "plt.legend(loc='upper left')\n",
    "plt.show()"
   ]
  },
  {
   "cell_type": "code",
   "execution_count": 36,
   "metadata": {},
   "outputs": [
    {
     "data": {
      "application/vnd.jupyter.widget-view+json": {
       "model_id": "2fa544aad16d4a60b4ae2e5cd3aeabce",
       "version_major": 2,
       "version_minor": 0
      },
      "text/plain": [
       "Canvas(toolbar=Toolbar(toolitems=[('Home', 'Reset original view', 'home', 'home'), ('Back', 'Back to previous …"
      ]
     },
     "metadata": {},
     "output_type": "display_data"
    }
   ],
   "source": [
    "plt.figure(figsize=(10,6))\n",
    "plt.scatter(all_data_drum_dxyz, all_data_drum_med, c='cornflowerblue', s=10, marker='s', alpha=.5, label='alldata drum (metric>0)')\n",
    "plt.scatter(bt_left_dxyz, bt_left_med, c='darkgreen', s=10, marker='s', alpha=.3, label='bitumen: (x in (-440;-200); y,z in (-300;300))')\n",
    "plt.scatter(bt_right_dxyz, bt_right_med, c='goldenrod', s=10, marker='s', alpha=.3, label='bitumen right: (x in (200;440); y,z in (-300;300))')\n",
    "\n",
    "plt.scatter(air_dxyz, air_med, c='crimson', s=10, marker='s', alpha=.5, label='bubble: x, y, z in (-100;100)')\n",
    "plt.axhline(11.265, linestyle='--', c='gray', linewidth=1)\n",
    "plt.text(-35,11.25,'11.265', fontsize=8)\n",
    "plt.ylim(9.5,13)\n",
    "#plt.xlim(0,1200)\n",
    "plt.xlabel('distance from (0;0;0) (mm)')\n",
    "plt.ylabel('metric')\n",
    "plt.legend(loc='upper left')\n",
    "plt.show()"
   ]
  },
  {
   "cell_type": "code",
   "execution_count": 37,
   "metadata": {},
   "outputs": [
    {
     "data": {
      "application/vnd.jupyter.widget-view+json": {
       "model_id": "8ffc35b07f054da8a78e635243d8818e",
       "version_major": 2,
       "version_minor": 0
      },
      "text/plain": [
       "Canvas(toolbar=Toolbar(toolitems=[('Home', 'Reset original view', 'home', 'home'), ('Back', 'Back to previous …"
      ]
     },
     "metadata": {},
     "output_type": "display_data"
    }
   ],
   "source": [
    "bins = np.linspace(10,15, 100)\n",
    "plt.figure()\n",
    "plt.ylim(0,1200)\n",
    "plt.hist(drum_hist[drum_hist>0].ravel(), bins=bins, label='all data - drum')\n",
    "plt.hist(bitumen_left_hist.ravel(), alpha=.7,bins=bins, label='\"bitumen\" left')\n",
    "plt.hist(bitumen_right_hist.ravel(),alpha=.7, bins=bins, label='\"bitumen\" right')\n",
    "plt.hist(bubble_hist.ravel(), bins=bins, label='\"bubble\"')\n",
    "plt.legend(loc='upper right')\n",
    "plt.show()"
   ]
  },
  {
   "cell_type": "markdown",
   "metadata": {},
   "source": [
    "#### Hydrogen only"
   ]
  },
  {
   "cell_type": "code",
   "execution_count": 38,
   "metadata": {},
   "outputs": [],
   "source": [
    "infile_hydrogen = 'data/largedrum_onlyhydrogen_dense_newmetrics_3cmVoxel_April2021.discriminator.root'"
   ]
  },
  {
   "cell_type": "code",
   "execution_count": 39,
   "metadata": {},
   "outputs": [],
   "source": [
    "fu = uproot3.open(infile_hydrogen)\n",
    "histogram_hydrogen = fu['histMedianMetric'].numpy()[0]\n",
    "bins_x, bins_y, bins_z = fu['histMedianMetric;1'].numpy()[1][0]\n",
    "shape_x, shape_y, shape_z = histogram_hydrogen.shape"
   ]
  },
  {
   "cell_type": "code",
   "execution_count": 40,
   "metadata": {},
   "outputs": [],
   "source": [
    "bitumen_left_hist, bins_left_bitumen = select_histogram_coords(histogram_hydrogen, -440, -200, -300, 300, -300, 300)"
   ]
  },
  {
   "cell_type": "code",
   "execution_count": 41,
   "metadata": {},
   "outputs": [],
   "source": [
    "bitumen_right_hist, bins_right_bitumen = select_histogram_coords(histogram_hydrogen, 200, 440, -300, 300, -300, 300)"
   ]
  },
  {
   "cell_type": "code",
   "execution_count": 42,
   "metadata": {},
   "outputs": [],
   "source": [
    "bubble_hist, bins_bubble = select_histogram_coords(histogram_hydrogen, -100, 100, -100, 100, -100, 100)"
   ]
  },
  {
   "cell_type": "code",
   "execution_count": 43,
   "metadata": {},
   "outputs": [],
   "source": [
    "drum_hist, bins_drum = select_histogram_coords(histogram_hydrogen, -440, 440, -300, 300, -300, 300)"
   ]
  },
  {
   "cell_type": "code",
   "execution_count": 44,
   "metadata": {},
   "outputs": [],
   "source": [
    "bt_left_dist, bt_left_med, bt_left_dx, bt_left_dxyz = distance_and_metric(bitumen_left_hist, np.where(bitumen_left_hist>0), bins_left_bitumen)\n",
    "bt_right_dist, bt_right_med, bt_right_dx, bt_right_dxyz = distance_and_metric(bitumen_right_hist, np.where(bitumen_right_hist>0), bins_right_bitumen)\n",
    "air_dist, air_med, air_dx, air_dxyz = distance_and_metric(bubble_hist,np.where(bubble_hist>0), bins_bubble)"
   ]
  },
  {
   "cell_type": "code",
   "execution_count": 45,
   "metadata": {},
   "outputs": [],
   "source": [
    "all_data_d, all_data_med, all_data_dx, all_data_dxyz = distance_and_metric(histogram_bitumen, np.where(histogram_hydrogen>0), (bincentre_x, bincentre_y, bincentre_z))"
   ]
  },
  {
   "cell_type": "code",
   "execution_count": 46,
   "metadata": {},
   "outputs": [],
   "source": [
    "all_data_drum_d, all_data_drum_med, all_data_drum_dx, all_data_drum_dxyz = distance_and_metric(drum_hist, np.where(drum_hist>0),\n",
    "                                                                                               bins_drum)"
   ]
  },
  {
   "cell_type": "code",
   "execution_count": 47,
   "metadata": {
    "tags": []
   },
   "outputs": [
    {
     "data": {
      "application/vnd.jupyter.widget-view+json": {
       "model_id": "4d8d76a6e1e34905a94241ab64c2699d",
       "version_major": 2,
       "version_minor": 0
      },
      "text/plain": [
       "Canvas(toolbar=Toolbar(toolitems=[('Home', 'Reset original view', 'home', 'home'), ('Back', 'Back to previous …"
      ]
     },
     "metadata": {},
     "output_type": "display_data"
    }
   ],
   "source": [
    "plt.figure(figsize=(10,6))\n",
    "plt.scatter(all_data_drum_d, all_data_drum_med, c='cornflowerblue', s=5, marker='s', alpha=.5, label='alldata drum (metric>0)')\n",
    "plt.scatter(bt_left_dist, bt_left_med, c='darkgreen', s=5, marker='s', alpha=.3, label='bitumen left: (x in (-440;-200); y,z in (-300;300))')\n",
    "#plt.scatter(bt_right_dist, bt_right_med, c='goldenrod', s=10, marker='s', alpha=.3, label='bitumen: (x in (200;440); y,z in (-300;300))')\n",
    "\n",
    "plt.scatter(air_dist, air_med, c='crimson', s=5, marker='s', alpha=.5, label='bubble: x, y, z in (-100;100)')\n",
    "plt.axhline(11.265, linestyle='--', c='gray', linewidth=1)\n",
    "plt.text(-16,11.25,'11.265', fontsize=8)\n",
    "plt.ylim(9.5,13)\n",
    "#plt.xlim(0,1200)\n",
    "plt.xlabel('distance from x axis (mm)')\n",
    "plt.ylabel('metric')\n",
    "plt.legend(loc='upper left')\n",
    "plt.show()"
   ]
  },
  {
   "cell_type": "code",
   "execution_count": 48,
   "metadata": {},
   "outputs": [
    {
     "data": {
      "application/vnd.jupyter.widget-view+json": {
       "model_id": "83d00b1417074e8891857685fad197a1",
       "version_major": 2,
       "version_minor": 0
      },
      "text/plain": [
       "Canvas(toolbar=Toolbar(toolitems=[('Home', 'Reset original view', 'home', 'home'), ('Back', 'Back to previous …"
      ]
     },
     "metadata": {},
     "output_type": "display_data"
    }
   ],
   "source": [
    "plt.figure(figsize=(10,6))\n",
    "plt.scatter(all_data_drum_d, all_data_drum_med, c='cornflowerblue', s=10, marker='s', alpha=.5, label='alldata drum (metric>0)')\n",
    "#plt.scatter(bt_left_dist, bt_left_med, c='darkgreen', s=10, marker='s', alpha=.3, label='bitumen: (x in (-440;-200); y,z in (-300;300))')\n",
    "plt.scatter(bt_right_dist, bt_right_med, c='goldenrod', s=10, marker='s', alpha=.3, label='bitumen right: (x in (200;440); y,z in (-300;300))')\n",
    "\n",
    "plt.scatter(air_dist, air_med, c='crimson', s=10, marker='s', alpha=.5, label='bubble: x, y, z in (-100;100)')\n",
    "plt.axhline(11.265, linestyle='--', c='gray', linewidth=1)\n",
    "plt.text(-16,11.25,'11.265', fontsize=8)\n",
    "plt.ylim(9.5,13)\n",
    "#plt.xlim(0,1200)\n",
    "plt.xlabel('distance from x axis (mm)')\n",
    "plt.ylabel('metric')\n",
    "plt.legend(loc='upper left')\n",
    "plt.show()"
   ]
  },
  {
   "cell_type": "code",
   "execution_count": 49,
   "metadata": {},
   "outputs": [
    {
     "data": {
      "application/vnd.jupyter.widget-view+json": {
       "model_id": "3cfe58dcc4e146acb3ffe678a8cc7eb5",
       "version_major": 2,
       "version_minor": 0
      },
      "text/plain": [
       "Canvas(toolbar=Toolbar(toolitems=[('Home', 'Reset original view', 'home', 'home'), ('Back', 'Back to previous …"
      ]
     },
     "metadata": {},
     "output_type": "display_data"
    }
   ],
   "source": [
    "plt.figure(figsize=(10,6))\n",
    "plt.scatter(all_data_drum_dxyz, all_data_drum_med, c='cornflowerblue', s=10, marker='s', alpha=.5, label='alldata drum (metric>0)')\n",
    "plt.scatter(bt_left_dxyz, bt_left_med, c='darkgreen', s=10, marker='s', alpha=.3, label='bitumen: (x in (-440;-200); y,z in (-300;300))')\n",
    "#plt.scatter(bt_right_dxyz, bt_right_med, c='goldenrod', s=10, marker='s', alpha=.3, label='bitumen right: (x in (200;440); y,z in (-300;300))')\n",
    "\n",
    "plt.scatter(air_dxyz, air_med, c='crimson', s=10, marker='s', alpha=.5, label='bubble: x, y, z in (-100;100)')\n",
    "plt.axhline(11.265, linestyle='--', c='gray', linewidth=1)\n",
    "plt.text(-35,11.25,'11.265', fontsize=8)\n",
    "plt.ylim(9.5,13)\n",
    "#plt.xlim(0,1200)\n",
    "plt.xlabel('distance from (0;0;0) (mm)')\n",
    "plt.ylabel('metric')\n",
    "plt.legend(loc='upper left')\n",
    "plt.show()"
   ]
  },
  {
   "cell_type": "code",
   "execution_count": 50,
   "metadata": {},
   "outputs": [
    {
     "data": {
      "application/vnd.jupyter.widget-view+json": {
       "model_id": "b14b29e1d6a04ec0a95945506b22e474",
       "version_major": 2,
       "version_minor": 0
      },
      "text/plain": [
       "Canvas(toolbar=Toolbar(toolitems=[('Home', 'Reset original view', 'home', 'home'), ('Back', 'Back to previous …"
      ]
     },
     "metadata": {},
     "output_type": "display_data"
    }
   ],
   "source": [
    "plt.figure(figsize=(10,6))\n",
    "plt.scatter(all_data_drum_dxyz, all_data_drum_med, c='cornflowerblue', s=10, marker='s', alpha=.5, label='alldata drum (metric>0)')\n",
    "#plt.scatter(bt_left_dxyz, bt_left_med, c='darkgreen', s=10, marker='s', alpha=.3, label='bitumen: (x in (-440;-200); y,z in (-300;300))')\n",
    "plt.scatter(bt_right_dxyz, bt_right_med, c='goldenrod', s=10, marker='s', alpha=.3, label='bitumen right: (x in (200;440); y,z in (-300;300))')\n",
    "\n",
    "plt.scatter(air_dxyz, air_med, c='crimson', s=10, marker='s', alpha=.5, label='bubble: x, y, z in (-100;100)')\n",
    "plt.axhline(11.265, linestyle='--', c='gray', linewidth=1)\n",
    "plt.text(-35,11.25,'11.265', fontsize=8)\n",
    "plt.ylim(9.5,13)\n",
    "#plt.xlim(0,1200)\n",
    "plt.xlabel('distance from (0;0;0) (mm)')\n",
    "plt.ylabel('metric')\n",
    "plt.legend(loc='upper left')\n",
    "plt.show()"
   ]
  },
  {
   "cell_type": "code",
   "execution_count": 51,
   "metadata": {},
   "outputs": [
    {
     "data": {
      "application/vnd.jupyter.widget-view+json": {
       "model_id": "3dc2194d613c4549beb93b6db7f5ed59",
       "version_major": 2,
       "version_minor": 0
      },
      "text/plain": [
       "Canvas(toolbar=Toolbar(toolitems=[('Home', 'Reset original view', 'home', 'home'), ('Back', 'Back to previous …"
      ]
     },
     "metadata": {},
     "output_type": "display_data"
    }
   ],
   "source": [
    "plt.figure(figsize=(10,6))\n",
    "plt.scatter(all_data_drum_dxyz, all_data_drum_med, c='cornflowerblue', s=10, marker='s', alpha=.5, label='alldata drum (metric>0)')\n",
    "plt.scatter(bt_left_dxyz, bt_left_med, c='darkgreen', s=10, marker='s', alpha=.3, label='bitumen: (x in (-440;-200); y,z in (-300;300))')\n",
    "plt.scatter(bt_right_dxyz, bt_right_med, c='goldenrod', s=10, marker='s', alpha=.3, label='bitumen right: (x in (200;440); y,z in (-300;300))')\n",
    "\n",
    "plt.scatter(air_dxyz, air_med, c='crimson', s=10, marker='s', alpha=.5, label='bubble: x, y, z in (-100;100)')\n",
    "plt.axhline(11.265, linestyle='--', c='gray', linewidth=1)\n",
    "plt.text(-35,11.25,'11.265', fontsize=8)\n",
    "plt.ylim(9.5,13)\n",
    "#plt.xlim(0,1200)\n",
    "plt.xlabel('distance from (0;0;0) (mm)')\n",
    "plt.ylabel('metric')\n",
    "plt.legend(loc='upper left')\n",
    "plt.show()"
   ]
  },
  {
   "cell_type": "code",
   "execution_count": 52,
   "metadata": {},
   "outputs": [
    {
     "data": {
      "application/vnd.jupyter.widget-view+json": {
       "model_id": "7a7564d4d37c46c28598ed98b941330d",
       "version_major": 2,
       "version_minor": 0
      },
      "text/plain": [
       "Canvas(toolbar=Toolbar(toolitems=[('Home', 'Reset original view', 'home', 'home'), ('Back', 'Back to previous …"
      ]
     },
     "metadata": {},
     "output_type": "display_data"
    }
   ],
   "source": [
    "bins = np.linspace(10,15, 100)\n",
    "plt.figure()\n",
    "plt.ylim(0,1200)\n",
    "plt.hist(drum_hist[drum_hist>0].ravel(), bins=bins, label='all data - drum')\n",
    "plt.hist(bitumen_left_hist.ravel(), alpha=.7,bins=bins, label='\"bitumen\" left')\n",
    "plt.hist(bitumen_right_hist.ravel(),alpha=.7, bins=bins, label='\"bitumen\" right')\n",
    "plt.hist(bubble_hist.ravel(), bins=bins, label='\"bubble\"')\n",
    "plt.legend(loc='upper right')\n",
    "plt.show()"
   ]
  },
  {
   "cell_type": "markdown",
   "metadata": {},
   "source": [
    "#### Shifted Bubble"
   ]
  },
  {
   "cell_type": "code",
   "execution_count": 68,
   "metadata": {},
   "outputs": [],
   "source": [
    "infile_shifted = 'data/largedrum_21L_5cm_dense_newmetrics_3cmVoxel_April2021.discriminator.root'"
   ]
  },
  {
   "cell_type": "code",
   "execution_count": 69,
   "metadata": {},
   "outputs": [],
   "source": [
    "fu = uproot3.open(infile_bitumen)\n",
    "histogram_shifted = fu['histMedianMetric'].numpy()[0]\n",
    "bins_x, bins_y, bins_z = fu['histMedianMetric;1'].numpy()[1][0]\n",
    "shape_x, shape_y, shape_z = histogram_shifted.shape"
   ]
  },
  {
   "cell_type": "code",
   "execution_count": 70,
   "metadata": {},
   "outputs": [],
   "source": [
    "bitumen_left_hist, bins_left_bitumen = select_histogram_coords(histogram_shifted, -440, -200, -300, 300, -300, 300)"
   ]
  },
  {
   "cell_type": "code",
   "execution_count": 71,
   "metadata": {},
   "outputs": [],
   "source": [
    "bitumen_right_hist, bins_right_bitumen = select_histogram_coords(histogram_shifted, 200, 440, -300, 300, -300, 300)"
   ]
  },
  {
   "cell_type": "code",
   "execution_count": 72,
   "metadata": {},
   "outputs": [],
   "source": [
    "bubble_hist, bins_bubble = select_histogram_coords(histogram_shifted, -100, 100, -100, 100, -100, 100)"
   ]
  },
  {
   "cell_type": "code",
   "execution_count": 73,
   "metadata": {},
   "outputs": [],
   "source": [
    "drum_hist, bins_drum = select_histogram_coords(histogram_shifted, -440, 440, -300, 300, -300, 300)"
   ]
  },
  {
   "cell_type": "code",
   "execution_count": 74,
   "metadata": {},
   "outputs": [],
   "source": [
    "bt_left_dist, bt_left_med, bt_left_dx, bt_left_dxyz = distance_and_metric(bitumen_left_hist, np.where(bitumen_left_hist>0), bins_left_bitumen)\n",
    "bt_right_dist, bt_right_med, bt_right_dx, bt_right_dxyz = distance_and_metric(bitumen_right_hist, np.where(bitumen_right_hist>0), bins_right_bitumen)\n",
    "air_dist, air_med, air_dx, air_dxyz = distance_and_metric(bubble_hist,np.where(bubble_hist>0), bins_bubble)"
   ]
  },
  {
   "cell_type": "code",
   "execution_count": 75,
   "metadata": {},
   "outputs": [],
   "source": [
    "all_data_d, all_data_med, all_data_dx, all_data_dxyz = distance_and_metric(histogram_bitumen, np.where(histogram_bitumen>0), (bincentre_x, bincentre_y, bincentre_z))"
   ]
  },
  {
   "cell_type": "code",
   "execution_count": 76,
   "metadata": {},
   "outputs": [],
   "source": [
    "all_data_drum_d, all_data_drum_med, all_data_drum_dx, all_data_drum_dxyz = distance_and_metric(drum_hist, np.where(drum_hist>0),\n",
    "                                                                                               bins_drum)"
   ]
  },
  {
   "cell_type": "code",
   "execution_count": 77,
   "metadata": {
    "tags": []
   },
   "outputs": [
    {
     "data": {
      "application/vnd.jupyter.widget-view+json": {
       "model_id": "b34ee575cda84acda312f3cec84382bb",
       "version_major": 2,
       "version_minor": 0
      },
      "text/plain": [
       "Canvas(toolbar=Toolbar(toolitems=[('Home', 'Reset original view', 'home', 'home'), ('Back', 'Back to previous …"
      ]
     },
     "metadata": {},
     "output_type": "display_data"
    }
   ],
   "source": [
    "plt.figure(figsize=(10,6))\n",
    "plt.scatter(all_data_drum_d, all_data_drum_med, c='cornflowerblue', s=5, marker='s', alpha=.5, label='alldata drum (metric>0)')\n",
    "plt.scatter(bt_left_dist, bt_left_med, c='darkgreen', s=5, marker='s', alpha=.3, label='bitumen left: (x in (-440;-200); y,z in (-300;300))')\n",
    "#plt.scatter(bt_right_dist, bt_right_med, c='goldenrod', s=10, marker='s', alpha=.3, label='bitumen: (x in (200;440); y,z in (-300;300))')\n",
    "\n",
    "plt.scatter(air_dist, air_med, c='crimson', s=5, marker='s', alpha=.5, label='bubble: x, y, z in (-100;100)')\n",
    "plt.axhline(11.265, linestyle='--', c='gray', linewidth=1)\n",
    "plt.text(-16,11.25,'11.265', fontsize=8)\n",
    "plt.ylim(9.5,13)\n",
    "#plt.xlim(0,1200)\n",
    "plt.xlabel('distance from x axis (mm)')\n",
    "plt.ylabel('metric')\n",
    "plt.legend(loc='upper left')\n",
    "plt.show()"
   ]
  },
  {
   "cell_type": "code",
   "execution_count": 78,
   "metadata": {},
   "outputs": [
    {
     "data": {
      "application/vnd.jupyter.widget-view+json": {
       "model_id": "d8165a40e913470198b6e06b873e1ee6",
       "version_major": 2,
       "version_minor": 0
      },
      "text/plain": [
       "Canvas(toolbar=Toolbar(toolitems=[('Home', 'Reset original view', 'home', 'home'), ('Back', 'Back to previous …"
      ]
     },
     "metadata": {},
     "output_type": "display_data"
    }
   ],
   "source": [
    "plt.figure(figsize=(10,6))\n",
    "plt.scatter(all_data_drum_d, all_data_drum_med, c='cornflowerblue', s=10, marker='s', alpha=.5, label='alldata drum (metric>0)')\n",
    "#plt.scatter(bt_left_dist, bt_left_med, c='darkgreen', s=10, marker='s', alpha=.3, label='bitumen: (x in (-440;-200); y,z in (-300;300))')\n",
    "plt.scatter(bt_right_dist, bt_right_med, c='goldenrod', s=10, marker='s', alpha=.3, label='bitumen right: (x in (200;440); y,z in (-300;300))')\n",
    "\n",
    "plt.scatter(air_dist, air_med, c='crimson', s=10, marker='s', alpha=.5, label='bubble: x, y, z in (-100;100)')\n",
    "plt.axhline(11.265, linestyle='--', c='gray', linewidth=1)\n",
    "plt.text(-16,11.25,'11.265', fontsize=8)\n",
    "plt.ylim(9.5,13)\n",
    "#plt.xlim(0,1200)\n",
    "plt.xlabel('distance from x axis (mm)')\n",
    "plt.ylabel('metric')\n",
    "plt.legend(loc='upper left')\n",
    "plt.show()"
   ]
  },
  {
   "cell_type": "code",
   "execution_count": 79,
   "metadata": {},
   "outputs": [
    {
     "data": {
      "application/vnd.jupyter.widget-view+json": {
       "model_id": "56b45e3126494864afd2339876dc4b47",
       "version_major": 2,
       "version_minor": 0
      },
      "text/plain": [
       "Canvas(toolbar=Toolbar(toolitems=[('Home', 'Reset original view', 'home', 'home'), ('Back', 'Back to previous …"
      ]
     },
     "metadata": {},
     "output_type": "display_data"
    }
   ],
   "source": [
    "plt.figure(figsize=(10,6))\n",
    "plt.scatter(all_data_drum_dxyz, all_data_drum_med, c='cornflowerblue', s=10, marker='s', alpha=.5, label='alldata drum (metric>0)')\n",
    "plt.scatter(bt_left_dxyz, bt_left_med, c='darkgreen', s=10, marker='s', alpha=.3, label='bitumen: (x in (-440;-200); y,z in (-300;300))')\n",
    "#plt.scatter(bt_right_dxyz, bt_right_med, c='goldenrod', s=10, marker='s', alpha=.3, label='bitumen right: (x in (200;440); y,z in (-300;300))')\n",
    "\n",
    "plt.scatter(air_dxyz, air_med, c='crimson', s=10, marker='s', alpha=.5, label='bubble: x, y, z in (-100;100)')\n",
    "plt.axhline(11.265, linestyle='--', c='gray', linewidth=1)\n",
    "plt.text(-35,11.25,'11.265', fontsize=8)\n",
    "plt.ylim(9.5,13)\n",
    "#plt.xlim(0,1200)\n",
    "plt.xlabel('distance from (0;0;0) (mm)')\n",
    "plt.ylabel('metric')\n",
    "plt.legend(loc='upper left')\n",
    "plt.show()"
   ]
  },
  {
   "cell_type": "code",
   "execution_count": 80,
   "metadata": {},
   "outputs": [
    {
     "data": {
      "application/vnd.jupyter.widget-view+json": {
       "model_id": "bc6cfd14a72646a39866b724a3020dbf",
       "version_major": 2,
       "version_minor": 0
      },
      "text/plain": [
       "Canvas(toolbar=Toolbar(toolitems=[('Home', 'Reset original view', 'home', 'home'), ('Back', 'Back to previous …"
      ]
     },
     "metadata": {},
     "output_type": "display_data"
    }
   ],
   "source": [
    "plt.figure(figsize=(10,6))\n",
    "plt.scatter(all_data_drum_dxyz, all_data_drum_med, c='cornflowerblue', s=10, marker='s', alpha=.5, label='alldata drum (metric>0)')\n",
    "#plt.scatter(bt_left_dxyz, bt_left_med, c='darkgreen', s=10, marker='s', alpha=.3, label='bitumen: (x in (-440;-200); y,z in (-300;300))')\n",
    "plt.scatter(bt_right_dxyz, bt_right_med, c='goldenrod', s=10, marker='s', alpha=.3, label='bitumen right: (x in (200;440); y,z in (-300;300))')\n",
    "\n",
    "plt.scatter(air_dxyz, air_med, c='crimson', s=10, marker='s', alpha=.5, label='bubble: x, y, z in (-100;100)')\n",
    "plt.axhline(11.265, linestyle='--', c='gray', linewidth=1)\n",
    "plt.text(-35,11.25,'11.265', fontsize=8)\n",
    "plt.ylim(9.5,13)\n",
    "#plt.xlim(0,1200)\n",
    "plt.xlabel('distance from (0;0;0) (mm)')\n",
    "plt.ylabel('metric')\n",
    "plt.legend(loc='upper left')\n",
    "plt.show()"
   ]
  },
  {
   "cell_type": "code",
   "execution_count": 66,
   "metadata": {},
   "outputs": [
    {
     "data": {
      "application/vnd.jupyter.widget-view+json": {
       "model_id": "2eb597b676374d31a094553371f92857",
       "version_major": 2,
       "version_minor": 0
      },
      "text/plain": [
       "Canvas(toolbar=Toolbar(toolitems=[('Home', 'Reset original view', 'home', 'home'), ('Back', 'Back to previous …"
      ]
     },
     "metadata": {},
     "output_type": "display_data"
    }
   ],
   "source": [
    "plt.figure(figsize=(10,6))\n",
    "plt.scatter(all_data_drum_dxyz, all_data_drum_med, c='cornflowerblue', s=10, marker='s', alpha=.5, label='alldata drum (metric>0)')\n",
    "plt.scatter(bt_left_dxyz, bt_left_med, c='darkgreen', s=10, marker='s', alpha=.3, label='bitumen: (x in (-440;-200); y,z in (-300;300))')\n",
    "plt.scatter(bt_right_dxyz, bt_right_med, c='goldenrod', s=10, marker='s', alpha=.3, label='bitumen right: (x in (200;440); y,z in (-300;300))')\n",
    "\n",
    "plt.scatter(air_dxyz, air_med, c='crimson', s=10, marker='s', alpha=.5, label='bubble: x, y, z in (-100;100)')\n",
    "plt.axhline(11.265, linestyle='--', c='gray', linewidth=1)\n",
    "plt.text(-35,11.25,'11.265', fontsize=8)\n",
    "plt.ylim(9.5,13)\n",
    "#plt.xlim(0,1200)\n",
    "plt.xlabel('distance from (0;0;0) (mm)')\n",
    "plt.ylabel('metric')\n",
    "plt.legend(loc='upper left')\n",
    "plt.show()"
   ]
  },
  {
   "cell_type": "code",
   "execution_count": 67,
   "metadata": {},
   "outputs": [
    {
     "data": {
      "application/vnd.jupyter.widget-view+json": {
       "model_id": "44a0ecb360364ebebb17d978b95944c5",
       "version_major": 2,
       "version_minor": 0
      },
      "text/plain": [
       "Canvas(toolbar=Toolbar(toolitems=[('Home', 'Reset original view', 'home', 'home'), ('Back', 'Back to previous …"
      ]
     },
     "metadata": {},
     "output_type": "display_data"
    }
   ],
   "source": [
    "bins = np.linspace(10,15, 100)\n",
    "plt.figure()\n",
    "plt.ylim(0,1200)\n",
    "plt.hist(drum_hist[drum_hist>0].ravel(), bins=bins, label='all data - drum')\n",
    "plt.hist(bitumen_left_hist.ravel(), alpha=.7,bins=bins, label='\"bitumen\" left')\n",
    "plt.hist(bitumen_right_hist.ravel(),alpha=.7, bins=bins, label='\"bitumen\" right')\n",
    "plt.hist(bubble_hist.ravel(), bins=bins, label='\"bubble\"')\n",
    "plt.legend(loc='upper right')\n",
    "plt.show()"
   ]
  },
  {
   "cell_type": "code",
   "execution_count": null,
   "metadata": {},
   "outputs": [],
   "source": []
  }
 ],
 "metadata": {
  "kernelspec": {
   "display_name": "Python 3",
   "language": "python",
   "name": "python3"
  },
  "language_info": {
   "codemirror_mode": {
    "name": "ipython",
    "version": 3
   },
   "file_extension": ".py",
   "mimetype": "text/x-python",
   "name": "python",
   "nbconvert_exporter": "python",
   "pygments_lexer": "ipython3",
   "version": "3.9.2"
  }
 },
 "nbformat": 4,
 "nbformat_minor": 4
}
