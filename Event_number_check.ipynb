{
 "cells": [
  {
   "cell_type": "code",
   "execution_count": 1,
   "id": "f1145843",
   "metadata": {},
   "outputs": [],
   "source": [
    "import os, sys\n",
    "import numpy as np\n",
    "import matplotlib.pyplot as plt"
   ]
  },
  {
   "cell_type": "code",
   "execution_count": 2,
   "id": "99b7794c",
   "metadata": {},
   "outputs": [],
   "source": [
    "sys.path.append('../readmaroc/')"
   ]
  },
  {
   "cell_type": "code",
   "execution_count": 3,
   "id": "cfb3ddac",
   "metadata": {},
   "outputs": [],
   "source": [
    "from maroc_data import MarocData, Header"
   ]
  },
  {
   "cell_type": "code",
   "execution_count": 4,
   "id": "5417256e",
   "metadata": {},
   "outputs": [],
   "source": [
    "fname = '../data/0802/Run000087881.dat'"
   ]
  },
  {
   "cell_type": "code",
   "execution_count": 67,
   "id": "5dea85a8",
   "metadata": {
    "scrolled": false
   },
   "outputs": [
    {
     "name": "stdout",
     "output_type": "stream",
     "text": [
      "board 1, n_events: 1200, unique id: 1200\n",
      "board 2, n_events: 1200, unique id: 1200\n",
      "board 3, n_events: 1200, unique id: 1198\n",
      "\tmissing evt id: [475 535]\n",
      "board 4, n_events: 1200, unique id: 1200\n",
      "board 5, n_events: 1200, unique id: 1199\n",
      "\tmissing evt id: [610]\n",
      "board 6, n_events: 1200, unique id: 1200\n",
      "board 7, n_events: 1200, unique id: 1200\n",
      "board 8, n_events: 1200, unique id: 1200\n",
      "board 9, n_events: 1200, unique id: 1199\n",
      "\tmissing evt id: [1046]\n",
      "board 10, n_events: 1200, unique id: 1199\n",
      "\tmissing evt id: [1035]\n",
      "board 11, n_events: 1200, unique id: 1200\n",
      "board 12, n_events: 1199, unique id: 1198\n",
      "\tmissing evt id: [252]\n",
      "board 13, n_events: 1199, unique id: 1199\n",
      "board 14, n_events: 1199, unique id: 1198\n",
      "\tmissing evt id: [865]\n",
      "board 15, n_events: 1199, unique id: 1199\n",
      "board 16, n_events: 1199, unique id: 1198\n",
      "\tmissing evt id: [594]\n",
      "board 17, n_events: 1199, unique id: 1199\n",
      "board 18, n_events: 1199, unique id: 1199\n",
      "board 19, n_events: 1199, unique id: 1198\n",
      "\tmissing evt id: [740]\n",
      "board 20, n_events: 1200, unique id: 1200\n",
      "board 22, n_events: 1200, unique id: 1200\n",
      "board 23, n_events: 1200, unique id: 1199\n",
      "\tmissing evt id: [698]\n",
      "board 24, n_events: 1200, unique id: 1198\n",
      "\tmissing evt id: [378 521]\n",
      "board 25, n_events: 1200, unique id: 1200\n",
      "board 26, n_events: 1200, unique id: 1200\n",
      "board 27, n_events: 1199, unique id: 1199\n",
      "\tmissing evt id: [993]\n",
      "board 28, n_events: 1200, unique id: 1199\n",
      "\tmissing evt id: [1144]\n",
      "board 29, n_events: 1200, unique id: 1199\n",
      "\tmissing evt id: [788]\n",
      "board 30, n_events: 1200, unique id: 1199\n",
      "\tmissing evt id: [828]\n"
     ]
    }
   ],
   "source": [
    "data = MarocData(fname)\n",
    "for b in data.active_boards:\n",
    "    events = np.asarray([Header(i).trigg_n_TS for i in data.header_board(b)])[1:]\n",
    "    nevt = data.nevents_per_board(b)\n",
    "    diff = np.setdiff1d(np.arange(nevt)[1:], np.unique(events))\n",
    "    print('board {}, n_events: {}, unique id: {}'.format(b, nevt-1, np.unique(events).shape[0]))\n",
    "    if len(diff):\n",
    "        print('\\tmissing evt id: {}'.format(diff))\n",
    "    #print(np.arange(data.nevents_per_board(b))[np.setdiff1d(np.unique(events), np.arange(data.nevents_per_board(b)))])"
   ]
  },
  {
   "cell_type": "code",
   "execution_count": 50,
   "id": "a6c47fd9",
   "metadata": {},
   "outputs": [],
   "source": [
    "events = np.asarray([Header(i).trigg_n_TS for i in data.header_board(1)])"
   ]
  },
  {
   "cell_type": "code",
   "execution_count": 52,
   "id": "d7d81450",
   "metadata": {},
   "outputs": [
    {
     "data": {
      "text/plain": [
       "(array([   0,    1,    2, ..., 1198, 1199, 1200]),)"
      ]
     },
     "execution_count": 52,
     "metadata": {},
     "output_type": "execute_result"
    }
   ],
   "source": [
    "np.unique(events)\n",
    "np.where(np.arange(1201) - np.unique(events))"
   ]
  },
  {
   "cell_type": "code",
   "execution_count": 53,
   "id": "133b2956",
   "metadata": {},
   "outputs": [
    {
     "data": {
      "text/plain": [
       "array([   1,    2,    3, ..., 1198, 1199, 1200])"
      ]
     },
     "execution_count": 53,
     "metadata": {},
     "output_type": "execute_result"
    }
   ],
   "source": [
    "np.intersect1d(np.arange(1201), np.unique(events))"
   ]
  },
  {
   "cell_type": "code",
   "execution_count": 58,
   "id": "d057101b",
   "metadata": {},
   "outputs": [
    {
     "data": {
      "text/plain": [
       "array([0])"
      ]
     },
     "execution_count": 58,
     "metadata": {},
     "output_type": "execute_result"
    }
   ],
   "source": [
    "np.arange(1201)[np.setdiff1d(np.arange(1201), np.unique(events[1:]))]"
   ]
  },
  {
   "cell_type": "code",
   "execution_count": 46,
   "id": "8d16620e",
   "metadata": {},
   "outputs": [
    {
     "data": {
      "text/plain": [
       "995"
      ]
     },
     "execution_count": 46,
     "metadata": {},
     "output_type": "execute_result"
    }
   ],
   "source": [
    "events[994]"
   ]
  },
  {
   "cell_type": "code",
   "execution_count": 47,
   "id": "5b89c0d8",
   "metadata": {},
   "outputs": [
    {
     "data": {
      "text/plain": [
       "array([992, 994, 995, 996, 997])"
      ]
     },
     "execution_count": 47,
     "metadata": {},
     "output_type": "execute_result"
    }
   ],
   "source": [
    "events[992:997]"
   ]
  },
  {
   "cell_type": "code",
   "execution_count": 33,
   "id": "e229bdb1",
   "metadata": {},
   "outputs": [
    {
     "data": {
      "text/plain": [
       "array([2312230670])"
      ]
     },
     "execution_count": 33,
     "metadata": {},
     "output_type": "execute_result"
    }
   ],
   "source": [
    "np.setdiff1d(np.unique(events), np.arange(1201))"
   ]
  },
  {
   "cell_type": "code",
   "execution_count": null,
   "id": "ba867531",
   "metadata": {},
   "outputs": [],
   "source": []
  }
 ],
 "metadata": {
  "kernelspec": {
   "display_name": "Python 3",
   "language": "python",
   "name": "python3"
  },
  "language_info": {
   "codemirror_mode": {
    "name": "ipython",
    "version": 3
   },
   "file_extension": ".py",
   "mimetype": "text/x-python",
   "name": "python",
   "nbconvert_exporter": "python",
   "pygments_lexer": "ipython3",
   "version": "3.9.4"
  }
 },
 "nbformat": 4,
 "nbformat_minor": 5
}
