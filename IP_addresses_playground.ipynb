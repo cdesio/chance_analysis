{
 "cells": [
  {
   "cell_type": "code",
   "execution_count": 5,
   "metadata": {},
   "outputs": [],
   "source": [
    "import numpy as np\n",
    "import itertools"
   ]
  },
  {
   "cell_type": "code",
   "execution_count": 6,
   "metadata": {},
   "outputs": [],
   "source": [
    "l = list(itertools.product([0,1], repeat=4))"
   ]
  },
  {
   "cell_type": "code",
   "execution_count": 7,
   "metadata": {},
   "outputs": [
    {
     "data": {
      "text/plain": [
       "[(0, 0, 0, 0),\n",
       " (0, 0, 0, 1),\n",
       " (0, 0, 1, 0),\n",
       " (0, 0, 1, 1),\n",
       " (0, 1, 0, 0),\n",
       " (0, 1, 0, 1),\n",
       " (0, 1, 1, 0),\n",
       " (0, 1, 1, 1),\n",
       " (1, 0, 0, 0),\n",
       " (1, 0, 0, 1),\n",
       " (1, 0, 1, 0),\n",
       " (1, 0, 1, 1),\n",
       " (1, 1, 0, 0),\n",
       " (1, 1, 0, 1),\n",
       " (1, 1, 1, 0),\n",
       " (1, 1, 1, 1)]"
      ]
     },
     "execution_count": 7,
     "metadata": {},
     "output_type": "execute_result"
    }
   ],
   "source": [
    "for comb in l:\n",
    "    print()"
   ]
  },
  {
   "cell_type": "code",
   "execution_count": 31,
   "metadata": {},
   "outputs": [],
   "source": [
    "def calculate_ip(switch, jumper=0):\n",
    "    comb = []\n",
    "    for exp, nb in enumerate(switch):\n",
    "        comb.append((2**exp)*nb)\n",
    "    return np.sum(comb)*16+jumper, comb"
   ]
  },
  {
   "cell_type": "code",
   "execution_count": 33,
   "metadata": {},
   "outputs": [
    {
     "name": "stdout",
     "output_type": "stream",
     "text": [
      "(0, 0, 0, 0) [0, 0, 0, 0] 0 jumper: 0\n",
      "(0, 0, 0, 0) [0, 0, 0, 0] 1 jumper: 1\n",
      "(0, 0, 0, 1) [0, 0, 0, 8] 128 jumper: 0\n",
      "(0, 0, 0, 1) [0, 0, 0, 8] 129 jumper: 1\n",
      "(0, 0, 1, 0) [0, 0, 4, 0] 64 jumper: 0\n",
      "(0, 0, 1, 0) [0, 0, 4, 0] 65 jumper: 1\n",
      "(0, 0, 1, 1) [0, 0, 4, 8] 192 jumper: 0\n",
      "(0, 0, 1, 1) [0, 0, 4, 8] 193 jumper: 1\n",
      "(0, 1, 0, 0) [0, 2, 0, 0] 32 jumper: 0\n",
      "(0, 1, 0, 0) [0, 2, 0, 0] 33 jumper: 1\n",
      "(0, 1, 0, 1) [0, 2, 0, 8] 160 jumper: 0\n",
      "(0, 1, 0, 1) [0, 2, 0, 8] 161 jumper: 1\n",
      "(0, 1, 1, 0) [0, 2, 4, 0] 96 jumper: 0\n",
      "(0, 1, 1, 0) [0, 2, 4, 0] 97 jumper: 1\n",
      "(0, 1, 1, 1) [0, 2, 4, 8] 224 jumper: 0\n",
      "(0, 1, 1, 1) [0, 2, 4, 8] 225 jumper: 1\n",
      "(1, 0, 0, 0) [1, 0, 0, 0] 16 jumper: 0\n",
      "(1, 0, 0, 0) [1, 0, 0, 0] 17 jumper: 1\n",
      "(1, 0, 0, 1) [1, 0, 0, 8] 144 jumper: 0\n",
      "(1, 0, 0, 1) [1, 0, 0, 8] 145 jumper: 1\n",
      "(1, 0, 1, 0) [1, 0, 4, 0] 80 jumper: 0\n",
      "(1, 0, 1, 0) [1, 0, 4, 0] 81 jumper: 1\n",
      "(1, 0, 1, 1) [1, 0, 4, 8] 208 jumper: 0\n",
      "(1, 0, 1, 1) [1, 0, 4, 8] 209 jumper: 1\n",
      "(1, 1, 0, 0) [1, 2, 0, 0] 48 jumper: 0\n",
      "(1, 1, 0, 0) [1, 2, 0, 0] 49 jumper: 1\n",
      "(1, 1, 0, 1) [1, 2, 0, 8] 176 jumper: 0\n",
      "(1, 1, 0, 1) [1, 2, 0, 8] 177 jumper: 1\n",
      "(1, 1, 1, 0) [1, 2, 4, 0] 112 jumper: 0\n",
      "(1, 1, 1, 0) [1, 2, 4, 0] 113 jumper: 1\n",
      "(1, 1, 1, 1) [1, 2, 4, 8] 240 jumper: 0\n",
      "(1, 1, 1, 1) [1, 2, 4, 8] 241 jumper: 1\n"
     ]
    }
   ],
   "source": [
    "ips = []\n",
    "for comb in l:\n",
    "    for jump in [0,1]:\n",
    "        ip, sw = calculate_ip(comb, jump)\n",
    "        ips.append(ip)\n",
    "        print(comb, sw, ip, 'jumper: {}'.format(jump))"
   ]
  },
  {
   "cell_type": "code",
   "execution_count": 36,
   "metadata": {},
   "outputs": [
    {
     "name": "stdout",
     "output_type": "stream",
     "text": [
      "[ 16  17  32  33  48  49  64  65  80  81  96  97 112 113 128 129 144 145\n",
      " 160 161 176 177 192 193 208 209 224 225 240 241]\n"
     ]
    }
   ],
   "source": [
    "print(np.sort(ips)[2:])"
   ]
  },
  {
   "cell_type": "code",
   "execution_count": null,
   "metadata": {},
   "outputs": [],
   "source": []
  },
  {
   "cell_type": "code",
   "execution_count": null,
   "metadata": {},
   "outputs": [],
   "source": []
  }
 ],
 "metadata": {
  "kernelspec": {
   "display_name": "Python 3",
   "language": "python",
   "name": "python3"
  },
  "language_info": {
   "codemirror_mode": {
    "name": "ipython",
    "version": 3
   },
   "file_extension": ".py",
   "mimetype": "text/x-python",
   "name": "python",
   "nbconvert_exporter": "python",
   "pygments_lexer": "ipython3",
   "version": "3.9.1"
  }
 },
 "nbformat": 4,
 "nbformat_minor": 4
}
