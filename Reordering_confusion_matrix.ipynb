{
 "cells": [
  {
   "cell_type": "code",
   "execution_count": 2,
   "metadata": {},
   "outputs": [],
   "source": [
    "import os, sys\n",
    "import numpy as np\n",
    "import matplotlib.pyplot as plt\n",
    "sys.path.append('../readmaroc')\n",
    "\n",
    "from maroc_data_new_tboard import MarocData\n",
    "\n",
    "from functools import partial\n",
    "from collections import Counter\n",
    "from operator import add\n",
    "from functools import reduce\n",
    "from scipy.stats import norm\n",
    "\n",
    "input_dat = '../data/Run000137492.dat'\n",
    "#input_dat= '../readmaroc/data/farm/Run000092044.dat' \n",
    "marocdata = MarocData(input_dat)\n",
    "\n",
    "y_offset = [12000, 10000, 8000, 4000, 2000]"
   ]
  },
  {
   "cell_type": "code",
   "execution_count": 9,
   "metadata": {},
   "outputs": [],
   "source": [
    "marocs = [(i, j) for i, j in zip(np.arange(0, 384, 64), np.arange(0, 384, 64)[1:])]"
   ]
  },
  {
   "cell_type": "code",
   "execution_count": 10,
   "metadata": {},
   "outputs": [
    {
     "data": {
      "text/plain": [
       "[(0, 64), (64, 128), (128, 192), (192, 256), (256, 320)]"
      ]
     },
     "execution_count": 10,
     "metadata": {},
     "output_type": "execute_result"
    }
   ],
   "source": [
    "marocs"
   ]
  },
  {
   "cell_type": "code",
   "execution_count": 12,
   "metadata": {},
   "outputs": [
    {
     "data": {
      "image/png": "[encoded data removed]",
      "text/plain": [
       "<Figure size 432x288 with 1 Axes>"
      ]
     },
     "metadata": {
      "needs_background": "light"
     },
     "output_type": "display_data"
    }
   ],
   "source": [
    "\n",
    "plt.plot(np.arange(320), \n",
    "         marocdata.get_board(23).signals[853+marocdata.get_board(23).reference_event.evt_id])\n",
    "plt.ylim(0,2000)\n",
    "plt.xlim(0,320)\n",
    "for i , j in marocs:\n",
    "    plt.axvline(j)"
   ]
  },
  {
   "cell_type": "code",
   "execution_count": null,
   "metadata": {},
   "outputs": [],
   "source": []
  }
 ],
 "metadata": {
  "kernelspec": {
   "display_name": "Python 3",
   "language": "python",
   "name": "python3"
  },
  "language_info": {
   "codemirror_mode": {
    "name": "ipython",
    "version": 3
   },
   "file_extension": ".py",
   "mimetype": "text/x-python",
   "name": "python",
   "nbconvert_exporter": "python",
   "pygments_lexer": "ipython3",
   "version": "3.8.5"
  }
 },
 "nbformat": 4,
 "nbformat_minor": 4
}
