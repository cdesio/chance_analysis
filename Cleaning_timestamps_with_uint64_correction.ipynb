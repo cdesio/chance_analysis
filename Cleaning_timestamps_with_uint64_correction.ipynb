{
 "cells": [
  {
   "cell_type": "code",
   "execution_count": 1,
   "id": "dba1c2fb",
   "metadata": {},
   "outputs": [],
   "source": [
    "import os, sys\n",
    "import numpy as np\n",
    "\n",
    "import matplotlib.pyplot as plt\n",
    "sys.path.append('../readmaroc')\n",
    "%matplotlib notebook\n",
    "from maroc_data_new_tboard import MarocData\n",
    "from functools import partial\n",
    "from scipy.stats import norm\n",
    "input_dat = '../data/Run000133072.dat'\n",
    "marocdata = MarocData(input_dat)"
   ]
  },
  {
   "cell_type": "code",
   "execution_count": null,
   "id": "e7bc7eda",
   "metadata": {},
   "outputs": [],
   "source": [
    "for board in marocdata.active_boards:\n",
    "    board_data = marocdata.get_board(board)\n",
    "    ts = [evt.TS for evt in board_data.events.items()"
   ]
  }
 ],
 "metadata": {
  "kernelspec": {
   "display_name": "Python 3",
   "language": "python",
   "name": "python3"
  },
  "language_info": {
   "codemirror_mode": {
    "name": "ipython",
    "version": 3
   },
   "file_extension": ".py",
   "mimetype": "text/x-python",
   "name": "python",
   "nbconvert_exporter": "python",
   "pygments_lexer": "ipython3",
   "version": "3.9.4"
  }
 },
 "nbformat": 4,
 "nbformat_minor": 5
}
