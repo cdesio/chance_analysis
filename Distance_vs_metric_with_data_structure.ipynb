{
 "cells": [
  {
   "cell_type": "code",
   "execution_count": 1,
   "metadata": {},
   "outputs": [],
   "source": [
    "%load_ext autoreload"
   ]
  },
  {
   "cell_type": "code",
   "execution_count": 2,
   "metadata": {},
   "outputs": [],
   "source": [
    "%autoreload 2"
   ]
  },
  {
   "cell_type": "code",
   "execution_count": 3,
   "metadata": {},
   "outputs": [],
   "source": [
    "import matplotlib.pyplot as plt"
   ]
  },
  {
   "cell_type": "code",
   "execution_count": 4,
   "metadata": {},
   "outputs": [],
   "source": [
    "%matplotlib widget"
   ]
  },
  {
   "cell_type": "code",
   "execution_count": 6,
   "metadata": {},
   "outputs": [],
   "source": [
    "histogram21l = Hist('data/largedrum_21L_dense_MedianCut_3cmVoxel_all.discriminator.root')\n",
    "histogram_bitumen = Hist(infile='data/largedrum_onlybitumen_dense_newmetrics_3cmVoxel_April2021.discriminator.root')\n",
    "histogram_hydrogen = Hist(infile='data/largedrum_onlyhydrogen_dense_newmetrics_3cmVoxel_April2021.discriminator.root')"
   ]
  },
  {
   "cell_type": "code",
   "execution_count": 7,
   "metadata": {},
   "outputs": [],
   "source": [
    "centre_21l = histogram21l.cube_select(Bin(-100,100), Bin(-100,100), Bin(-100,100))\n",
    "centre_bitumen = histogram_bitumen.cube_select(Bin(-100,100), Bin(-100,100), Bin(-100,100))\n",
    "centre_hydrogen = histogram_hydrogen.cube_select(Bin(-100,100), Bin(-100,100), Bin(-100,100))"
   ]
  },
  {
   "cell_type": "code",
   "execution_count": 22,
   "metadata": {},
   "outputs": [
    {
     "data": {
      "application/vnd.jupyter.widget-view+json": {
       "model_id": "04b799c9b06348e7a5d7821ad2d0b979",
       "version_major": 2,
       "version_minor": 0
      },
      "text/plain": [
       "Canvas(toolbar=Toolbar(toolitems=[('Home', 'Reset original view', 'home', 'home'), ('Back', 'Back to previous …"
      ]
     },
     "metadata": {},
     "output_type": "display_data"
    }
   ],
   "source": [
    "plt.figure(figsize=(8,5))\n",
    "#plt.scatter(centre_21l.distance_x_axis().median, centre_21l.distance_x_axis().distance, s=2, color='red', alpha=.5, label='21l bubble; x, y, z in (-100;100)')\n",
    "plt.scatter(centre_bitumen.distance_x_axis().distance, centre_bitumen.distance_x_axis().median, s=2, alpha=.5, label='bitumen; x, y, z in (-100;100)',c='k')\n",
    "plt.scatter(centre_hydrogen.distance_x_axis().distance, centre_hydrogen.distance_x_axis().median, s=2, color='red', alpha=.5, label='hydrogen; x, y, z in (-100;100)')\n",
    "\n",
    "plt.axvline(11.265, linestyle='--', c='gray', linewidth=1)\n",
    "#plt.text(-16,11.25,'11.265', fontsize=8)\n",
    "#plt.ylim(9.5,13)\n",
    "#plt.ylim(0,15)\n",
    "#plt.yticks(np.arange(0,15,1))\n",
    "plt.xlabel('distance from x axis (mm)')\n",
    "plt.ylabel('metric')\n",
    "plt.legend(loc='upper right')\n",
    "plt.show()\n",
    "\n"
   ]
  },
  {
   "cell_type": "code",
   "execution_count": 23,
   "metadata": {},
   "outputs": [
    {
     "data": {
      "application/vnd.jupyter.widget-view+json": {
       "model_id": "8b928bbda48c465394f31973e43e3f49",
       "version_major": 2,
       "version_minor": 0
      },
      "text/plain": [
       "Canvas(toolbar=Toolbar(toolitems=[('Home', 'Reset original view', 'home', 'home'), ('Back', 'Back to previous …"
      ]
     },
     "metadata": {},
     "output_type": "display_data"
    }
   ],
   "source": [
    "plt.figure(figsize=(8,5))\n",
    "plt.scatter(centre_21l.distance_x_axis().median, centre_21l.distance_x_axis().distance, s=2, color='green', alpha=.5, label='21l bubble; x, y, z in (-100;100)')\n",
    "plt.scatter(centre_bitumen.distance_x_axis().median, centre_bitumen.distance_x_axis().distance, s=2, alpha=.5, label='bitumen; x, y, z in (-100;100)',c='k')\n",
    "plt.scatter(centre_hydrogen.distance_x_axis().median, centre_hydrogen.distance_x_axis().distance, s=2, color='red', alpha=.5, label='hydrogen; x, y, z in (-100;100)')\n",
    "\n",
    "plt.axvline(11.265, linestyle='--', c='gray', linewidth=1)\n",
    "#plt.text(-16,11.25,'11.265', fontsize=8)\n",
    "#plt.ylim(9.5,13)\n",
    "#plt.ylim(0,15)\n",
    "#plt.yticks(np.arange(0,15,1))\n",
    "plt.xlabel('distance from x axis (mm)')\n",
    "plt.ylabel('metric')\n",
    "plt.legend(loc='upper right')\n",
    "plt.show()\n",
    "\n"
   ]
  },
  {
   "cell_type": "code",
   "execution_count": 13,
   "metadata": {},
   "outputs": [],
   "source": [
    "drum_21l = histogram21l.cube_select(Bin(-400,400), Bin(-290,290), Bin(-290,290))\n",
    "drum_bitumen = histogram_bitumen.cube_select(Bin(-400,400), Bin(-290,290), Bin(-290,290))\n",
    "drum_hydrogen = histogram_hydrogen.cube_select(Bin(-400,400), Bin(-290,290), Bin(-290,290))"
   ]
  },
  {
   "cell_type": "code",
   "execution_count": 24,
   "metadata": {},
   "outputs": [
    {
     "data": {
      "application/vnd.jupyter.widget-view+json": {
       "model_id": "5408c09921554e6d9f8693b9d761efc7",
       "version_major": 2,
       "version_minor": 0
      },
      "text/plain": [
       "Canvas(toolbar=Toolbar(toolitems=[('Home', 'Reset original view', 'home', 'home'), ('Back', 'Back to previous …"
      ]
     },
     "metadata": {},
     "output_type": "display_data"
    }
   ],
   "source": [
    "plt.figure(figsize=(8,5))\n",
    "#plt.scatter(drum_21l.distance_x_axis().median, drum_21l.distance_x_axis().distance, s=2, color='red', alpha=.5, label='21l bubble; x, y, z in (-100;100)')\n",
    "plt.scatter(drum_bitumen.distance_x_axis().median, drum_bitumen.distance_x_axis().distance, s=2, alpha=.5, label='bitumen; x, y, z in (-100;100)', c='k')\n",
    "#plt.scatter(drum_hydrogen.distance_x_axis().median, drum_hydrogen.distance_x_axis().distance, s=2, color='green', alpha=.5, label='hydrogen; x, y, z in (-100;100)')\n",
    "\n",
    "plt.axvline(11.265, linestyle='--', c='gray', linewidth=1)\n",
    "#plt.text(-16,11.25,'11.265', fontsize=8)\n",
    "#plt.ylim(9.5,13)\n",
    "plt.xlim(0,15)\n",
    "#plt.yticks(np.arange(0,15,1))\n",
    "plt.xlabel('distance from x axis (mm)')\n",
    "plt.ylabel('metric')\n",
    "plt.legend(loc='upper left')\n",
    "plt.show()\n",
    "\n",
    "\n"
   ]
  },
  {
   "cell_type": "code",
   "execution_count": 25,
   "metadata": {},
   "outputs": [
    {
     "data": {
      "application/vnd.jupyter.widget-view+json": {
       "model_id": "0b55f4a22b684850bd9107f8d687e0d2",
       "version_major": 2,
       "version_minor": 0
      },
      "text/plain": [
       "Canvas(toolbar=Toolbar(toolitems=[('Home', 'Reset original view', 'home', 'home'), ('Back', 'Back to previous …"
      ]
     },
     "metadata": {},
     "output_type": "display_data"
    }
   ],
   "source": [
    "plt.figure(figsize=(8,5))\n",
    "#plt.scatter(drum_21l.distance_x_axis().median, drum_21l.distance_x_axis().distance, s=2, color='red', alpha=.5, label='21l bubble; x, y, z in (-100;100)')\n",
    "#plt.scatter(drum_bitumen.distance_x_axis().median, drum_bitumen.distance_x_axis().distance, s=2, alpha=.5, label='bitumen; x, y, z in (-100;100)')\n",
    "plt.scatter(drum_hydrogen.distance_x_axis().median, drum_hydrogen.distance_x_axis().distance, s=2, color='red', alpha=.5, label='hydrogen; x, y, z in (-100;100)')\n",
    "\n",
    "plt.axvline(11.265, linestyle='--', c='gray', linewidth=1)\n",
    "#plt.text(-16,11.25,'11.265', fontsize=8)\n",
    "#plt.ylim(9.5,13)\n",
    "plt.xlim(0,15)\n",
    "#plt.yticks(np.arange(0,15,1))\n",
    "plt.xlabel('distance from x axis (mm)')\n",
    "plt.ylabel('metric')\n",
    "plt.legend(loc='upper left')\n",
    "plt.show()\n",
    "\n"
   ]
  },
  {
   "cell_type": "code",
   "execution_count": 26,
   "metadata": {},
   "outputs": [
    {
     "data": {
      "application/vnd.jupyter.widget-view+json": {
       "model_id": "29873126a8584e589c146423e1ec640e",
       "version_major": 2,
       "version_minor": 0
      },
      "text/plain": [
       "Canvas(toolbar=Toolbar(toolitems=[('Home', 'Reset original view', 'home', 'home'), ('Back', 'Back to previous …"
      ]
     },
     "metadata": {},
     "output_type": "display_data"
    }
   ],
   "source": [
    "plt.figure(figsize=(8,5))\n",
    "plt.scatter(drum_21l.distance_x_axis().median, drum_21l.distance_x_axis().distance, s=2, color='green', alpha=.5, label='21l bubble; x, y, z in (-100;100)')\n",
    "#plt.scatter(drum_bitumen.distance_x_axis().median, drum_bitumen.distance_x_axis().distance, s=2, alpha=.5, label='bitumen; x, y, z in (-100;100)')\n",
    "#plt.scatter(drum_hydrogen.distance_x_axis().median, drum_hydrogen.distance_x_axis().distance, s=2, color='green', alpha=.5, label='hydrogen; x, y, z in (-100;100)')\n",
    "\n",
    "plt.axvline(11.265, linestyle='--', c='gray', linewidth=1)\n",
    "#plt.text(-16,11.25,'11.265', fontsize=8)\n",
    "#plt.ylim(9.5,13)\n",
    "plt.xlim(0,15)\n",
    "#plt.yticks(np.arange(0,15,1))\n",
    "plt.xlabel('distance from x axis (mm)')\n",
    "plt.ylabel('metric')\n",
    "plt.legend(loc='upper left')\n",
    "plt.show()\n",
    "\n"
   ]
  },
  {
   "cell_type": "code",
   "execution_count": null,
   "metadata": {},
   "outputs": [],
   "source": []
  }
 ],
 "metadata": {
  "kernelspec": {
   "display_name": "Python 3",
   "language": "python",
   "name": "python3"
  },
  "language_info": {
   "codemirror_mode": {
    "name": "ipython",
    "version": 3
   },
   "file_extension": ".py",
   "mimetype": "text/x-python",
   "name": "python",
   "nbconvert_exporter": "python",
   "pygments_lexer": "ipython3",
   "version": "3.9.2"
  }
 },
 "nbformat": 4,
 "nbformat_minor": 4
}
