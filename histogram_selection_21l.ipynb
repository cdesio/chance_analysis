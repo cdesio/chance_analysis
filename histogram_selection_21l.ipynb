{
 "cells": [
  {
   "cell_type": "markdown",
   "metadata": {},
   "source": [
    "Yeah, in the first two plot I used an old file (2L) maybe you had 1L but should be very similar.\n",
    "For the case inside the bubble I went from -60 to 60 in each direction. and in the case of including the edge I went from -100 to 100 in each direction.\n",
    "Last case far away from the bubble I kept the x and y between -300 and 300 but I restricted the x axis from -440 to -200 I guess just to stay away from the bubble (-95, 95)"
   ]
  },
  {
   "cell_type": "markdown",
   "metadata": {},
   "source": [
    "bubble: 19 long, 19 cm diameter (centre)"
   ]
  },
  {
   "cell_type": "code",
   "execution_count": 1,
   "metadata": {},
   "outputs": [],
   "source": [
    "import numpy as np    \n",
    "import uproot3\n",
    "import matplotlib.pyplot as plt"
   ]
  },
  {
   "cell_type": "code",
   "execution_count": 2,
   "metadata": {},
   "outputs": [],
   "source": [
    "infile = 'data/largedrum_21L_dense_MedianCut_3cmVoxel_all.discriminator.root'"
   ]
  },
  {
   "cell_type": "code",
   "execution_count": 3,
   "metadata": {},
   "outputs": [],
   "source": [
    "fu = uproot3.open(infile)\n",
    "histogram = fu['histMedianMetric'].numpy()[0]\n",
    "bins_x, bins_y, bins_z = fu['histMedianMetric;1'].numpy()[1][0]"
   ]
  },
  {
   "cell_type": "code",
   "execution_count": 4,
   "metadata": {},
   "outputs": [],
   "source": [
    "shape_x, shape_y, shape_z = histogram.shape"
   ]
  },
  {
   "cell_type": "code",
   "execution_count": 23,
   "metadata": {},
   "outputs": [],
   "source": [
    "sel_x = np.where(np.logical_and(bins_x>=-1000, bins_x<=-200))[0][:-1]\n",
    "sel_y = np.where(np.logical_and(bins_y>=-300, bins_y<=300))[0][:-1]\n",
    "sel_z = np.where(np.logical_and(bins_z>=-300, bins_z<=300))[0][:-1]\n",
    "sel_hist = np.meshgrid(sel_x,sel_y,sel_z)\n",
    "\n",
    "bitumen_histogram_left_shell = np.copy(histogram[tuple(sel_hist)])"
   ]
  },
  {
   "cell_type": "code",
   "execution_count": 24,
   "metadata": {},
   "outputs": [],
   "source": [
    "sel_x = np.where(np.logical_and(bins_x>=-400, bins_x<=-200))[0][:-1]\n",
    "sel_y = np.where(np.logical_and(bins_y>=-300, bins_y<=300))[0][:-1]\n",
    "sel_z = np.where(np.logical_and(bins_z>=-300, bins_z<=300))[0][:-1]\n",
    "sel_hist = np.meshgrid(sel_x,sel_y,sel_z)\n",
    "\n",
    "bitumen_histogram_left = np.copy(histogram[tuple(sel_hist)])"
   ]
  },
  {
   "cell_type": "code",
   "execution_count": 25,
   "metadata": {},
   "outputs": [],
   "source": [
    "sel_x = np.where(np.logical_and(bins_x>=200, bins_x<440))[0][:-1]\n",
    "sel_y = np.where(np.logical_and(bins_y>=-300, bins_y<=300))[0][:-1]\n",
    "sel_z = np.where(np.logical_and(bins_z>=-300, bins_z<=300))[0][:-1]\n",
    "sel_hist = np.meshgrid(sel_x,sel_y,sel_z)\n",
    "\n",
    "bitumen_histogram_right_shell = np.copy(histogram[tuple(sel_hist)])"
   ]
  },
  {
   "cell_type": "code",
   "execution_count": 26,
   "metadata": {},
   "outputs": [],
   "source": [
    "sel_x = np.where(np.logical_and(bins_x>=200, bins_x<=1000))[0][:-1]\n",
    "sel_y = np.where(np.logical_and(bins_y>=-300, bins_y<=300))[0][:-1]\n",
    "sel_z = np.where(np.logical_and(bins_z>=-300, bins_z<=300))[0][:-1]\n",
    "sel_hist = np.meshgrid(sel_x,sel_y,sel_z)\n",
    "\n",
    "bitumen_histogram_right = np.copy(histogram[tuple(sel_hist)])"
   ]
  },
  {
   "cell_type": "code",
   "execution_count": 27,
   "metadata": {},
   "outputs": [
    {
     "data": {
      "application/vnd.jupyter.widget-view+json": {
       "model_id": "a30cd7a43106494689078001a02dd35d",
       "version_major": 2,
       "version_minor": 0
      },
      "text/plain": [
       "Canvas(toolbar=Toolbar(toolitems=[('Home', 'Reset original view', 'home', 'home'), ('Back', 'Back to previous …"
      ]
     },
     "metadata": {},
     "output_type": "display_data"
    }
   ],
   "source": [
    "%matplotlib widget\n",
    "plt.figure(figsize=(10,7))\n",
    "bins = np.linspace(10,15,100)\n",
    "plt.hist(bitumen_histogram_left_shell.ravel(), bins=bins, edgecolor='blue', linewidth=1.5,histtype=u'step', label='bitumen_left_shell')\n",
    "plt.hist(bitumen_histogram_left.ravel(), bins=bins, edgecolor='red', linewidth=1.5,histtype=u'step', label='bitumen_left')\n",
    "plt.hist(bitumen_histogram_right_shell.ravel(), bins=bins, edgecolor='green', linewidth=1.5,histtype=u'step', label='bitumen_right_shell')\n",
    "plt.hist(bitumen_histogram_right.ravel(), bins=bins, edgecolor='black', linewidth=1.5,histtype=u'step', label='bitumen_right')\n",
    "\n",
    "#plt.xlim(10,15)\n",
    "plt.legend(loc='upper right')\n",
    "plt.show()"
   ]
  },
  {
   "cell_type": "code",
   "execution_count": null,
   "metadata": {},
   "outputs": [],
   "source": []
  }
 ],
 "metadata": {
  "kernelspec": {
   "display_name": "Python 3",
   "language": "python",
   "name": "python3"
  },
  "language_info": {
   "codemirror_mode": {
    "name": "ipython",
    "version": 3
   },
   "file_extension": ".py",
   "mimetype": "text/x-python",
   "name": "python",
   "nbconvert_exporter": "python",
   "pygments_lexer": "ipython3",
   "version": "3.9.2"
  }
 },
 "nbformat": 4,
 "nbformat_minor": 4
}
