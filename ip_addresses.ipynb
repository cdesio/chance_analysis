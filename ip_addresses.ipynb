{
 "cells": [
  {
   "cell_type": "code",
   "execution_count": 27,
   "id": "a335cd87",
   "metadata": {},
   "outputs": [],
   "source": [
    "import numpy as np\n",
    "import ipaddress"
   ]
  },
  {
   "cell_type": "code",
   "execution_count": 28,
   "id": "06a454b0",
   "metadata": {},
   "outputs": [],
   "source": [
    "import itertools\n",
    "lst = list(itertools.product([0, 1], repeat=4))"
   ]
  },
  {
   "cell_type": "code",
   "execution_count": 29,
   "id": "078abd7e",
   "metadata": {},
   "outputs": [
    {
     "data": {
      "text/plain": [
       "[(0, 0, 0, 0),\n",
       " (0, 0, 0, 1),\n",
       " (0, 0, 1, 0),\n",
       " (0, 0, 1, 1),\n",
       " (0, 1, 0, 0),\n",
       " (0, 1, 0, 1),\n",
       " (0, 1, 1, 0),\n",
       " (0, 1, 1, 1),\n",
       " (1, 0, 0, 0),\n",
       " (1, 0, 0, 1),\n",
       " (1, 0, 1, 0),\n",
       " (1, 0, 1, 1),\n",
       " (1, 1, 0, 0),\n",
       " (1, 1, 0, 1),\n",
       " (1, 1, 1, 0),\n",
       " (1, 1, 1, 1)]"
      ]
     },
     "execution_count": 29,
     "metadata": {},
     "output_type": "execute_result"
    }
   ],
   "source": [
    "lst"
   ]
  },
  {
   "cell_type": "code",
   "execution_count": 30,
   "id": "46a27bfa",
   "metadata": {},
   "outputs": [],
   "source": [
    "def ip_last(quad, jumper):\n",
    "    a, b, c, d = quad\n",
    "    return(2**0 *a + 2**1 *b + 2**2 *c + 2**3 *d)*16 + jumper"
   ]
  },
  {
   "cell_type": "code",
   "execution_count": 40,
   "id": "89ff73d4",
   "metadata": {},
   "outputs": [
    {
     "name": "stdout",
     "output_type": "stream",
     "text": [
      "192.168.200.0 3232286720\n",
      "192.168.200.1 3232286721\n",
      "192.168.200.128 3232286848\n",
      "192.168.200.129 3232286849\n",
      "192.168.200.64 3232286784\n",
      "192.168.200.65 3232286785\n",
      "192.168.200.192 3232286912\n",
      "192.168.200.193 3232286913\n",
      "192.168.200.32 3232286752\n",
      "192.168.200.33 3232286753\n",
      "192.168.200.160 3232286880\n",
      "192.168.200.161 3232286881\n",
      "192.168.200.96 3232286816\n",
      "192.168.200.97 3232286817\n",
      "192.168.200.224 3232286944\n",
      "192.168.200.225 3232286945\n",
      "192.168.200.16 3232286736\n",
      "192.168.200.17 3232286737\n",
      "192.168.200.144 3232286864\n",
      "192.168.200.145 3232286865\n",
      "192.168.200.80 3232286800\n",
      "192.168.200.81 3232286801\n",
      "192.168.200.208 3232286928\n",
      "192.168.200.209 3232286929\n",
      "192.168.200.48 3232286768\n",
      "192.168.200.49 3232286769\n",
      "192.168.200.176 3232286896\n",
      "192.168.200.177 3232286897\n",
      "192.168.200.112 3232286832\n",
      "192.168.200.113 3232286833\n",
      "192.168.200.240 3232286960\n",
      "192.168.200.241 3232286961\n"
     ]
    }
   ],
   "source": [
    "ipaddr = []\n",
    "ipdec = []\n",
    "for quad in lst:\n",
    "    for i in [0,1]:\n",
    "        print('192.168.200.{}'.format(ip_last(quad,i)), int(ipaddress.IPv4Address(\"192.168.200.{}\".format(ip_last(quad,i)))))\n",
    "        ipaddr.append('192.168.200.{}'.format(ip_last(quad,i)))\n",
    "        ipdec.append(int(ipaddress.IPv4Address(\"192.168.200.{}\".format(ip_last(quad,i)))))"
   ]
  },
  {
   "cell_type": "code",
   "execution_count": 60,
   "id": "937d954f",
   "metadata": {},
   "outputs": [],
   "source": [
    "idx = np.argsort([int(addr.split('.')[-1]) for addr in ipaddr])"
   ]
  },
  {
   "cell_type": "code",
   "execution_count": 61,
   "id": "be06f269",
   "metadata": {},
   "outputs": [],
   "source": [
    "sorted_ipaddr = np.asarray(ipaddr)[idx][2:]"
   ]
  },
  {
   "cell_type": "code",
   "execution_count": 62,
   "id": "1679a489",
   "metadata": {},
   "outputs": [],
   "source": [
    "sorted_dec = np.asarray(ipdec)[idx][2:]"
   ]
  },
  {
   "cell_type": "code",
   "execution_count": 63,
   "id": "12b9332f",
   "metadata": {},
   "outputs": [
    {
     "data": {
      "text/plain": [
       "array(['192.168.200.16', '192.168.200.17', '192.168.200.32',\n",
       "       '192.168.200.33', '192.168.200.48', '192.168.200.49',\n",
       "       '192.168.200.64', '192.168.200.65', '192.168.200.80',\n",
       "       '192.168.200.81', '192.168.200.96', '192.168.200.97',\n",
       "       '192.168.200.112', '192.168.200.113', '192.168.200.128',\n",
       "       '192.168.200.129', '192.168.200.144', '192.168.200.145',\n",
       "       '192.168.200.160', '192.168.200.161', '192.168.200.176',\n",
       "       '192.168.200.177', '192.168.200.192', '192.168.200.193',\n",
       "       '192.168.200.208', '192.168.200.209', '192.168.200.224',\n",
       "       '192.168.200.225', '192.168.200.240', '192.168.200.241'],\n",
       "      dtype='<U15')"
      ]
     },
     "execution_count": 63,
     "metadata": {},
     "output_type": "execute_result"
    }
   ],
   "source": [
    "sorted_ipaddr"
   ]
  },
  {
   "cell_type": "code",
   "execution_count": 64,
   "id": "35e6d2d5",
   "metadata": {},
   "outputs": [
    {
     "data": {
      "text/plain": [
       "array([3232286784, 3232286801, 3232286896, 3232286897, 3232286912,\n",
       "       3232286913, 3232286928, 3232286929, 3232286944, 3232286945,\n",
       "       3232286960, 3232286961, 3232286736, 3232286737, 3232286752,\n",
       "       3232286753, 3232286768, 3232286769, 3232286785, 3232286800,\n",
       "       3232286816, 3232286817, 3232286832, 3232286833, 3232286848,\n",
       "       3232286849, 3232286864, 3232286865, 3232286880, 3232286881])"
      ]
     },
     "execution_count": 64,
     "metadata": {},
     "output_type": "execute_result"
    }
   ],
   "source": [
    "sorted_dec"
   ]
  },
  {
   "cell_type": "code",
   "execution_count": 65,
   "id": "8707e122",
   "metadata": {},
   "outputs": [],
   "source": [
    "np.savez_compressed('ip_addrs.npz', ipaddr=sorted_ipaddr, dec = sorted_dec)"
   ]
  },
  {
   "cell_type": "code",
   "execution_count": 66,
   "id": "d5fe5d42",
   "metadata": {},
   "outputs": [
    {
     "name": "stdout",
     "output_type": "stream",
     "text": [
      "board 1: ip address: 192.168.200.16, decimal: 3232286784, rpc_id: 0, y0\n",
      "board 2: ip address: 192.168.200.17, decimal: 3232286801, rpc_id: 1, y1\n",
      "board 3: ip address: 192.168.200.32, decimal: 3232286896, rpc_id: 2, y2\n",
      "board 4: ip address: 192.168.200.33, decimal: 3232286897, rpc_id: 3, y3\n",
      "board 5: ip address: 192.168.200.48, decimal: 3232286912, rpc_id: 4, y4\n",
      "board 6: ip address: 192.168.200.49, decimal: 3232286913, rpc_id: 5, y5\n",
      "board 7: ip address: 192.168.200.64, decimal: 3232286928, rpc_id: 6, y6\n",
      "board 8: ip address: 192.168.200.65, decimal: 3232286929, rpc_id: 7, y7\n",
      "board 9: ip address: 192.168.200.80, decimal: 3232286944, rpc_id: 8, y8\n",
      "board 10: ip address: 192.168.200.81, decimal: 3232286945, rpc_id: 9, y9\n",
      "board 11: ip address: 192.168.200.96, decimal: 3232286960, rpc_id: 10, y10\n",
      "board 12: ip address: 192.168.200.97, decimal: 3232286961, rpc_id: 11, y11\n",
      "board 13: ip address: 192.168.200.112, decimal: 3232286736, rpc_id: 12, y12\n",
      "board 14: ip address: 192.168.200.113, decimal: 3232286737, rpc_id: 13, y13\n",
      "board 15: ip address: 192.168.200.128, decimal: 3232286752, rpc_id: 14, y14\n",
      "board 16: ip address: 192.168.200.129, decimal: 3232286753, rpc_id: 15, x0\n",
      "board 17: ip address: 192.168.200.144, decimal: 3232286768, rpc_id: 16, x1\n",
      "board 18: ip address: 192.168.200.145, decimal: 3232286769, rpc_id: 17, x2\n",
      "board 19: ip address: 192.168.200.160, decimal: 3232286785, rpc_id: 18, x3\n",
      "board 20: ip address: 192.168.200.161, decimal: 3232286800, rpc_id: 19, x4\n",
      "board 21: ip address: 192.168.200.176, decimal: 3232286816, rpc_id: 20, x5\n",
      "board 22: ip address: 192.168.200.177, decimal: 3232286817, rpc_id: 21, x6\n",
      "board 23: ip address: 192.168.200.192, decimal: 3232286832, rpc_id: 22, x7\n",
      "board 24: ip address: 192.168.200.193, decimal: 3232286833, rpc_id: 23, x8\n",
      "board 25: ip address: 192.168.200.208, decimal: 3232286848, rpc_id: 24, x9\n",
      "board 26: ip address: 192.168.200.209, decimal: 3232286849, rpc_id: 25, x10\n",
      "board 27: ip address: 192.168.200.224, decimal: 3232286864, rpc_id: 26, x11\n",
      "board 28: ip address: 192.168.200.225, decimal: 3232286865, rpc_id: 27, x12\n",
      "board 29: ip address: 192.168.200.240, decimal: 3232286880, rpc_id: 28, x13\n",
      "board 30: ip address: 192.168.200.241, decimal: 3232286881, rpc_id: 29, x14\n"
     ]
    }
   ],
   "source": [
    "for i in range(30):\n",
    "    if i<15:\n",
    "        print('board {}: ip address: {}, decimal: {}, rpc_id: {}, y{}'.format(i+1,sorted_ipaddr[i], sorted_dec[i], i, i))\n",
    "    else:\n",
    "        print('board {}: ip address: {}, decimal: {}, rpc_id: {}, x{}'.format(i+1,sorted_ipaddr[i], sorted_dec[i], i, i-15))"
   ]
  },
  {
   "cell_type": "code",
   "execution_count": 67,
   "id": "963f359c",
   "metadata": {},
   "outputs": [
    {
     "data": {
      "text/plain": [
       "array(['192.168.200.16', '192.168.200.17', '192.168.200.32',\n",
       "       '192.168.200.33', '192.168.200.48', '192.168.200.49',\n",
       "       '192.168.200.64', '192.168.200.65', '192.168.200.80',\n",
       "       '192.168.200.81', '192.168.200.96', '192.168.200.97',\n",
       "       '192.168.200.112', '192.168.200.113', '192.168.200.128',\n",
       "       '192.168.200.129', '192.168.200.144', '192.168.200.145',\n",
       "       '192.168.200.160', '192.168.200.161', '192.168.200.176',\n",
       "       '192.168.200.177', '192.168.200.192', '192.168.200.193',\n",
       "       '192.168.200.208', '192.168.200.209', '192.168.200.224',\n",
       "       '192.168.200.225', '192.168.200.240', '192.168.200.241'],\n",
       "      dtype='<U15')"
      ]
     },
     "execution_count": 67,
     "metadata": {},
     "output_type": "execute_result"
    }
   ],
   "source": [
    "sorted_ipaddr"
   ]
  },
  {
   "cell_type": "code",
   "execution_count": 68,
   "id": "970be563",
   "metadata": {},
   "outputs": [
    {
     "data": {
      "text/plain": [
       "array([3232286784, 3232286801, 3232286896, 3232286897, 3232286912,\n",
       "       3232286913, 3232286928, 3232286929, 3232286944, 3232286945,\n",
       "       3232286960, 3232286961, 3232286736, 3232286737, 3232286752,\n",
       "       3232286753, 3232286768, 3232286769, 3232286785, 3232286800,\n",
       "       3232286816, 3232286817, 3232286832, 3232286833, 3232286848,\n",
       "       3232286849, 3232286864, 3232286865, 3232286880, 3232286881])"
      ]
     },
     "execution_count": 68,
     "metadata": {},
     "output_type": "execute_result"
    }
   ],
   "source": [
    "sorted_dec"
   ]
  },
  {
   "cell_type": "code",
   "execution_count": 26,
   "id": "58892543",
   "metadata": {},
   "outputs": [],
   "source": [
    "boards_ip = {}\n",
    "for i, (ip, dec) in enumerate(zip(sorted_ipaddr, sorted_dec)):\n",
    "    boards_ip[i+1] = (ip, dec)"
   ]
  },
  {
   "cell_type": "code",
   "execution_count": 25,
   "id": "18828a6a",
   "metadata": {},
   "outputs": [
    {
     "data": {
      "text/plain": [
       "('192.168.200.241', 3232286961)"
      ]
     },
     "execution_count": 25,
     "metadata": {},
     "output_type": "execute_result"
    }
   ],
   "source": [
    "boards_ip[30]"
   ]
  },
  {
   "cell_type": "code",
   "execution_count": null,
   "id": "f4236107",
   "metadata": {},
   "outputs": [],
   "source": []
  }
 ],
 "metadata": {
  "kernelspec": {
   "display_name": "Python 3",
   "language": "python",
   "name": "python3"
  },
  "language_info": {
   "codemirror_mode": {
    "name": "ipython",
    "version": 3
   },
   "file_extension": ".py",
   "mimetype": "text/x-python",
   "name": "python",
   "nbconvert_exporter": "python",
   "pygments_lexer": "ipython3",
   "version": "3.9.4"
  }
 },
 "nbformat": 4,
 "nbformat_minor": 5
}
