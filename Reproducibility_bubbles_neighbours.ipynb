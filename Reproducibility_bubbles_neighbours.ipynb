{
 "cells": [
  {
   "cell_type": "code",
   "execution_count": 1,
   "metadata": {},
   "outputs": [],
   "source": [
    "import numpy as np    \n",
    "import uproot3\n",
    "import matplotlib.pyplot as plt"
   ]
  },
  {
   "cell_type": "code",
   "execution_count": 2,
   "metadata": {},
   "outputs": [],
   "source": [
    "infile = '/Users/yw18581/Downloads/largedrum_1L_dense_MedianCut_3cmVoxel_withoutCut.discriminator.root'"
   ]
  },
  {
   "cell_type": "code",
   "execution_count": 3,
   "metadata": {},
   "outputs": [],
   "source": [
    "fu = uproot3.open(infile)\n",
    "histogram = fu['histMedianMetric'].numpy()[0]\n",
    "bins_x, bins_y, bins_z = fu['histMedianMetric;1'].numpy()[1][0]"
   ]
  },
  {
   "cell_type": "code",
   "execution_count": 4,
   "metadata": {},
   "outputs": [],
   "source": [
    "sel_x = np.where(np.logical_and(bins_x>=-440, bins_x<=440))[0]\n",
    "sel_y = np.where(np.logical_and(bins_y>=-300, bins_y<=300))[0]\n",
    "sel_z = np.where(np.logical_and(bins_z>=-300, bins_z<=300))[0]\n",
    "sel_hist = np.meshgrid(sel_x,sel_y,sel_z)"
   ]
  },
  {
   "cell_type": "code",
   "execution_count": 5,
   "metadata": {},
   "outputs": [],
   "source": [
    "selected_histogram = np.copy(histogram[tuple(sel_hist)])"
   ]
  },
  {
   "cell_type": "code",
   "execution_count": 6,
   "metadata": {},
   "outputs": [],
   "source": [
    "histogram = selected_histogram"
   ]
  },
  {
   "cell_type": "code",
   "execution_count": 7,
   "metadata": {},
   "outputs": [],
   "source": [
    "shape_x, shape_y, shape_z = histogram.shape"
   ]
  },
  {
   "cell_type": "code",
   "execution_count": 24,
   "metadata": {},
   "outputs": [],
   "source": [
    "def cube(x, y, z):\n",
    "    if x in [0,shape_x-1] or y in [0, shape_y-1] or z in [0, shape_z-1]:\n",
    "        return None\n",
    "    mgrid = np.mgrid[x-1:x+2:1, y-1:y+2:1, z-1:z+2:1]\n",
    "    x, y, z = map(np.ravel, mgrid)\n",
    "    return x, y, z"
   ]
  },
  {
   "cell_type": "markdown",
   "metadata": {},
   "source": [
    "#### Voxel containing Bitumen"
   ]
  },
  {
   "cell_type": "code",
   "execution_count": 25,
   "metadata": {},
   "outputs": [],
   "source": [
    "thresh=11.265\n",
    "stats_bt_bt = dict()\n",
    "xx, yy, zz = np.where(histogram<thresh)\n",
    "for x, y, z in zip(xx, yy, zz):\n",
    "    cubes_coord = cube(x, y, z)\n",
    "    if cubes_coord is None:\n",
    "        continue\n",
    "    xs, ys, zs = cubes_coord\n",
    "    triplets = np.array([(i, j, k) for (i, j, k) in zip(xs, ys, zs)])\n",
    "    cube_around_pt = np.array([histogram[cx, cy, cz] for (cx, cy, cz) in triplets])\n",
    "    filtered_cube = cube_around_pt[cube_around_pt < thresh]\n",
    "    below_threshold_count = (len(filtered_cube) -1) if (len(filtered_cube) > 0) else 0.\n",
    "    stats_bt_bt[(x, y, z)] = below_threshold_count"
   ]
  },
  {
   "cell_type": "code",
   "execution_count": 26,
   "metadata": {},
   "outputs": [],
   "source": [
    "thresh=11.265\n",
    "stats_bt_air = dict()\n",
    "xx, yy, zz = np.where(histogram<thresh)\n",
    "for x, y, z in zip(xx, yy, zz):\n",
    "    cubes_coord = cube(x, y, z)\n",
    "    if cubes_coord is None:\n",
    "        continue\n",
    "    xs, ys, zs = cubes_coord\n",
    "    triplets = np.array([(i, j, k) for (i, j, k) in zip(xs, ys, zs)])\n",
    "    cube_around_pt = np.array([histogram[cx, cy, cz] for (cx, cy, cz) in triplets])\n",
    "    filtered_cube = cube_around_pt[cube_around_pt >= thresh]\n",
    "    above_threshold_count = len(filtered_cube)\n",
    "    stats_bt_air[(x, y, z)] = above_threshold_count"
   ]
  },
  {
   "cell_type": "code",
   "execution_count": 42,
   "metadata": {},
   "outputs": [
    {
     "data": {
      "image/png": "[encoded data removed]",
      "text/plain": [
       "<Figure size 504x360 with 1 Axes>"
      ]
     },
     "metadata": {
      "needs_background": "light"
     },
     "output_type": "display_data"
    }
   ],
   "source": [
    "plt.figure(figsize=(7,5))\n",
    "#bb =np.arange(-0.5, 27.5, 1)\n",
    "plot_kwds = {'density': False, 'linewidth':\"1.5\", 'histtype': u'step', \"bins\":20}\n",
    "plt.hist(stats_bt_bt.values(), label='neighbours < 11.26', edgecolor='red', **plot_kwds)\n",
    "plt.hist(stats_bt_air.values(), label='neighbours >= 11.26', edgecolor='blue', **plot_kwds)\n",
    "plt.title(\"central voxels containing bitumen/concrete\")\n",
    "plt.xlabel('neighbour voxels count')\n",
    "#plt.xticks(np.arange(-0.5,27.5,3))\n",
    "plt.legend(loc='upper center')\n",
    "#plt.yscale('log')\n",
    "plt.savefig(\"neighbour_voxels_ct.png\") \n",
    "plt.show()"
   ]
  },
  {
   "cell_type": "code",
   "execution_count": 28,
   "metadata": {},
   "outputs": [
    {
     "data": {
      "text/plain": [
       "(0, 26)"
      ]
     },
     "execution_count": 28,
     "metadata": {},
     "output_type": "execute_result"
    }
   ],
   "source": [
    "min(stats_bt_air.values()), max(stats_bt_air.values())"
   ]
  },
  {
   "cell_type": "markdown",
   "metadata": {},
   "source": [
    "##### Voxels containing Hydrogen"
   ]
  },
  {
   "cell_type": "code",
   "execution_count": 29,
   "metadata": {},
   "outputs": [],
   "source": [
    "thresh=11.265\n",
    "stats_air_air = dict()\n",
    "xx, yy, zz = np.where(histogram>=thresh)\n",
    "for x, y, z in zip(xx, yy, zz):\n",
    "    cubes_coord = cube(x, y, z)\n",
    "    if cubes_coord is None:\n",
    "        continue\n",
    "    xs, ys, zs = cubes_coord\n",
    "    #xs, ys, zs = map(np.ravel, cubes_coord)\n",
    "    triplets = np.array([(i, j, k) for (i, j, k) in zip(xs, ys, zs)])\n",
    "    #cx, cy, cz = cubes_coord\n",
    "    cube_around_pt = np.array([histogram[cx, cy, cz] for (cx, cy, cz) in triplets])\n",
    "    filtered_cube = cube_around_pt[cube_around_pt >= thresh]\n",
    "    above_threshold_count = (len(filtered_cube) -1) if (len(filtered_cube) > 0) else 0.\n",
    "    stats_air_air[(x, y, z)] = above_threshold_count\n"
   ]
  },
  {
   "cell_type": "code",
   "execution_count": 30,
   "metadata": {},
   "outputs": [],
   "source": [
    "thresh=11.265\n",
    "stats_air_bt = dict()\n",
    "xx, yy, zz = np.where(histogram>=thresh)\n",
    "for x, y, z in zip(xx, yy, zz):\n",
    "    cubes_coord = cube(x, y, z)\n",
    "    if cubes_coord is None:\n",
    "        continue\n",
    "    xs, ys, zs = cubes_coord\n",
    "    #xs, ys, zs = map(np.ravel, cubes_coord)\n",
    "    triplets = np.array([(i, j, k) for (i, j, k) in zip(xs, ys, zs)])\n",
    "    #cx, cy, cz = cubes_coord\n",
    "    cube_around_pt = np.array([histogram[cx, cy, cz] for (cx, cy, cz) in triplets])\n",
    "    filtered_cube = cube_around_pt[cube_around_pt < thresh]\n",
    "    below_threshold_count = len(filtered_cube)\n",
    "    stats_air_bt[(x, y, z)] = below_threshold_count\n"
   ]
  },
  {
   "cell_type": "code",
   "execution_count": 43,
   "metadata": {},
   "outputs": [
    {
     "data": {
      "image/png": "[encoded data removed]",
      "text/plain": [
       "<Figure size 504x360 with 1 Axes>"
      ]
     },
     "metadata": {
      "needs_background": "light"
     },
     "output_type": "display_data"
    }
   ],
   "source": [
    "plt.figure(figsize=(7,5))\n",
    "#bb =np.arange(-0.5, 27.5, 1)\n",
    "plot_kwds = {'density': False, 'linewidth':\"1.5\", 'histtype': u'step', \"bins\":20}\n",
    "plt.hist(stats_air_bt.values(), label='neighbours < 11.26', edgecolor='red', **plot_kwds)\n",
    "plt.hist(stats_air_air.values(), label='neighbours >= 11.26', edgecolor='blue', **plot_kwds)\n",
    "plt.title(\"voxels containing air\")\n",
    "plt.xlabel('neighbour voxels count')\n",
    "plt.legend(loc='upper center')\n",
    "#plt.yscale('log')\n",
    "plt.savefig(\"neighbour_voxels_air.png\") \n",
    "plt.show()"
   ]
  },
  {
   "cell_type": "code",
   "execution_count": null,
   "metadata": {},
   "outputs": [],
   "source": []
  },
  {
   "cell_type": "code",
   "execution_count": null,
   "metadata": {},
   "outputs": [],
   "source": []
  },
  {
   "cell_type": "code",
   "execution_count": null,
   "metadata": {},
   "outputs": [],
   "source": []
  },
  {
   "cell_type": "code",
   "execution_count": null,
   "metadata": {},
   "outputs": [],
   "source": []
  },
  {
   "cell_type": "code",
   "execution_count": null,
   "metadata": {},
   "outputs": [],
   "source": []
  },
  {
   "cell_type": "code",
   "execution_count": null,
   "metadata": {},
   "outputs": [],
   "source": []
  },
  {
   "cell_type": "markdown",
   "metadata": {},
   "source": [
    "#### Replicate what mohammed did"
   ]
  },
  {
   "cell_type": "code",
   "execution_count": 41,
   "metadata": {},
   "outputs": [
    {
     "data": {
      "text/plain": [
       "11.265"
      ]
     },
     "execution_count": 41,
     "metadata": {},
     "output_type": "execute_result"
    }
   ],
   "source": [
    "thresh"
   ]
  },
  {
   "cell_type": "code",
   "execution_count": 63,
   "metadata": {},
   "outputs": [
    {
     "data": {
      "text/plain": [
       "array([19, 20, 21, 22, 23, 24, 25, 26, 27, 28, 29, 30, 31, 32, 33, 34, 35,\n",
       "       36, 37, 38, 39, 40, 41, 42, 43, 44, 45, 46, 47])"
      ]
     },
     "execution_count": 63,
     "metadata": {},
     "output_type": "execute_result"
    }
   ],
   "source": [
    "sel_x"
   ]
  },
  {
   "cell_type": "code",
   "execution_count": 64,
   "metadata": {},
   "outputs": [
    {
     "data": {
      "text/plain": [
       "array([24, 25, 26, 27, 28, 29, 30, 31, 32, 33, 34, 35, 36, 37, 38, 39, 40,\n",
       "       41, 42])"
      ]
     },
     "execution_count": 64,
     "metadata": {},
     "output_type": "execute_result"
    }
   ],
   "source": [
    "sel_y"
   ]
  },
  {
   "cell_type": "code",
   "execution_count": 44,
   "metadata": {},
   "outputs": [
    {
     "data": {
      "text/plain": [
       "array([ 7,  8,  9, 10, 11, 12, 13, 14, 15, 16, 17, 18, 19, 20, 21, 22, 23,\n",
       "       24, 25, 26])"
      ]
     },
     "execution_count": 44,
     "metadata": {},
     "output_type": "execute_result"
    }
   ],
   "source": [
    "sel_z"
   ]
  },
  {
   "cell_type": "code",
   "execution_count": 81,
   "metadata": {},
   "outputs": [],
   "source": [
    "counts = np.zeros(100000)\n",
    "counts_per_cube = list()\n",
    "for i in np.arange(19,48):\n",
    "    for j in np.arange(24,43):\n",
    "        for z in np.arange(7, 27):\n",
    "            count = 0\n",
    "            if histogram[i,j,k]>=thresh:\n",
    "                for a in range(-1,2):\n",
    "                    for b in range(-1,2):\n",
    "                        for c in range(-1,2):\n",
    "                            if histogram[i+a,j+b,k+c]>= thresh:\n",
    "                                count+=1\n",
    "                counts[i]=count\n",
    "            counts_per_cube.append(counts[i])\n",
    "counts_per_cube_aa = np.asarray(counts_per_cube)"
   ]
  },
  {
   "cell_type": "code",
   "execution_count": 86,
   "metadata": {},
   "outputs": [],
   "source": [
    "counts = np.zeros(100000)\n",
    "counts_per_cube = list()\n",
    "for i in np.arange(19,48):\n",
    "    for j in np.arange(24,43):\n",
    "        for z in np.arange(7, 27):\n",
    "            count = 0\n",
    "            if histogram[i,j,k]>=thresh:\n",
    "                for a in range(-1,2):\n",
    "                    for b in range(-1,2):\n",
    "                        for c in range(-1,2):\n",
    "                            if histogram[i+a,j+b,k+c]< thresh:\n",
    "                                count+=1\n",
    "                counts[i]=count\n",
    "            counts_per_cube.append(counts[i])\n",
    "counts_per_cube_ab = np.asarray(counts_per_cube)\n"
   ]
  },
  {
   "cell_type": "code",
   "execution_count": 87,
   "metadata": {},
   "outputs": [
    {
     "data": {
      "text/plain": [
       "(13,)"
      ]
     },
     "execution_count": 87,
     "metadata": {},
     "output_type": "execute_result"
    }
   ],
   "source": [
    "np.where(counts>0)[0].shape"
   ]
  },
  {
   "cell_type": "code",
   "execution_count": 88,
   "metadata": {},
   "outputs": [
    {
     "data": {
      "text/plain": [
       "11020"
      ]
     },
     "execution_count": 88,
     "metadata": {},
     "output_type": "execute_result"
    }
   ],
   "source": [
    "len(counts_per_cube)"
   ]
  },
  {
   "cell_type": "code",
   "execution_count": 89,
   "metadata": {},
   "outputs": [
    {
     "data": {
      "image/png": "[encoded data removed]",
      "text/plain": [
       "<Figure size 504x360 with 1 Axes>"
      ]
     },
     "metadata": {
      "needs_background": "light"
     },
     "output_type": "display_data"
    }
   ],
   "source": [
    "plt.figure(figsize=(7,5))\n",
    "plt.hist(counts_per_cube_ab, label='neighbours < 11.26', edgecolor='red', **plot_kwds)\n",
    "plt.hist(counts_per_cube_aa, label='neighbours >= 11.26', edgecolor='blue', **plot_kwds)\n",
    "plt.title(\"voxels containing air\")\n",
    "plt.xlabel('neighbour voxels count')\n",
    "#plt.xticks(np.arange(-0.5,27.5,3))\n",
    "plt.legend(loc='upper center')\n",
    "#plt.yscale('log')\n",
    "plt.show()"
   ]
  },
  {
   "cell_type": "code",
   "execution_count": 23,
   "metadata": {},
   "outputs": [],
   "source": [
    "xx, yy, zz = np.mgrid[1:shape_x-1,1:shape_y-1,1: shape_z-1]\n",
    "xx, yy, zz = xx.ravel(), yy.ravel(), zz.ravel()\n",
    "counts_per_cube = []\n",
    "for (i, j, k) in zip(xx, yy, zz):\n",
    "    count = 0\n",
    "    if histogram[i,j,k]<thresh:\n",
    "        for a in range(-1,2):\n",
    "            for b in range(-1,2):\n",
    "                for c in range(-1,2):\n",
    "                    if histogram[i+a,j+b,k+c]< thresh:\n",
    "                        count+=1\n",
    "        counts_per_cube.append(count)\n",
    "counts_per_cube_bb = np.asarray(counts_per_cube)"
   ]
  },
  {
   "cell_type": "code",
   "execution_count": 24,
   "metadata": {},
   "outputs": [],
   "source": [
    "xx, yy, zz = np.mgrid[1:shape_x-1,1:shape_y-1,1: shape_z-1]\n",
    "xx, yy, zz = xx.ravel(), yy.ravel(), zz.ravel()\n",
    "counts_per_cube = []\n",
    "for (i, j, k) in zip(xx, yy, zz):\n",
    "    count = 0\n",
    "    if histogram[i,j,k]<thresh:\n",
    "        for a in range(-1,2):\n",
    "            for b in range(-1,2):\n",
    "                for c in range(-1,2):\n",
    "                    if histogram[i+a,j+b,k+c]>= thresh:\n",
    "                        count+=1\n",
    "        counts_per_cube.append(count)\n",
    "counts_per_cube_ba = np.asarray(counts_per_cube)"
   ]
  },
  {
   "cell_type": "code",
   "execution_count": 26,
   "metadata": {},
   "outputs": [
    {
     "data": {
      "image/png": "[encoded data removed]",
      "text/plain": [
       "<Figure size 504x360 with 1 Axes>"
      ]
     },
     "metadata": {
      "needs_background": "light"
     },
     "output_type": "display_data"
    }
   ],
   "source": [
    "plt.figure(figsize=(7,5))\n",
    "plot_kwds['bins'] = 20\n",
    "plt.hist(counts_per_cube_bb, label='neighbours < 11.26', edgecolor='red', **plot_kwds)\n",
    "plt.hist(counts_per_cube_ba, label='neighbours >= 11.26', edgecolor='blue', **plot_kwds)\n",
    "plt.title(\"voxels containing bitumen\")\n",
    "plt.xlabel('neighbour voxels count')\n",
    "#plt.xticks(np.arange(-0.5,27.5,3))\n",
    "plt.legend(loc='upper center')\n",
    "#plt.yscale('log')\n",
    "plt.show()"
   ]
  },
  {
   "cell_type": "code",
   "execution_count": null,
   "metadata": {},
   "outputs": [],
   "source": []
  }
 ],
 "metadata": {
  "kernelspec": {
   "display_name": "Python 3",
   "language": "python",
   "name": "python3"
  },
  "language_info": {
   "codemirror_mode": {
    "name": "ipython",
    "version": 3
   },
   "file_extension": ".py",
   "mimetype": "text/x-python",
   "name": "python",
   "nbconvert_exporter": "python",
   "pygments_lexer": "ipython3",
   "version": "3.9.2"
  }
 },
 "nbformat": 4,
 "nbformat_minor": 4
}
