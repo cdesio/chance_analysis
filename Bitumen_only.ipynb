{
 "cells": [
  {
   "cell_type": "code",
   "execution_count": 1,
   "metadata": {},
   "outputs": [],
   "source": [
    "import numpy as np    \n",
    "import uproot3\n",
    "import matplotlib.pyplot as plt"
   ]
  },
  {
   "cell_type": "code",
   "execution_count": 7,
   "metadata": {},
   "outputs": [],
   "source": [
    "%matplotlib widget"
   ]
  },
  {
   "cell_type": "code",
   "execution_count": 3,
   "metadata": {},
   "outputs": [],
   "source": [
    "infile_bitumen = 'data/largedrum_onlybitumen_dense_newmetrics_3cmVoxel_April2021.discriminator.root'"
   ]
  },
  {
   "cell_type": "code",
   "execution_count": 12,
   "metadata": {},
   "outputs": [],
   "source": [
    "infile_21l = 'data/largedrum_21L_dense_MedianCut_3cmVoxel_all.discriminator.root'"
   ]
  },
  {
   "cell_type": "code",
   "execution_count": 4,
   "metadata": {},
   "outputs": [],
   "source": [
    "fu = uproot3.open(infile_bitumen)\n",
    "histogram_bitumen = fu['histMedianMetric'].numpy()[0]\n",
    "bins_x, bins_y, bins_z = fu['histMedianMetric;1'].numpy()[1][0]\n",
    "shape_x, shape_y, shape_z = histogram_bitumen.shape"
   ]
  },
  {
   "cell_type": "code",
   "execution_count": 13,
   "metadata": {},
   "outputs": [],
   "source": [
    "fu = uproot3.open(infile_21l)\n",
    "histogram_bubble = fu['histMedianMetric'].numpy()[0]\n",
    "bins_x, bins_y, bins_z = fu['histMedianMetric;1'].numpy()[1][0]\n",
    "shape_x, shape_y, shape_z = histogram_bubble.shape"
   ]
  },
  {
   "cell_type": "code",
   "execution_count": 5,
   "metadata": {},
   "outputs": [],
   "source": [
    "def cube(x, y, z):\n",
    "    if x in [0,shape_x-1] or y in [0, shape_y-1] or z in [0, shape_z-1]:\n",
    "        return None\n",
    "    mgrid = np.mgrid[x-1:x+2:1, y-1:y+2:1, z-1:z+2:1]\n",
    "    x, y, z = map(np.ravel, mgrid)\n",
    "    return x, y, z"
   ]
  },
  {
   "cell_type": "code",
   "execution_count": 6,
   "metadata": {},
   "outputs": [],
   "source": [
    "def stats_count(histogram, threshold=11.265, centre='above'):\n",
    "    stats_above = dict()\n",
    "    stats_below = dict()\n",
    "    if centre == 'above':\n",
    "        xx, yy, zz = np.where(histogram>=threshold)\n",
    "    elif centre == 'below':\n",
    "        xx, yy, zz = np.where(histogram<threshold)\n",
    "    for x, y, z in zip(xx, yy, zz):\n",
    "        cubes_coord = cube(x, y, z)\n",
    "        if cubes_coord is None:\n",
    "            continue\n",
    "        xs, ys, zs = cubes_coord\n",
    "        triplets = np.array([(i, j, k) for (i, j, k) in zip(xs, ys, zs)])\n",
    "        cube_around_pt = np.array([histogram[cx, cy, cz] for (cx, cy, cz) in triplets])\n",
    "\n",
    "        cube_above = cube_around_pt[cube_around_pt >= threshold]\n",
    "        cube_below = cube_around_pt[cube_around_pt < threshold]\n",
    "        if centre == 'above':\n",
    "            above_threshold_count = (len(cube_above) -1) if (len(cube_above) > 0) else 0.\n",
    "            below_threshold_count = len(cube_below)\n",
    "        elif centre== 'below':\n",
    "            above_threshold_count = len(cube_above)\n",
    "            below_threshold_count = (len(cube_below) -1) if (len(cube_below) > 0) else 0.\n",
    "        stats_above[(x, y, z)] = above_threshold_count\n",
    "        stats_below[(x, y, z)] = below_threshold_count\n",
    "    return stats_above, stats_below"
   ]
  },
  {
   "cell_type": "code",
   "execution_count": 9,
   "metadata": {},
   "outputs": [
    {
     "data": {
      "application/vnd.jupyter.widget-view+json": {
       "model_id": "4bfa63b5f3e446eab0b98c46b75bf24b",
       "version_major": 2,
       "version_minor": 0
      },
      "text/plain": [
       "Canvas(toolbar=Toolbar(toolitems=[('Home', 'Reset original view', 'home', 'home'), ('Back', 'Back to previous …"
      ]
     },
     "metadata": {},
     "output_type": "display_data"
    }
   ],
   "source": [
    "plt.figure()\n",
    "plt.hist(histogram_bitumen[histogram_bitumen>0].ravel(), bins=100)\n",
    "plt.show()"
   ]
  },
  {
   "cell_type": "code",
   "execution_count": 14,
   "metadata": {},
   "outputs": [
    {
     "data": {
      "application/vnd.jupyter.widget-view+json": {
       "model_id": "f6fd3e17f33f4c5a9362fb0db9ab0c99",
       "version_major": 2,
       "version_minor": 0
      },
      "text/plain": [
       "Canvas(toolbar=Toolbar(toolitems=[('Home', 'Reset original view', 'home', 'home'), ('Back', 'Back to previous …"
      ]
     },
     "metadata": {},
     "output_type": "display_data"
    }
   ],
   "source": [
    "cmap = plt.cm.get_cmap('jet',20)\n",
    "fig = plt.figure(figsize=(10,10))\n",
    "ax = fig.add_subplot(111,projection=\"3d\")\n",
    "\n",
    "xx, yy, zz = np.where(histogram_bitumen >= 11.265)\n",
    "pnt3d = ax.scatter(xx, yy, zz, c=histogram_bitumen[histogram_bitumen>=11.265], \n",
    "                   cmap=cmap, s=10, alpha=.9)\n",
    "cbar=plt.colorbar(pnt3d, shrink=0.6)\n",
    "ax.set_xlabel('Z')\n",
    "ax.set_ylabel('X')\n",
    "ax.set_zlabel('Y')\n",
    "ax.view_init(elev=10, azim=20)\n",
    "plt.draw()"
   ]
  },
  {
   "cell_type": "code",
   "execution_count": 15,
   "metadata": {},
   "outputs": [
    {
     "data": {
      "application/vnd.jupyter.widget-view+json": {
       "model_id": "b5699a62d2e24671851b84f0d13ac179",
       "version_major": 2,
       "version_minor": 0
      },
      "text/plain": [
       "Canvas(toolbar=Toolbar(toolitems=[('Home', 'Reset original view', 'home', 'home'), ('Back', 'Back to previous …"
      ]
     },
     "metadata": {},
     "output_type": "display_data"
    }
   ],
   "source": [
    "cmap = plt.cm.get_cmap('jet',20)\n",
    "fig = plt.figure(figsize=(10,10))\n",
    "ax = fig.add_subplot(111,projection=\"3d\")\n",
    "\n",
    "xx, yy, zz = np.where(histogram_bubble >= 11.265)\n",
    "pnt3d = ax.scatter(xx, yy, zz, c=histogram_bubble[histogram_bubble>=11.265], \n",
    "                   cmap=cmap, s=10, alpha=.9)\n",
    "cbar=plt.colorbar(pnt3d, shrink=0.6)\n",
    "ax.set_xlabel('Z')\n",
    "ax.set_ylabel('X')\n",
    "ax.set_zlabel('Y')\n",
    "ax.view_init(elev=10, azim=20)\n",
    "plt.draw()"
   ]
  },
  {
   "cell_type": "code",
   "execution_count": 23,
   "metadata": {},
   "outputs": [
    {
     "data": {
      "application/vnd.jupyter.widget-view+json": {
       "model_id": "e915ec25a96142b294a8ea3a7addadc9",
       "version_major": 2,
       "version_minor": 0
      },
      "text/plain": [
       "Canvas(toolbar=Toolbar(toolitems=[('Home', 'Reset original view', 'home', 'home'), ('Back', 'Back to previous …"
      ]
     },
     "metadata": {},
     "output_type": "display_data"
    }
   ],
   "source": [
    "plt.figure()\n",
    "plt.hist(histogram_bubble[histogram_bubble>0].ravel(), bins=100, alpha=.5, label='bubble')\n",
    "plt.hist(histogram_bitumen[histogram_bitumen>0].ravel(), bins=100, alpha=.5, label='bitumen')\n",
    "plt.axvline(11.265, linestyle='--', linewidth=1.5)\n",
    "\n",
    "plt.legend(loc='upper right')\n",
    "plt.show()"
   ]
  },
  {
   "cell_type": "code",
   "execution_count": null,
   "metadata": {},
   "outputs": [],
   "source": []
  }
 ],
 "metadata": {
  "kernelspec": {
   "display_name": "Python 3",
   "language": "python",
   "name": "python3"
  },
  "language_info": {
   "codemirror_mode": {
    "name": "ipython",
    "version": 3
   },
   "file_extension": ".py",
   "mimetype": "text/x-python",
   "name": "python",
   "nbconvert_exporter": "python",
   "pygments_lexer": "ipython3",
   "version": "3.9.2"
  }
 },
 "nbformat": 4,
 "nbformat_minor": 4
}
