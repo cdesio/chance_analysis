{
 "cells": [
  {
   "cell_type": "code",
   "execution_count": 1,
   "id": "cae9f709",
   "metadata": {},
   "outputs": [],
   "source": [
    "import os, sys\n",
    "import numpy as np\n",
    "import matplotlib.pyplot as plt"
   ]
  },
  {
   "cell_type": "code",
   "execution_count": 2,
   "id": "90906e87",
   "metadata": {},
   "outputs": [],
   "source": [
    "sys.path.append('../readmaroc/')"
   ]
  },
  {
   "cell_type": "code",
   "execution_count": 5,
   "id": "61f715bc",
   "metadata": {},
   "outputs": [],
   "source": [
    "%matplotlib qt"
   ]
  },
  {
   "cell_type": "code",
   "execution_count": 3,
   "id": "cedf12b0",
   "metadata": {},
   "outputs": [],
   "source": [
    "from maroc_data import MarocData, Header"
   ]
  },
  {
   "cell_type": "code",
   "execution_count": 140,
   "id": "a01560f9",
   "metadata": {},
   "outputs": [],
   "source": [
    "fname = '../data/0802/Run000089537.dat'"
   ]
  },
  {
   "cell_type": "code",
   "execution_count": 141,
   "id": "a04f310e",
   "metadata": {},
   "outputs": [],
   "source": [
    "fno = [87989, 89537, 88582]"
   ]
  },
  {
   "cell_type": "code",
   "execution_count": 142,
   "id": "063e2fbc",
   "metadata": {},
   "outputs": [],
   "source": [
    "maroc_data = MarocData(fname)"
   ]
  },
  {
   "cell_type": "markdown",
   "id": "bc061b4e",
   "metadata": {},
   "source": [
    "Get all events numbers and timestamps"
   ]
  },
  {
   "cell_type": "code",
   "execution_count": 143,
   "id": "3278b892",
   "metadata": {},
   "outputs": [],
   "source": [
    "events_tot = []\n",
    "ts_tot = []\n",
    "for board in maroc_data.active_boards:\n",
    "    board_data = maroc_data.header_board(board)\n",
    "    ts = [Header(i).TS for i in board_data][1:]\n",
    "    n_events = [Header(i).trigg_n_TS for i in board_data][1:]\n",
    "    events_tot.append(n_events)\n",
    "    ts_tot.append(ts)"
   ]
  },
  {
   "cell_type": "markdown",
   "id": "8fda4a48",
   "metadata": {},
   "source": [
    "get maximum event number"
   ]
  },
  {
   "cell_type": "code",
   "execution_count": 144,
   "id": "1f5b92a9",
   "metadata": {},
   "outputs": [
    {
     "data": {
      "text/plain": [
       "1311"
      ]
     },
     "execution_count": 144,
     "metadata": {},
     "output_type": "execute_result"
    }
   ],
   "source": [
    "np.max(np.unique(np.hstack(events_tot)))"
   ]
  },
  {
   "cell_type": "markdown",
   "id": "dd7ef61f",
   "metadata": {},
   "source": [
    "counts = []\n",
    "for j, evt in enumerate(events_tot):\n",
    "    count_i = 0\n",
    "    for i in np.arange(1,np.max(np.unique(np.hstack(events_tot)))):\n",
    "        if i in evt:\n",
    "            count_i+=1\n",
    "        else:\n",
    "            print('missing {} in board {}'.format(i, j+1))\n",
    "    counts.append((i, count_i))"
   ]
  },
  {
   "cell_type": "markdown",
   "id": "d9ff6806",
   "metadata": {},
   "source": [
    "create padded array (all zeros, then fill with values where there is an event"
   ]
  },
  {
   "cell_type": "code",
   "execution_count": 168,
   "id": "accb4ddd",
   "metadata": {},
   "outputs": [],
   "source": [
    "padded_events = np.zeros((maroc_data.n_active_boards,np.max(np.unique(np.hstack(events_tot)))))\n",
    "padded_ts = np.zeros((maroc_data.n_active_boards,np.max(np.unique(np.hstack(events_tot)))))"
   ]
  },
  {
   "cell_type": "code",
   "execution_count": 169,
   "id": "4078a2ba",
   "metadata": {},
   "outputs": [],
   "source": [
    "for i, b in enumerate(maroc_data.active_boards):\n",
    "    unique_event_id = np.unique(events_tot[i])\n",
    "    unique_ts = np.unique(ts_tot[i]-ts_tot[i][0])\n",
    "    padded_events[i][unique_event_id-1] = unique_event_id\n",
    "    padded_ts[i][unique_event_id-1] = unique_ts"
   ]
  },
  {
   "cell_type": "code",
   "execution_count": 170,
   "id": "8632dd43",
   "metadata": {},
   "outputs": [],
   "source": [
    "plt.hist(np.count_nonzero(padded_ts, axis=0), histtype=u'step', \n",
    "         edgecolor='k', bins=np.arange(0,30,1))\n",
    "plt.show()"
   ]
  },
  {
   "cell_type": "code",
   "execution_count": 171,
   "id": "a16f2a3f",
   "metadata": {},
   "outputs": [],
   "source": [
    "count_ts = np.where(np.count_nonzero(padded_ts, axis=0)==28)[0]"
   ]
  },
  {
   "cell_type": "code",
   "execution_count": 172,
   "id": "efd11ffd",
   "metadata": {},
   "outputs": [],
   "source": [
    "delta = np.max(padded_ts, axis=0)[count_ts]- np.mean(padded_ts, axis=0)[count_ts]"
   ]
  },
  {
   "cell_type": "code",
   "execution_count": 173,
   "id": "b52534ff",
   "metadata": {},
   "outputs": [],
   "source": [
    "plt.hist(delta, histtype=u'step', \n",
    "         edgecolor='k', bins=100)\n",
    "plt.show()\n",
    "         "
   ]
  },
  {
   "cell_type": "code",
   "execution_count": 190,
   "id": "cb37f057",
   "metadata": {},
   "outputs": [
    {
     "name": "stdout",
     "output_type": "stream",
     "text": [
      "0\n",
      "0\n",
      "0\n",
      "0\n",
      "0\n",
      "0\n",
      "0\n",
      "0\n",
      "0\n",
      "0\n",
      "0\n",
      "0\n",
      "0\n",
      "0\n",
      "0\n",
      "0\n",
      "0\n",
      "0\n",
      "0\n",
      "0\n",
      "0\n",
      "0\n",
      "0\n",
      "0\n",
      "0\n",
      "0\n",
      "0\n",
      "0\n"
     ]
    }
   ],
   "source": [
    "\n",
    "count_tot = []\n",
    "for b in ts_tot:\n",
    "    count_b = 0\n",
    "    count_neg = 0\n",
    "    for ts in b-b[0]:\n",
    "        if ts>=0:\n",
    "            count_b+=1\n",
    "        else:\n",
    "            count_neg=+1\n",
    "    print(count_neg)\n",
    "    count_tot.append(count_b)"
   ]
  },
  {
   "cell_type": "code",
   "execution_count": 187,
   "id": "fed2cf32",
   "metadata": {},
   "outputs": [
    {
     "data": {
      "text/plain": [
       "[1232,\n",
       " 1224,\n",
       " 1224,\n",
       " 1182,\n",
       " 1217,\n",
       " 1223,\n",
       " 1243,\n",
       " 1206,\n",
       " 1228,\n",
       " 1209,\n",
       " 1268,\n",
       " 1288,\n",
       " 1226,\n",
       " 1288,\n",
       " 1250,\n",
       " 1264,\n",
       " 1284,\n",
       " 1264,\n",
       " 1245,\n",
       " 1265,\n",
       " 1265,\n",
       " 1243,\n",
       " 1305,\n",
       " 1305,\n",
       " 1262,\n",
       " 1243,\n",
       " 1223,\n",
       " 1225]"
      ]
     },
     "execution_count": 187,
     "metadata": {},
     "output_type": "execute_result"
    }
   ],
   "source": [
    "count_tot"
   ]
  },
  {
   "cell_type": "code",
   "execution_count": null,
   "id": "0d14fc66",
   "metadata": {},
   "outputs": [],
   "source": []
  }
 ],
 "metadata": {
  "kernelspec": {
   "display_name": "Python 3",
   "language": "python",
   "name": "python3"
  },
  "language_info": {
   "codemirror_mode": {
    "name": "ipython",
    "version": 3
   },
   "file_extension": ".py",
   "mimetype": "text/x-python",
   "name": "python",
   "nbconvert_exporter": "python",
   "pygments_lexer": "ipython3",
   "version": "3.9.4"
  }
 },
 "nbformat": 4,
 "nbformat_minor": 5
}
