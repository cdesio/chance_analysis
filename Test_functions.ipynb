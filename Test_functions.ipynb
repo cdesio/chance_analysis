{
 "cells": [
  {
   "cell_type": "code",
   "execution_count": 1,
   "metadata": {},
   "outputs": [],
   "source": [
    "import os\n",
    "import uproot3\n",
    "import numpy as np"
   ]
  },
  {
   "cell_type": "code",
   "execution_count": 2,
   "metadata": {},
   "outputs": [],
   "source": [
    "from histogram_data import Bin, BinEdges"
   ]
  },
  {
   "cell_type": "code",
   "execution_count": 3,
   "metadata": {},
   "outputs": [],
   "source": [
    "%load_ext autoreload"
   ]
  },
  {
   "cell_type": "code",
   "execution_count": 4,
   "metadata": {},
   "outputs": [],
   "source": [
    "%autoreload 2"
   ]
  },
  {
   "cell_type": "code",
   "execution_count": 5,
   "metadata": {},
   "outputs": [],
   "source": [
    "infile_21l = 'data/largedrum_21L_dense_MedianCut_3cmVoxel_all.discriminator.root'"
   ]
  },
  {
   "cell_type": "code",
   "execution_count": 6,
   "metadata": {},
   "outputs": [],
   "source": [
    "fu = uproot3.open(infile_21l)\n",
    "histogram_21l = fu['histMedianMetric'].numpy()[0]\n",
    "bins_x, bins_y, bins_z = fu['histMedianMetric;1'].numpy()[1][0]"
   ]
  },
  {
   "cell_type": "code",
   "execution_count": 7,
   "metadata": {},
   "outputs": [
    {
     "data": {
      "text/plain": [
       "((67,), (67,), (34,))"
      ]
     },
     "execution_count": 7,
     "metadata": {},
     "output_type": "execute_result"
    }
   ],
   "source": [
    "bins_x.shape,bins_y.shape, bins_z.shape"
   ]
  },
  {
   "cell_type": "code",
   "execution_count": 8,
   "metadata": {},
   "outputs": [],
   "source": [
    "from dataclasses import dataclass\n",
    "\n",
    "@dataclass\n",
    "class Bin:\n",
    "    left: float\n",
    "    right: float\n",
    "    \n",
    "    def __contains__(self, x: float):\n",
    "        return (x >= self.left) and (x <= self.right)\n",
    "    \n",
    "    def __ge__(self, x: float):\n",
    "        return self.right >= x\n",
    "    \n",
    "    def __le__(self, x: float):\n",
    "        return self.left <= x\n",
    "    \n",
    "    def __gt__(self, x: float):\n",
    "        return self.right > x\n",
    "    \n",
    "    def __lt__(self, x: float):\n",
    "        return self.left < x\n",
    "    "
   ]
  },
  {
   "cell_type": "code",
   "execution_count": 9,
   "metadata": {},
   "outputs": [],
   "source": [
    "x_bins = [Bin(l, r) for l, r in zip(bins_x[:-1], bins_x[1:])]\n",
    "y_bins = [Bin(l, r) for l, r in zip(bins_y[:-1], bins_y[1:])]\n",
    "z_bins = [Bin(l, r) for l, r in zip(bins_z[:-1], bins_z[1:])]"
   ]
  },
  {
   "cell_type": "code",
   "execution_count": 12,
   "metadata": {},
   "outputs": [
    {
     "name": "stdout",
     "output_type": "stream",
     "text": [
      "(30,) (20,) (21,)\n"
     ]
    }
   ],
   "source": [
    "sel_x = np.asarray(list(map(lambda b: -440 <= b <= 440, x_bins))).astype(bool)\n",
    "sel_y = np.asarray(list(map(lambda b: -300 <= b <= 300, y_bins))).astype(bool)\n",
    "sel_z = np.asarray(list(map(lambda b: -300 <= b <= 300, z_bins))).astype(bool)\n",
    "\n",
    "sel_x = np.where(sel_x)[0]\n",
    "sel_y = np.where(sel_y)[0]\n",
    "sel_z = np.where(sel_z)[0]\n",
    "\n",
    "print(sel_x.shape, sel_y.shape, sel_z.shape)\n",
    "\n",
    "xx, yy, zz = np.meshgrid(sel_x, sel_y, sel_z, indexing='ij')"
   ]
  },
  {
   "cell_type": "code",
   "execution_count": 13,
   "metadata": {},
   "outputs": [
    {
     "data": {
      "text/plain": [
       "(30, 20, 21)"
      ]
     },
     "execution_count": 13,
     "metadata": {},
     "output_type": "execute_result"
    }
   ],
   "source": [
    "histogram_21l[xx, yy, zz].shape"
   ]
  },
  {
   "cell_type": "code",
   "execution_count": 14,
   "metadata": {
    "collapsed": true,
    "jupyter": {
     "outputs_hidden": true
    },
    "tags": []
   },
   "outputs": [
    {
     "data": {
      "text/plain": [
       "array([Bin(left=-454.5454545454545, right=-424.24242424242425),\n",
       "       Bin(left=-424.24242424242425, right=-393.9393939393939),\n",
       "       Bin(left=-393.9393939393939, right=-363.6363636363636),\n",
       "       Bin(left=-363.6363636363636, right=-333.33333333333326),\n",
       "       Bin(left=-333.33333333333326, right=-303.030303030303),\n",
       "       Bin(left=-303.030303030303, right=-272.72727272727275),\n",
       "       Bin(left=-272.72727272727275, right=-242.42424242424238),\n",
       "       Bin(left=-242.42424242424238, right=-212.12121212121212),\n",
       "       Bin(left=-212.12121212121212, right=-181.81818181818176),\n",
       "       Bin(left=-181.81818181818176, right=-151.5151515151515),\n",
       "       Bin(left=-151.5151515151515, right=-121.21212121212113),\n",
       "       Bin(left=-121.21212121212113, right=-90.90909090909088),\n",
       "       Bin(left=-90.90909090909088, right=-60.60606060606051),\n",
       "       Bin(left=-60.60606060606051, right=-30.303030303030255),\n",
       "       Bin(left=-30.303030303030255, right=0.0),\n",
       "       Bin(left=0.0, right=30.303030303030255),\n",
       "       Bin(left=30.303030303030255, right=60.60606060606074),\n",
       "       Bin(left=60.60606060606074, right=90.90909090909099),\n",
       "       Bin(left=90.90909090909099, right=121.21212121212125),\n",
       "       Bin(left=121.21212121212125, right=151.5151515151515),\n",
       "       Bin(left=151.5151515151515, right=181.81818181818198),\n",
       "       Bin(left=181.81818181818198, right=212.12121212121224),\n",
       "       Bin(left=212.12121212121224, right=242.4242424242425),\n",
       "       Bin(left=242.4242424242425, right=272.72727272727275),\n",
       "       Bin(left=272.72727272727275, right=303.030303030303),\n",
       "       Bin(left=303.030303030303, right=333.3333333333335),\n",
       "       Bin(left=333.3333333333335, right=363.63636363636374),\n",
       "       Bin(left=363.63636363636374, right=393.939393939394),\n",
       "       Bin(left=393.939393939394, right=424.24242424242425),\n",
       "       Bin(left=424.24242424242425, right=454.5454545454545)],\n",
       "      dtype=object)"
      ]
     },
     "execution_count": 14,
     "metadata": {},
     "output_type": "execute_result"
    }
   ],
   "source": [
    "x_bins_a = np.asarray(x_bins)\n",
    "x_bins_a[sel_x]"
   ]
  },
  {
   "cell_type": "code",
   "execution_count": 16,
   "metadata": {},
   "outputs": [
    {
     "data": {
      "text/plain": [
       "[Bin(left=-1000.0, right=-969.6969696969697),\n",
       " Bin(left=-969.6969696969697, right=-939.3939393939394),\n",
       " Bin(left=-939.3939393939394, right=-909.0909090909091),\n",
       " Bin(left=-909.0909090909091, right=-878.7878787878788),\n",
       " Bin(left=-878.7878787878788, right=-848.4848484848485),\n",
       " Bin(left=-848.4848484848485, right=-818.1818181818182),\n",
       " Bin(left=-818.1818181818182, right=-787.8787878787879),\n",
       " Bin(left=-787.8787878787879, right=-757.5757575757575),\n",
       " Bin(left=-757.5757575757575, right=-727.2727272727273),\n",
       " Bin(left=-727.2727272727273, right=-696.969696969697),\n",
       " Bin(left=-696.969696969697, right=-666.6666666666666),\n",
       " Bin(left=-666.6666666666666, right=-636.3636363636364),\n",
       " Bin(left=-636.3636363636364, right=-606.060606060606),\n",
       " Bin(left=-606.060606060606, right=-575.7575757575758),\n",
       " Bin(left=-575.7575757575758, right=-545.4545454545455),\n",
       " Bin(left=-545.4545454545455, right=-515.1515151515151),\n",
       " Bin(left=-515.1515151515151, right=-484.8484848484849),\n",
       " Bin(left=-484.8484848484849, right=-454.5454545454545),\n",
       " Bin(left=-454.5454545454545, right=-424.24242424242425),\n",
       " Bin(left=-424.24242424242425, right=-393.9393939393939),\n",
       " Bin(left=-393.9393939393939, right=-363.6363636363636),\n",
       " Bin(left=-363.6363636363636, right=-333.33333333333326),\n",
       " Bin(left=-333.33333333333326, right=-303.030303030303),\n",
       " Bin(left=-303.030303030303, right=-272.72727272727275),\n",
       " Bin(left=-272.72727272727275, right=-242.42424242424238),\n",
       " Bin(left=-242.42424242424238, right=-212.12121212121212),\n",
       " Bin(left=-212.12121212121212, right=-181.81818181818176),\n",
       " Bin(left=-181.81818181818176, right=-151.5151515151515),\n",
       " Bin(left=-151.5151515151515, right=-121.21212121212113),\n",
       " Bin(left=-121.21212121212113, right=-90.90909090909088),\n",
       " Bin(left=-90.90909090909088, right=-60.60606060606051),\n",
       " Bin(left=-60.60606060606051, right=-30.303030303030255),\n",
       " Bin(left=-30.303030303030255, right=0.0),\n",
       " Bin(left=0.0, right=30.303030303030255),\n",
       " Bin(left=30.303030303030255, right=60.60606060606074),\n",
       " Bin(left=60.60606060606074, right=90.90909090909099),\n",
       " Bin(left=90.90909090909099, right=121.21212121212125),\n",
       " Bin(left=121.21212121212125, right=151.5151515151515),\n",
       " Bin(left=151.5151515151515, right=181.81818181818198),\n",
       " Bin(left=181.81818181818198, right=212.12121212121224),\n",
       " Bin(left=212.12121212121224, right=242.4242424242425),\n",
       " Bin(left=242.4242424242425, right=272.72727272727275),\n",
       " Bin(left=272.72727272727275, right=303.030303030303),\n",
       " Bin(left=303.030303030303, right=333.3333333333335),\n",
       " Bin(left=333.3333333333335, right=363.63636363636374),\n",
       " Bin(left=363.63636363636374, right=393.939393939394),\n",
       " Bin(left=393.939393939394, right=424.24242424242425),\n",
       " Bin(left=424.24242424242425, right=454.5454545454545),\n",
       " Bin(left=454.5454545454545, right=484.848484848485),\n",
       " Bin(left=484.848484848485, right=515.1515151515152),\n",
       " Bin(left=515.1515151515152, right=545.4545454545455),\n",
       " Bin(left=545.4545454545455, right=575.7575757575758),\n",
       " Bin(left=575.7575757575758, right=606.0606060606062),\n",
       " Bin(left=606.0606060606062, right=636.3636363636365),\n",
       " Bin(left=636.3636363636365, right=666.6666666666667),\n",
       " Bin(left=666.6666666666667, right=696.969696969697),\n",
       " Bin(left=696.969696969697, right=727.2727272727273),\n",
       " Bin(left=727.2727272727273, right=757.5757575757577),\n",
       " Bin(left=757.5757575757577, right=787.878787878788),\n",
       " Bin(left=787.878787878788, right=818.1818181818182),\n",
       " Bin(left=818.1818181818182, right=848.4848484848485),\n",
       " Bin(left=848.4848484848485, right=878.787878787879),\n",
       " Bin(left=878.787878787879, right=909.0909090909092),\n",
       " Bin(left=909.0909090909092, right=939.3939393939395),\n",
       " Bin(left=939.3939393939395, right=969.6969696969697),\n",
       " Bin(left=969.6969696969697, right=1000.0)]"
      ]
     },
     "execution_count": 16,
     "metadata": {},
     "output_type": "execute_result"
    }
   ],
   "source": [
    "x_bins"
   ]
  },
  {
   "cell_type": "code",
   "execution_count": 19,
   "metadata": {},
   "outputs": [],
   "source": [
    "from bins import Bin, select"
   ]
  },
  {
   "cell_type": "code",
   "execution_count": 20,
   "metadata": {},
   "outputs": [],
   "source": [
    "x_bins = [Bin(l, r) for l, r in zip(bins_x[:-1], bins_x[1:])]"
   ]
  },
  {
   "cell_type": "code",
   "execution_count": 34,
   "metadata": {},
   "outputs": [],
   "source": [
    "x_bins_centre = [Bin(l,r).centre() for l,r in zip(bins_x[:-1], bins_x[1:])]"
   ]
  },
  {
   "cell_type": "code",
   "execution_count": 38,
   "metadata": {},
   "outputs": [
    {
     "data": {
      "text/plain": [
       "array([-439.39393939, -409.09090909, -378.78787879, -348.48484848,\n",
       "       -318.18181818, -287.87878788, -257.57575758, -227.27272727,\n",
       "       -196.96969697, -166.66666667, -136.36363636, -106.06060606,\n",
       "        -75.75757576,  -45.45454545,  -15.15151515,   15.15151515,\n",
       "         45.45454545,   75.75757576,  106.06060606,  136.36363636,\n",
       "        166.66666667,  196.96969697,  227.27272727,  257.57575758,\n",
       "        287.87878788,  318.18181818,  348.48484848,  378.78787879,\n",
       "        409.09090909,  439.39393939])"
      ]
     },
     "execution_count": 38,
     "metadata": {},
     "output_type": "execute_result"
    }
   ],
   "source": [
    "np.asarray(x_bins_centre)[selected_bins]"
   ]
  },
  {
   "cell_type": "code",
   "execution_count": 21,
   "metadata": {
    "collapsed": true,
    "jupyter": {
     "outputs_hidden": true
    },
    "tags": []
   },
   "outputs": [
    {
     "data": {
      "text/plain": [
       "[Bin(left=-1000.0, right=-969.6969696969697),\n",
       " Bin(left=-969.6969696969697, right=-939.3939393939394),\n",
       " Bin(left=-939.3939393939394, right=-909.0909090909091),\n",
       " Bin(left=-909.0909090909091, right=-878.7878787878788),\n",
       " Bin(left=-878.7878787878788, right=-848.4848484848485),\n",
       " Bin(left=-848.4848484848485, right=-818.1818181818182),\n",
       " Bin(left=-818.1818181818182, right=-787.8787878787879),\n",
       " Bin(left=-787.8787878787879, right=-757.5757575757575),\n",
       " Bin(left=-757.5757575757575, right=-727.2727272727273),\n",
       " Bin(left=-727.2727272727273, right=-696.969696969697),\n",
       " Bin(left=-696.969696969697, right=-666.6666666666666),\n",
       " Bin(left=-666.6666666666666, right=-636.3636363636364),\n",
       " Bin(left=-636.3636363636364, right=-606.060606060606),\n",
       " Bin(left=-606.060606060606, right=-575.7575757575758),\n",
       " Bin(left=-575.7575757575758, right=-545.4545454545455),\n",
       " Bin(left=-545.4545454545455, right=-515.1515151515151),\n",
       " Bin(left=-515.1515151515151, right=-484.8484848484849),\n",
       " Bin(left=-484.8484848484849, right=-454.5454545454545),\n",
       " Bin(left=-454.5454545454545, right=-424.24242424242425),\n",
       " Bin(left=-424.24242424242425, right=-393.9393939393939),\n",
       " Bin(left=-393.9393939393939, right=-363.6363636363636),\n",
       " Bin(left=-363.6363636363636, right=-333.33333333333326),\n",
       " Bin(left=-333.33333333333326, right=-303.030303030303),\n",
       " Bin(left=-303.030303030303, right=-272.72727272727275),\n",
       " Bin(left=-272.72727272727275, right=-242.42424242424238),\n",
       " Bin(left=-242.42424242424238, right=-212.12121212121212),\n",
       " Bin(left=-212.12121212121212, right=-181.81818181818176),\n",
       " Bin(left=-181.81818181818176, right=-151.5151515151515),\n",
       " Bin(left=-151.5151515151515, right=-121.21212121212113),\n",
       " Bin(left=-121.21212121212113, right=-90.90909090909088),\n",
       " Bin(left=-90.90909090909088, right=-60.60606060606051),\n",
       " Bin(left=-60.60606060606051, right=-30.303030303030255),\n",
       " Bin(left=-30.303030303030255, right=0.0),\n",
       " Bin(left=0.0, right=30.303030303030255),\n",
       " Bin(left=30.303030303030255, right=60.60606060606074),\n",
       " Bin(left=60.60606060606074, right=90.90909090909099),\n",
       " Bin(left=90.90909090909099, right=121.21212121212125),\n",
       " Bin(left=121.21212121212125, right=151.5151515151515),\n",
       " Bin(left=151.5151515151515, right=181.81818181818198),\n",
       " Bin(left=181.81818181818198, right=212.12121212121224),\n",
       " Bin(left=212.12121212121224, right=242.4242424242425),\n",
       " Bin(left=242.4242424242425, right=272.72727272727275),\n",
       " Bin(left=272.72727272727275, right=303.030303030303),\n",
       " Bin(left=303.030303030303, right=333.3333333333335),\n",
       " Bin(left=333.3333333333335, right=363.63636363636374),\n",
       " Bin(left=363.63636363636374, right=393.939393939394),\n",
       " Bin(left=393.939393939394, right=424.24242424242425),\n",
       " Bin(left=424.24242424242425, right=454.5454545454545),\n",
       " Bin(left=454.5454545454545, right=484.848484848485),\n",
       " Bin(left=484.848484848485, right=515.1515151515152),\n",
       " Bin(left=515.1515151515152, right=545.4545454545455),\n",
       " Bin(left=545.4545454545455, right=575.7575757575758),\n",
       " Bin(left=575.7575757575758, right=606.0606060606062),\n",
       " Bin(left=606.0606060606062, right=636.3636363636365),\n",
       " Bin(left=636.3636363636365, right=666.6666666666667),\n",
       " Bin(left=666.6666666666667, right=696.969696969697),\n",
       " Bin(left=696.969696969697, right=727.2727272727273),\n",
       " Bin(left=727.2727272727273, right=757.5757575757577),\n",
       " Bin(left=757.5757575757577, right=787.878787878788),\n",
       " Bin(left=787.878787878788, right=818.1818181818182),\n",
       " Bin(left=818.1818181818182, right=848.4848484848485),\n",
       " Bin(left=848.4848484848485, right=878.787878787879),\n",
       " Bin(left=878.787878787879, right=909.0909090909092),\n",
       " Bin(left=909.0909090909092, right=939.3939393939395),\n",
       " Bin(left=939.3939393939395, right=969.6969696969697),\n",
       " Bin(left=969.6969696969697, right=1000.0)]"
      ]
     },
     "execution_count": 21,
     "metadata": {},
     "output_type": "execute_result"
    }
   ],
   "source": [
    "x_bins"
   ]
  },
  {
   "cell_type": "code",
   "execution_count": 22,
   "metadata": {},
   "outputs": [],
   "source": [
    "edges = Bin(-440, 440)"
   ]
  },
  {
   "cell_type": "code",
   "execution_count": 23,
   "metadata": {},
   "outputs": [
    {
     "data": {
      "text/plain": [
       "Bin(left=-440, right=440)"
      ]
     },
     "execution_count": 23,
     "metadata": {},
     "output_type": "execute_result"
    }
   ],
   "source": [
    "edges"
   ]
  },
  {
   "cell_type": "code",
   "execution_count": 25,
   "metadata": {},
   "outputs": [],
   "source": [
    "selected_bins = select(x_bins, edges)"
   ]
  },
  {
   "cell_type": "code",
   "execution_count": 26,
   "metadata": {},
   "outputs": [
    {
     "data": {
      "text/plain": [
       "array([-454.54545455, -424.24242424, -393.93939394, -363.63636364,\n",
       "       -333.33333333, -303.03030303, -272.72727273, -242.42424242,\n",
       "       -212.12121212, -181.81818182, -151.51515152, -121.21212121,\n",
       "        -90.90909091,  -60.60606061,  -30.3030303 ,    0.        ,\n",
       "         30.3030303 ,   60.60606061,   90.90909091,  121.21212121,\n",
       "        151.51515152,  181.81818182,  212.12121212,  242.42424242,\n",
       "        272.72727273,  303.03030303,  333.33333333,  363.63636364,\n",
       "        393.93939394,  424.24242424])"
      ]
     },
     "execution_count": 26,
     "metadata": {},
     "output_type": "execute_result"
    }
   ],
   "source": [
    "bins_x[selected_bins]"
   ]
  },
  {
   "cell_type": "code",
   "execution_count": 27,
   "metadata": {},
   "outputs": [
    {
     "data": {
      "text/plain": [
       "array([18, 19, 20, 21, 22, 23, 24, 25, 26, 27, 28, 29, 30, 31, 32, 33, 34,\n",
       "       35, 36, 37, 38, 39, 40, 41, 42, 43, 44, 45, 46, 47])"
      ]
     },
     "execution_count": 27,
     "metadata": {},
     "output_type": "execute_result"
    }
   ],
   "source": [
    "selected_bins"
   ]
  },
  {
   "cell_type": "code",
   "execution_count": 29,
   "metadata": {},
   "outputs": [
    {
     "data": {
      "text/plain": [
       "66"
      ]
     },
     "execution_count": 29,
     "metadata": {},
     "output_type": "execute_result"
    }
   ],
   "source": [
    "len(x_bins)"
   ]
  },
  {
   "cell_type": "code",
   "execution_count": 31,
   "metadata": {},
   "outputs": [
    {
     "data": {
      "text/plain": [
       "array([Bin(left=-454.5454545454545, right=-424.24242424242425),\n",
       "       Bin(left=-424.24242424242425, right=-393.9393939393939),\n",
       "       Bin(left=-393.9393939393939, right=-363.6363636363636),\n",
       "       Bin(left=-363.6363636363636, right=-333.33333333333326),\n",
       "       Bin(left=-333.33333333333326, right=-303.030303030303),\n",
       "       Bin(left=-303.030303030303, right=-272.72727272727275),\n",
       "       Bin(left=-272.72727272727275, right=-242.42424242424238),\n",
       "       Bin(left=-242.42424242424238, right=-212.12121212121212),\n",
       "       Bin(left=-212.12121212121212, right=-181.81818181818176),\n",
       "       Bin(left=-181.81818181818176, right=-151.5151515151515),\n",
       "       Bin(left=-151.5151515151515, right=-121.21212121212113),\n",
       "       Bin(left=-121.21212121212113, right=-90.90909090909088),\n",
       "       Bin(left=-90.90909090909088, right=-60.60606060606051),\n",
       "       Bin(left=-60.60606060606051, right=-30.303030303030255),\n",
       "       Bin(left=-30.303030303030255, right=0.0),\n",
       "       Bin(left=0.0, right=30.303030303030255),\n",
       "       Bin(left=30.303030303030255, right=60.60606060606074),\n",
       "       Bin(left=60.60606060606074, right=90.90909090909099),\n",
       "       Bin(left=90.90909090909099, right=121.21212121212125),\n",
       "       Bin(left=121.21212121212125, right=151.5151515151515),\n",
       "       Bin(left=151.5151515151515, right=181.81818181818198),\n",
       "       Bin(left=181.81818181818198, right=212.12121212121224),\n",
       "       Bin(left=212.12121212121224, right=242.4242424242425),\n",
       "       Bin(left=242.4242424242425, right=272.72727272727275),\n",
       "       Bin(left=272.72727272727275, right=303.030303030303),\n",
       "       Bin(left=303.030303030303, right=333.3333333333335),\n",
       "       Bin(left=333.3333333333335, right=363.63636363636374),\n",
       "       Bin(left=363.63636363636374, right=393.939393939394),\n",
       "       Bin(left=393.939393939394, right=424.24242424242425),\n",
       "       Bin(left=424.24242424242425, right=454.5454545454545)],\n",
       "      dtype=object)"
      ]
     },
     "execution_count": 31,
     "metadata": {},
     "output_type": "execute_result"
    }
   ],
   "source": [
    "x_bins_a = np.asarray(x_bins)\n",
    "x_bins_a[selected_bins]"
   ]
  },
  {
   "cell_type": "code",
   "execution_count": 47,
   "metadata": {},
   "outputs": [],
   "source": [
    "from bins import Axes"
   ]
  },
  {
   "cell_type": "code",
   "execution_count": 48,
   "metadata": {},
   "outputs": [],
   "source": [
    "rootbins = Axes(bins_x, bins_y, bins_z)"
   ]
  },
  {
   "cell_type": "code",
   "execution_count": 50,
   "metadata": {},
   "outputs": [
    {
     "data": {
      "text/plain": [
       "[Bin(left=-1000.0, right=-969.6969696969697),\n",
       " Bin(left=-969.6969696969697, right=-939.3939393939394),\n",
       " Bin(left=-939.3939393939394, right=-909.0909090909091),\n",
       " Bin(left=-909.0909090909091, right=-878.7878787878788),\n",
       " Bin(left=-878.7878787878788, right=-848.4848484848485),\n",
       " Bin(left=-848.4848484848485, right=-818.1818181818182),\n",
       " Bin(left=-818.1818181818182, right=-787.8787878787879),\n",
       " Bin(left=-787.8787878787879, right=-757.5757575757575),\n",
       " Bin(left=-757.5757575757575, right=-727.2727272727273),\n",
       " Bin(left=-727.2727272727273, right=-696.969696969697),\n",
       " Bin(left=-696.969696969697, right=-666.6666666666666),\n",
       " Bin(left=-666.6666666666666, right=-636.3636363636364),\n",
       " Bin(left=-636.3636363636364, right=-606.060606060606),\n",
       " Bin(left=-606.060606060606, right=-575.7575757575758),\n",
       " Bin(left=-575.7575757575758, right=-545.4545454545455),\n",
       " Bin(left=-545.4545454545455, right=-515.1515151515151),\n",
       " Bin(left=-515.1515151515151, right=-484.8484848484849),\n",
       " Bin(left=-484.8484848484849, right=-454.5454545454545),\n",
       " Bin(left=-454.5454545454545, right=-424.24242424242425),\n",
       " Bin(left=-424.24242424242425, right=-393.9393939393939),\n",
       " Bin(left=-393.9393939393939, right=-363.6363636363636),\n",
       " Bin(left=-363.6363636363636, right=-333.33333333333326),\n",
       " Bin(left=-333.33333333333326, right=-303.030303030303),\n",
       " Bin(left=-303.030303030303, right=-272.72727272727275),\n",
       " Bin(left=-272.72727272727275, right=-242.42424242424238),\n",
       " Bin(left=-242.42424242424238, right=-212.12121212121212),\n",
       " Bin(left=-212.12121212121212, right=-181.81818181818176),\n",
       " Bin(left=-181.81818181818176, right=-151.5151515151515),\n",
       " Bin(left=-151.5151515151515, right=-121.21212121212113),\n",
       " Bin(left=-121.21212121212113, right=-90.90909090909088),\n",
       " Bin(left=-90.90909090909088, right=-60.60606060606051),\n",
       " Bin(left=-60.60606060606051, right=-30.303030303030255),\n",
       " Bin(left=-30.303030303030255, right=0.0),\n",
       " Bin(left=0.0, right=30.303030303030255),\n",
       " Bin(left=30.303030303030255, right=60.60606060606074),\n",
       " Bin(left=60.60606060606074, right=90.90909090909099),\n",
       " Bin(left=90.90909090909099, right=121.21212121212125),\n",
       " Bin(left=121.21212121212125, right=151.5151515151515),\n",
       " Bin(left=151.5151515151515, right=181.81818181818198),\n",
       " Bin(left=181.81818181818198, right=212.12121212121224),\n",
       " Bin(left=212.12121212121224, right=242.4242424242425),\n",
       " Bin(left=242.4242424242425, right=272.72727272727275),\n",
       " Bin(left=272.72727272727275, right=303.030303030303),\n",
       " Bin(left=303.030303030303, right=333.3333333333335),\n",
       " Bin(left=333.3333333333335, right=363.63636363636374),\n",
       " Bin(left=363.63636363636374, right=393.939393939394),\n",
       " Bin(left=393.939393939394, right=424.24242424242425),\n",
       " Bin(left=424.24242424242425, right=454.5454545454545),\n",
       " Bin(left=454.5454545454545, right=484.848484848485),\n",
       " Bin(left=484.848484848485, right=515.1515151515152),\n",
       " Bin(left=515.1515151515152, right=545.4545454545455),\n",
       " Bin(left=545.4545454545455, right=575.7575757575758),\n",
       " Bin(left=575.7575757575758, right=606.0606060606062),\n",
       " Bin(left=606.0606060606062, right=636.3636363636365),\n",
       " Bin(left=636.3636363636365, right=666.6666666666667),\n",
       " Bin(left=666.6666666666667, right=696.969696969697),\n",
       " Bin(left=696.969696969697, right=727.2727272727273),\n",
       " Bin(left=727.2727272727273, right=757.5757575757577),\n",
       " Bin(left=757.5757575757577, right=787.878787878788),\n",
       " Bin(left=787.878787878788, right=818.1818181818182),\n",
       " Bin(left=818.1818181818182, right=848.4848484848485),\n",
       " Bin(left=848.4848484848485, right=878.787878787879),\n",
       " Bin(left=878.787878787879, right=909.0909090909092),\n",
       " Bin(left=909.0909090909092, right=939.3939393939395),\n",
       " Bin(left=939.3939393939395, right=969.6969696969697),\n",
       " Bin(left=969.6969696969697, right=1000.0)]"
      ]
     },
     "execution_count": 50,
     "metadata": {},
     "output_type": "execute_result"
    }
   ],
   "source": [
    "rootbins.y"
   ]
  },
  {
   "cell_type": "code",
   "execution_count": 144,
   "metadata": {},
   "outputs": [],
   "source": [
    "import matplotlib.pyplot as plt"
   ]
  },
  {
   "cell_type": "code",
   "execution_count": 204,
   "metadata": {},
   "outputs": [],
   "source": [
    "from bins import Hist, Bin"
   ]
  },
  {
   "cell_type": "code",
   "execution_count": 205,
   "metadata": {},
   "outputs": [],
   "source": [
    "histogram21l = Hist(infile_21l)\n",
    "histogram_bitumen = Hist(infile='data/largedrum_onlybitumen_dense_newmetrics_3cmVoxel_April2021.discriminator.root')\n",
    "histogram_hydrogen = Hist(infile='data/largedrum_onlyhydrogen_dense_newmetrics_3cmVoxel_April2021.discriminator.root')"
   ]
  },
  {
   "cell_type": "code",
   "execution_count": 206,
   "metadata": {},
   "outputs": [],
   "source": [
    "centre_21l = histogram21l.cube_select(Bin(-100,100), Bin(-100,100), Bin(-100,100))\n",
    "centre_bitumen = histogram_bitumen.cube_select(Bin(-100,100), Bin(-100,100), Bin(-100,100))\n",
    "centre_hydrogen = histogram_hydrogen.cube_select(Bin(-100,100), Bin(-100,100), Bin(-100,100))"
   ]
  },
  {
   "cell_type": "code",
   "execution_count": 209,
   "metadata": {},
   "outputs": [
    {
     "data": {
      "image/png": "[encoded data removed]",
      "text/plain": [
       "<Figure size 432x288 with 1 Axes>"
      ]
     },
     "metadata": {
      "needs_background": "light"
     },
     "output_type": "display_data"
    }
   ],
   "source": [
    "plt.scatter(centre_21l.distance_x_axis().median, centre_21l.distance_x_axis().distance, s=2, color='red')\n",
    "plt.scatter(centre_bitumen.distance_x_axis().median, centre_bitumen.distance_x_axis().distance, s=2)\n",
    "plt.scatter(centre_hydrogen.distance_x_axis().median, centre_hydrogen.distance_x_axis().distance, s=2, color='green')\n",
    "\n",
    "plt.ylim(0,300)\n",
    "plt.xlim(0,15)\n",
    "plt.show()\n"
   ]
  },
  {
   "cell_type": "code",
   "execution_count": 211,
   "metadata": {},
   "outputs": [
    {
     "data": {
      "image/png": "[encoded data removed]",
      "text/plain": [
       "<Figure size 432x288 with 1 Axes>"
      ]
     },
     "metadata": {
      "needs_background": "light"
     },
     "output_type": "display_data"
    }
   ],
   "source": [
    "plt.scatter(centre_21l.distance_xyz().median, centre_21l.distance_xyz().distance, s=2, color='red')\n",
    "plt.scatter(centre_bitumen.distance_xyz().median, centre_bitumen.distance_xyz().distance, s=2)\n",
    "plt.scatter(centre_hydrogen.distance_xyz().median, centre_hydrogen.distance_xyz().distance, s=2, color='green')\n",
    "\n",
    "\n",
    "plt.ylim(0,300)\n",
    "plt.xlim(0,15)\n",
    "plt.show()\n",
    "\n"
   ]
  },
  {
   "cell_type": "code",
   "execution_count": 212,
   "metadata": {},
   "outputs": [
    {
     "data": {
      "image/png": "[encoded data removed]",
      "text/plain": [
       "<Figure size 432x288 with 1 Axes>"
      ]
     },
     "metadata": {
      "needs_background": "light"
     },
     "output_type": "display_data"
    }
   ],
   "source": [
    "#plt.scatter(centre_21l.distance_x_axis()[0], centre_21l.distance_x_axis()[1], s=2, color='red')\n",
    "plt.scatter(centre_bitumen.distance_x_axis().distance, centre_bitumen.distance_x_axis().median, s=2, c='blue')\n",
    "plt.scatter(centre_hydrogen.distance_x_axis().distance, centre_hydrogen.distance_x_axis().median, s=2, color='red')\n",
    "\n",
    "#plt.xlim(0,300)\n",
    "#plt.ylim(0,15)\n",
    "plt.show()\n",
    "\n"
   ]
  },
  {
   "cell_type": "code",
   "execution_count": 213,
   "metadata": {},
   "outputs": [
    {
     "data": {
      "image/png": "[encoded data removed]",
      "text/plain": [
       "<Figure size 432x288 with 1 Axes>"
      ]
     },
     "metadata": {
      "needs_background": "light"
     },
     "output_type": "display_data"
    }
   ],
   "source": [
    "#plt.scatter(centre_21l.distance_x_axis()[0], centre_21l.distance_x_axis()[1], s=2, color='red')\n",
    "plt.scatter(centre_bitumen.distance_xyz().distance, centre_bitumen.distance_xyz().median, s=2, c='blue')\n",
    "plt.scatter(centre_hydrogen.distance_xyz().distance, centre_hydrogen.distance_xyz().median, s=2, color='red')\n",
    "\n",
    "#plt.xlim(0,300)\n",
    "#plt.ylim(0,15)\n",
    "plt.show()\n",
    "\n"
   ]
  }
 ],
 "metadata": {
  "kernelspec": {
   "display_name": "Python 3",
   "language": "python",
   "name": "python3"
  },
  "language_info": {
   "codemirror_mode": {
    "name": "ipython",
    "version": 3
   },
   "file_extension": ".py",
   "mimetype": "text/x-python",
   "name": "python",
   "nbconvert_exporter": "python",
   "pygments_lexer": "ipython3",
   "version": "3.9.2"
  }
 },
 "nbformat": 4,
 "nbformat_minor": 4
}
