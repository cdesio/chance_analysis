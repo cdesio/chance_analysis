{
 "cells": [
  {
   "cell_type": "code",
   "execution_count": 1,
   "metadata": {},
   "outputs": [],
   "source": [
    "import numpy as np\n",
    "import uproot3\n",
    "import matplotlib.pyplot as plt"
   ]
  },
  {
   "cell_type": "code",
   "execution_count": 2,
   "metadata": {},
   "outputs": [],
   "source": [
    "%matplotlib widget"
   ]
  },
  {
   "cell_type": "code",
   "execution_count": 3,
   "metadata": {},
   "outputs": [],
   "source": [
    "infile_bitumen = 'data/largedrum_onlybitumen_dense_newmetrics_3cmVoxel_April2021.discriminator.root'"
   ]
  },
  {
   "cell_type": "code",
   "execution_count": 4,
   "metadata": {},
   "outputs": [],
   "source": [
    "fu = uproot3.open(infile_bitumen)\n",
    "histogram_bitumen = fu['histMedianMetric'].numpy()[0]\n",
    "bins_x, bins_y, bins_z = fu['histMedianMetric;1'].numpy()[1][0]\n",
    "shape_x, shape_y, shape_z = histogram_bitumen.shape"
   ]
  },
  {
   "cell_type": "code",
   "execution_count": 5,
   "metadata": {},
   "outputs": [],
   "source": [
    "infile_hydrogen = 'data/largedrum_onlyhydrogen_dense_newmetrics_3cmVoxel_April2021.discriminator.root'"
   ]
  },
  {
   "cell_type": "code",
   "execution_count": 6,
   "metadata": {},
   "outputs": [],
   "source": [
    "fu = uproot3.open(infile_hydrogen)\n",
    "histogram_hydrogen = fu['histMedianMetric'].numpy()[0]\n",
    "bins_x, bins_y, bins_z = fu['histMedianMetric;1'].numpy()[1][0]\n",
    "shape_x, shape_y, shape_z = histogram_hydrogen.shape"
   ]
  },
  {
   "cell_type": "code",
   "execution_count": 7,
   "metadata": {
    "tags": []
   },
   "outputs": [],
   "source": [
    "bincentre_x = []\n",
    "for i, _ in enumerate(bins_x[:-1]):\n",
    "    #print(i, bins_x[i], bins_x[i+1],(bins_x[i]+bins_x[i+1])/2 )\n",
    "    bincentre_x.append((bins_x[i]+bins_x[i+1])/2)\n",
    "bincentre_x = np.asarray(bincentre_x)"
   ]
  },
  {
   "cell_type": "code",
   "execution_count": 8,
   "metadata": {},
   "outputs": [],
   "source": [
    "bincentre_y = []\n",
    "for i, _ in enumerate(bins_y[:-1]):\n",
    "    bincentre_y.append((bins_y[i]+bins_y[i+1])/2)\n",
    "bincentre_y = np.asarray(bincentre_y)"
   ]
  },
  {
   "cell_type": "code",
   "execution_count": 9,
   "metadata": {},
   "outputs": [],
   "source": [
    "bincentre_z = []\n",
    "for i, _ in enumerate(bins_z[:-1]):\n",
    "    bincentre_z.append((bins_z[i]+bins_z[i+1])/2)\n",
    "bincentre_z = np.asarray(bincentre_z)"
   ]
  },
  {
   "cell_type": "code",
   "execution_count": null,
   "metadata": {},
   "outputs": [],
   "source": []
  },
  {
   "cell_type": "code",
   "execution_count": 144,
   "metadata": {},
   "outputs": [],
   "source": [
    "def select_histogram_coords(histogram, x_min, x_max, y_min, y_max, z_min, z_max):\n",
    "    \n",
    "    sel_x = np.where(np.logical_and(bincentre_x>=x_min, bincentre_x<=x_max))[0]#[:-1]\n",
    "    sel_y = np.where(np.logical_and(bincentre_y>=y_min, bincentre_y<=y_max))[0]#[:-1]\n",
    "    sel_z = np.where(np.logical_and(bincentre_z>=z_min, bincentre_z<=z_max))[0]#[:-1]\n",
    "    \n",
    "    print(sel_x.shape, sel_y.shape, sel_z.shape)\n",
    "\n",
    "    bincentre_sel_x = bincentre_x[sel_x]\n",
    "    bincentre_sel_y = bincentre_y[sel_y] \n",
    "    bincentre_sel_z = bincentre_z[sel_z]\n",
    "    #print(sel_x, bincentre_x[sel_x],bincentre_sel_x)\n",
    "    xx, yy, zz = np.meshgrid(sel_x, sel_y, sel_z, indexing='ij')\n",
    "    selected_histogram = np.copy(histogram[xx, yy, zz])\n",
    "    \n",
    "    return selected_histogram, (bincentre_sel_x, bincentre_sel_y, bincentre_sel_z)"
   ]
  },
  {
   "cell_type": "code",
   "execution_count": 147,
   "metadata": {},
   "outputs": [
    {
     "name": "stdout",
     "output_type": "stream",
     "text": [
      "(30,) (20,) (19,)\n"
     ]
    }
   ],
   "source": [
    "_ = select_histogram_coords(histogram_bitumen, -440, 440, -300, 300, -300, 300)"
   ]
  },
  {
   "cell_type": "code",
   "execution_count": 145,
   "metadata": {},
   "outputs": [],
   "source": [
    "def select_histogram_cylinder(histogram, sel_bins, cut_on_yz):\n",
    "    sbx, sby, sbz = sel_bins\n",
    "    sel_y =  np.where(np.sqrt(sby**2+sbz**2)<=cut_on_yz)[0]\n",
    "    sel_z = sel_y\n",
    "    sel_x = np.where(sbx>-1000)[0] \n",
    "    sby = sby[sel_y] \n",
    "    sbz = sbz[sel_z]\n",
    "    #print(sel_x, bincentre_x[sel_x],bincentre_sel_x)\n",
    "    xx, yy, zz = np.meshgrid(sel_x, sel_y, sel_z, indexing='ij')\n",
    "    selected_histogram = np.copy(histogram[xx, yy, zz])\n",
    "    bincentre_sel_x = sbx\n",
    "    bincentre_sel_y = sby\n",
    "    bincentre_sel_z = sbz\n",
    "    return selected_histogram, (bincentre_sel_x, bincentre_sel_y, bincentre_sel_z)"
   ]
  },
  {
   "cell_type": "code",
   "execution_count": 146,
   "metadata": {},
   "outputs": [
    {
     "name": "stdout",
     "output_type": "stream",
     "text": [
      "(66,) (33,) (33,)\n",
      "(66,) (33,) (33,)\n"
     ]
    }
   ],
   "source": [
    "sel_bt_hist, sel_bt_hist_bins = select_histogram_coords(histogram_bitumen, -1000, 1000, -500, 500, -500, 500)\n",
    "sel_h_hist, sel_h_hist_bins = select_histogram_coords(histogram_hydrogen, -1000, 1000, -500, 500, -500, 500)"
   ]
  },
  {
   "cell_type": "code",
   "execution_count": 56,
   "metadata": {},
   "outputs": [],
   "source": [
    "sel_cyl_bt_hist, sel_cyl_bt_bins = select_histogram_cylinder(sel_bt_hist, sel_bt_hist_bins,300 )\n",
    "sel_cyl_h_hist, sel_cyl_h_bins = select_histogram_cylinder(sel_h_hist, sel_h_hist_bins,300 )\n"
   ]
  },
  {
   "cell_type": "code",
   "execution_count": null,
   "metadata": {},
   "outputs": [],
   "source": []
  },
  {
   "cell_type": "code",
   "execution_count": 123,
   "metadata": {},
   "outputs": [],
   "source": [
    "def cut_regions(histo):\n",
    "    bitumen_left_hist, bins_left_bitumen = select_histogram_coords(histo, -440, -200, -300, 300, -300, 300)\n",
    "    bitumen_right_hist, bins_right_bitumen = select_histogram_coords(histo, 200, 440, -300, 300, -300, 300)\n",
    "    bubble_hist, bins_bubble = select_histogram_coords(histo, -100, 100, -100, 100, -100, 100)\n",
    "    drum_hist, bins_drum = select_histogram_coords(histo, -440, 440, -340, 340, -340, 340)\n",
    "    return bitumen_left_hist, bins_left_bitumen, bitumen_right_hist, bins_right_bitumen, bubble_hist, bins_bubble, drum_hist, bins_drum"
   ]
  },
  {
   "cell_type": "code",
   "execution_count": 124,
   "metadata": {},
   "outputs": [],
   "source": [
    "bt_left_hist, bins_left_bt, bt_right_hist, bins_right_bt, bt_centre_hist, bins_bt_centre, drum_bt_hist, bins_drum_bt = cut_regions(histogram_bitumen)"
   ]
  },
  {
   "cell_type": "code",
   "execution_count": 125,
   "metadata": {},
   "outputs": [
    {
     "data": {
      "application/vnd.jupyter.widget-view+json": {
       "model_id": "c09589494ddc4f7ba90db52d3b2b0bd5",
       "version_major": 2,
       "version_minor": 0
      },
      "text/plain": [
       "Canvas(toolbar=Toolbar(toolitems=[('Home', 'Reset original view', 'home', 'home'), ('Back', 'Back to previous …"
      ]
     },
     "metadata": {},
     "output_type": "display_data"
    }
   ],
   "source": [
    "bins = np.linspace(10,15, 100)\n",
    "plt.figure()\n",
    "plt.ylim(0,1200)\n",
    "plt.hist(drum_bt_hist[drum_bt_hist>0].ravel(), bins=bins, label='all data - drum')\n",
    "plt.hist(bt_left_hist.ravel(), alpha=.7,bins=bins, label='\"bitumen\" left')\n",
    "plt.hist(bt_right_hist.ravel(),alpha=.7, bins=bins, label='\"bitumen\" right')\n",
    "plt.hist(bt_centre_hist.ravel(), bins=bins, label='\"bubble\"')\n",
    "plt.legend(loc='upper right')\n",
    "plt.show()"
   ]
  },
  {
   "cell_type": "code",
   "execution_count": 126,
   "metadata": {},
   "outputs": [],
   "source": [
    "h_left_hist, bins_left_h, h_right_hist, bins_right_h, h_centre_hist, bins_h_centre, drum_h_hist, bins_drum_h = cut_regions(histogram_hydrogen)"
   ]
  },
  {
   "cell_type": "code",
   "execution_count": 127,
   "metadata": {},
   "outputs": [
    {
     "data": {
      "application/vnd.jupyter.widget-view+json": {
       "model_id": "413de7ac3b354a76ad3bcbb460826092",
       "version_major": 2,
       "version_minor": 0
      },
      "text/plain": [
       "Canvas(toolbar=Toolbar(toolitems=[('Home', 'Reset original view', 'home', 'home'), ('Back', 'Back to previous …"
      ]
     },
     "metadata": {},
     "output_type": "display_data"
    }
   ],
   "source": [
    "bins = np.linspace(10,15, 100)\n",
    "plt.figure()\n",
    "plt.ylim(0,1200)\n",
    "plt.hist(drum_h_hist[drum_h_hist>0].ravel(), bins=bins, label='all data - drum')\n",
    "plt.hist(h_left_hist.ravel(), alpha=.7,bins=bins, label='\"bitumen\" left')\n",
    "plt.hist(h_right_hist.ravel(),alpha=.7, bins=bins, label='\"bitumen\" right')\n",
    "plt.hist(h_centre_hist.ravel(), bins=bins, label='\"bubble\"')\n",
    "plt.legend(loc='upper right')\n",
    "plt.show()"
   ]
  },
  {
   "cell_type": "code",
   "execution_count": 128,
   "metadata": {},
   "outputs": [],
   "source": [
    "def distance_and_metric(histogram, indices, bins):\n",
    "    distance_yz = []\n",
    "    distance_xyz = []\n",
    "    distance_z = []\n",
    "    median = []\n",
    "    indices_x, indices_y, indices_z = indices\n",
    "    \n",
    "    bins_x, bins_y, bins_z = bins\n",
    "    for x, y, z in zip(indices_x, indices_y, indices_z):\n",
    "        if np.sqrt(bins_y[y]**2 + bins_z[z]**2)<=300:\n",
    "            #print(x,y,z,  np.sqrt(bins_x[x]**2+bins_y[y]**2), np.sqrt(bins_x[x]**2+bins_y[y]**2+bins_z[z]**2), histogram[x,y,z])\n",
    "            distance_yz.append(np.sqrt(bins_y[y]**2 + bins_z[z]**2))\n",
    "            distance_xyz.append(np.sqrt(bins_x[x]**2 + bins_y[y]**2 + bins_z[z]**2))\n",
    "            distance_z.append(bins_z[z])\n",
    "            median.append(histogram[x,y,z])\n",
    "    distance_z = np.asarray(distance_z)\n",
    "    distance_yz = np.asarray(distance_yz)\n",
    "    distance_xyz = np.asarray(distance_xyz)\n",
    "    median = np.asarray(median)\n",
    "    return distance_yz, median, distance_z, distance_xyz"
   ]
  },
  {
   "cell_type": "code",
   "execution_count": 129,
   "metadata": {},
   "outputs": [],
   "source": [
    "def distance_x_axis(histogram, indices, bins):\n",
    "    distance_yz = []\n",
    "    median = []\n",
    "    indices_x, indices_y, indices_z = indices\n",
    "    \n",
    "    bins_x, bins_y, bins_z = bins\n",
    "    for x, y, z in zip(indices_x, indices_y, indices_z):\n",
    "        if ((bins_y[y]**2 + bins_z[z]**2)<=290**2) & (bins_x[x]>-400) & (bins_x[x]<=400):\n",
    "            \n",
    "            distance_yz.append(np.sqrt(bins_y[y]**2 + bins_z[z]**2))\n",
    "            median.append(histogram[x,y,z])\n",
    "    distance_yz = np.asarray(distance_yz)\n",
    "    median = np.asarray(median)\n",
    "    return distance_yz, median"
   ]
  },
  {
   "cell_type": "code",
   "execution_count": 130,
   "metadata": {},
   "outputs": [],
   "source": [
    "def distance_centre(histogram, indices, bins):\n",
    "    distance_xyz = []\n",
    "    median = []\n",
    "    indices_x, indices_y, indices_z = indices\n",
    "    bins_x, bins_y, bins_z = bins\n",
    "    for x, y, z in zip(indices_x, indices_y, indices_z):\n",
    "        if ((bins_y[y]**2 + bins_z[z]**2)<=290**2) & (bins_x[x]>-400) & (bins_x[x]<=400):\n",
    "            distance_xyz.append(np.sqrt(bins_x[x]**2 + bins_y[y]**2 + bins_z[z]**2))\n",
    "            median.append(histogram[x,y,z])\n",
    "    distance_xyz = np.asarray(distance_xyz)\n",
    "    median = np.asarray(median)\n",
    "    return distance_xyz, median"
   ]
  },
  {
   "cell_type": "code",
   "execution_count": 131,
   "metadata": {},
   "outputs": [],
   "source": [
    "def distance_z(histogram, indices, bins):\n",
    "    distance_z = []\n",
    "    median = []\n",
    "    indices_x, indices_y, indices_z = indices\n",
    "    bins_x, bins_y, bins_z = bins\n",
    "    for x, y, z in zip(indices_x, indices_y, indices_z):\n",
    "        if np.sqrt(bins_y[y]**2 + bins_z[z]**2)<=300:\n",
    "            #print(x,y,z,  np.sqrt(bins_x[x]**2+bins_y[y]**2), np.sqrt(bins_x[x]**2+bins_y[y]**2+bins_z[z]**2), histogram[x,y,z])\n",
    "            distance_z.append(bins_z[z])\n",
    "            median.append(histogram[x,y,z])\n",
    "    distance_z = np.asarray(distance_z)\n",
    "    median = np.asarray(median)\n",
    "    return distance_z, median"
   ]
  },
  {
   "cell_type": "code",
   "execution_count": 132,
   "metadata": {},
   "outputs": [],
   "source": [
    "bt_left_dyz, bt_left_dyz_med = distance_x_axis(bt_left_hist, np.where(bt_left_hist>0), bins_left_bt)\n",
    "bt_left_dxyz, bt_left_dxyz_med = distance_centre(bt_left_hist, np.where(bt_left_hist>0), bins_left_bt)\n",
    "bt_left_dz, bt_left_dyz_med = distance_z(bt_left_hist, np.where(bt_left_hist>0), bins_left_bt)"
   ]
  },
  {
   "cell_type": "code",
   "execution_count": 133,
   "metadata": {},
   "outputs": [],
   "source": [
    "bt_right_dyz, bt_right_dyz_med = distance_x_axis(bt_right_hist, np.where(bt_right_hist>0), bins_right_bt)\n",
    "bt_right_dxyz, bt_right_dxyz_med = distance_centre(bt_right_hist, np.where(bt_right_hist>0), bins_right_bt)\n",
    "bt_right_dz, bt_right_dyz_med = distance_z(bt_right_hist, np.where(bt_right_hist>0), bins_right_bt)"
   ]
  },
  {
   "cell_type": "code",
   "execution_count": 134,
   "metadata": {},
   "outputs": [],
   "source": [
    "bt_centre_dyz, bt_centre_dyz_med = distance_x_axis(bt_centre_hist, np.where(bt_centre_hist>0), bins_bt_centre)\n",
    "bt_centre_dxyz, bt_centre_dxyz_med = distance_centre(bt_centre_hist, np.where(bt_centre_hist>0), bins_bt_centre)\n",
    "bt_centre_dz, bt_centre_dz_med = distance_z(bt_centre_hist, np.where(bt_centre_hist>0), bins_bt_centre)"
   ]
  },
  {
   "cell_type": "code",
   "execution_count": 135,
   "metadata": {},
   "outputs": [],
   "source": [
    "bt_drum_dyz, bt_drum_dyz_med = distance_x_axis(drum_bt_hist, np.where(drum_bt_hist>0), bins_drum_bt)\n",
    "bt_drum_dxyz, bt_drum_dxyz_med = distance_centre(drum_bt_hist, np.where(drum_bt_hist>0), bins_drum_bt)\n",
    "bt_drum_dz, bt_drum_dz_med = distance_z(drum_bt_hist, np.where(drum_bt_hist>0), bins_drum_bt)"
   ]
  },
  {
   "cell_type": "markdown",
   "metadata": {
    "tags": []
   },
   "source": [
    "bt_left_dist, bt_left_med, bt_left_dz, bt_left_dxyz = distance_and_metric(bt_left_hist, np.where(bt_left_hist>0), bins_left_bt)\n",
    "bt_right_dist, bt_right_med, bt_right_dz, bt_right_dxyz = distance_and_metric(bt_right_hist, np.where(bt_right_hist>0), bins_right_bt)\n",
    "bt_air_dist, bt_air_med, bt_air_dz, bt_air_dxyz = distance_and_metric(bt_centre_hist,np.where(bt_centre_hist>0), bins_bt_centre)\n",
    "\n",
    "bt_all_data_d, bt_all_data_med, bt_all_data_dz, bt_all_data_dxyz = distance_and_metric(histogram_bitumen, np.where(histogram_bitumen>0), (bincentre_x, bincentre_y, bincentre_z))\n",
    "\n",
    "bt_all_data_drum_d, bt_all_data_drum_med, bt_all_data_drum_dz, bt_all_data_drum_dxyz = distance_and_metric(drum_bt_hist, np.where(drum_bt_hist>=0),\n",
    "                                                                                               bins_drum_bt)"
   ]
  },
  {
   "cell_type": "code",
   "execution_count": 136,
   "metadata": {},
   "outputs": [],
   "source": [
    "h_left_dyz, h_left_dyz_med = distance_x_axis(h_left_hist, np.where(h_left_hist>0), bins_left_h)\n",
    "h_left_dxyz, h_left_dxyz_med = distance_centre(h_left_hist, np.where(h_left_hist>0), bins_left_h)\n",
    "h_left_dz, h_left_dyz_med = distance_z(h_left_hist, np.where(h_left_hist>0), bins_left_h)"
   ]
  },
  {
   "cell_type": "code",
   "execution_count": 137,
   "metadata": {},
   "outputs": [],
   "source": [
    "h_right_dyz, h_right_dyz_med = distance_x_axis(h_right_hist, np.where(h_right_hist>0), bins_right_h)\n",
    "h_right_dxyz, h_right_dxyz_med = distance_centre(h_right_hist, np.where(h_right_hist>0), bins_right_h)\n",
    "h_right_dz, h_right_dyz_med = distance_z(h_right_hist, np.where(h_right_hist>0), bins_right_h)"
   ]
  },
  {
   "cell_type": "code",
   "execution_count": 138,
   "metadata": {},
   "outputs": [],
   "source": [
    "h_centre_dyz, h_centre_dyz_med = distance_x_axis(h_centre_hist, np.where(h_centre_hist>0), bins_h_centre)\n",
    "h_centre_dxyz, h_centre_dxyz_med = distance_centre(h_centre_hist, np.where(h_centre_hist>0), bins_h_centre)\n",
    "h_centre_dz, h_centre_dz_med = distance_z(h_centre_hist, np.where(h_centre_hist>0), bins_h_centre)"
   ]
  },
  {
   "cell_type": "code",
   "execution_count": 139,
   "metadata": {},
   "outputs": [],
   "source": [
    "h_drum_dyz, h_drum_dyz_med = distance_x_axis(drum_h_hist, np.where(drum_h_hist>0), bins_drum_h)\n",
    "h_drum_dxyz, h_drum_dxyz_med = distance_centre(drum_h_hist, np.where(drum_h_hist>0), bins_drum_h)\n",
    "h_drum_dz, h_drum_dz_med = distance_z(drum_h_hist, np.where(drum_h_hist>0), bins_drum_h)"
   ]
  },
  {
   "cell_type": "code",
   "execution_count": 140,
   "metadata": {},
   "outputs": [],
   "source": [
    "h_cyl_dyz, h_cyl_dyz_med = distance_x_axis(sel_cyl_h_hist, np.where(sel_cyl_h_hist>0), sel_cyl_h_bins)\n",
    "h_cyl_dxyz, h_cyl_dxyz_med = distance_centre(sel_cyl_h_hist, np.where(sel_cyl_h_hist>0), sel_cyl_h_bins)\n",
    "\n",
    "bt_cyl_dyz, bt_cyl_dyz_med = distance_x_axis(sel_cyl_bt_hist, np.where(sel_cyl_bt_hist>0), sel_cyl_bt_bins)\n",
    "bt_cyl_dxyz, bt_cyl_dxyz_med = distance_centre(sel_cyl_bt_hist, np.where(sel_cyl_bt_hist>0), sel_cyl_bt_bins)\n",
    "\n"
   ]
  },
  {
   "cell_type": "markdown",
   "metadata": {},
   "source": [
    "h_left_dist, h_left_med, h_left_dz, h_left_dxyz = distance_and_metric(h_left_hist, np.where(h_left_hist>0), bins_left_h)\n",
    "h_right_dist, h_right_med, h_right_dz, h_right_dxyz = distance_and_metric(h_right_hist, np.where(h_right_hist>0), bins_right_h)\n",
    "h_air_dist, h_air_med, h_air_dz, h_air_dxyz = distance_and_metric(h_centre_hist,np.where(h_centre_hist>0), bins_h_centre)\n",
    "h_all_data_d, h_all_data_med, h_all_data_dz, h_all_data_dxyz = distance_and_metric(histogram_hydrogen, np.where(histogram_hydrogen>0), (bincentre_x, bincentre_y, bincentre_z))\n",
    "h_all_data_drum_d, h_all_data_drum_med, h_all_data_drum_dz, h_all_data_drum_dxyz = distance_and_metric(drum_h_hist, np.where(drum_h_hist>=0), bins_drum_h)\n",
    " "
   ]
  },
  {
   "cell_type": "code",
   "execution_count": 141,
   "metadata": {
    "tags": []
   },
   "outputs": [
    {
     "data": {
      "application/vnd.jupyter.widget-view+json": {
       "model_id": "6e31f35720a54f4aa6490decec97b1b0",
       "version_major": 2,
       "version_minor": 0
      },
      "text/plain": [
       "Canvas(toolbar=Toolbar(toolitems=[('Home', 'Reset original view', 'home', 'home'), ('Back', 'Back to previous …"
      ]
     },
     "metadata": {},
     "output_type": "display_data"
    }
   ],
   "source": [
    "plt.figure(figsize=(10,6))\n",
    "plt.scatter(bt_centre_dyz, bt_centre_dyz_med, c='blue', s=10, marker='s', alpha=.5, label='bitumen; x, y, z in (-100;100)')\n",
    "plt.scatter(h_centre_dyz, h_centre_dyz_med, c='crimson', s=10, marker='s', alpha=.4, label='hydrogen: x, y, z in (-100;100)')\n",
    "\n",
    "\n",
    "plt.axhline(11.265, linestyle='--', c='gray', linewidth=1)\n",
    "plt.text(-16,11.25,'11.265', fontsize=8)\n",
    "#plt.ylim(9.5,13)\n",
    "#plt.ylim(0,15)\n",
    "#plt.yticks(np.arange(0,15,1))\n",
    "plt.xlabel('distance from x axis (mm)')\n",
    "plt.ylabel('metric')\n",
    "plt.legend(loc='upper left')\n",
    "plt.show()"
   ]
  },
  {
   "cell_type": "code",
   "execution_count": 142,
   "metadata": {},
   "outputs": [
    {
     "data": {
      "application/vnd.jupyter.widget-view+json": {
       "model_id": "a30877592f93401596e1cf350765ed22",
       "version_major": 2,
       "version_minor": 0
      },
      "text/plain": [
       "Canvas(toolbar=Toolbar(toolitems=[('Home', 'Reset original view', 'home', 'home'), ('Back', 'Back to previous …"
      ]
     },
     "metadata": {},
     "output_type": "display_data"
    }
   ],
   "source": [
    "plt.figure(figsize=(10,6))\n",
    "plt.scatter(bt_drum_dyz_med, bt_drum_dyz, c='blue', s=5, marker='s', alpha=.5, label='drum bitumen')\n",
    "#plt.scatter(h_drum_dyz_med, h_drum_dyz,  c='crimson', s=10, marker='s', alpha=.4, label='drum hydrogen')\n",
    "\n",
    "\n",
    "plt.axvline(11.265, linestyle='--', c='gray', linewidth=1)\n",
    "plt.text(-16,11.25,'11.265', fontsize=8)\n",
    "#plt.ylim(9.5,13)\n",
    "plt.xlim(0,15)\n",
    "#plt.yticks(np.arange(0,15,1))\n",
    "plt.xlabel('distance from x axis (mm)')\n",
    "plt.ylabel('metric')\n",
    "plt.legend(loc='upper left')\n",
    "plt.show()"
   ]
  },
  {
   "cell_type": "code",
   "execution_count": 143,
   "metadata": {},
   "outputs": [
    {
     "data": {
      "application/vnd.jupyter.widget-view+json": {
       "model_id": "4cccc08c88a74c1caa1192f4d483bb6e",
       "version_major": 2,
       "version_minor": 0
      },
      "text/plain": [
       "Canvas(toolbar=Toolbar(toolitems=[('Home', 'Reset original view', 'home', 'home'), ('Back', 'Back to previous …"
      ]
     },
     "metadata": {},
     "output_type": "display_data"
    }
   ],
   "source": [
    "plt.figure(figsize=(10,6))\n",
    "#plt.scatter(bt_drum_dyz_med, bt_drum_dyz, c='blue', s=10, marker='s', alpha=.5, label='drum bitumen')\n",
    "plt.scatter(h_drum_dyz_med, h_drum_dyz,  c='crimson', s=2, marker='s', alpha=.4, label='drum hydrogen')\n",
    "\n",
    "\n",
    "plt.axvline(11.265, linestyle='--', c='gray', linewidth=1)\n",
    "plt.text(-16,11.25,'11.265', fontsize=8)\n",
    "#plt.ylim(9.5,13)\n",
    "plt.xlim(0,15)\n",
    "#plt.yticks(np.arange(0,15,1))\n",
    "plt.xlabel('distance from x axis (mm)')\n",
    "plt.ylabel('metric')\n",
    "plt.legend(loc='upper left')\n",
    "plt.show()"
   ]
  },
  {
   "cell_type": "code",
   "execution_count": 58,
   "metadata": {},
   "outputs": [
    {
     "data": {
      "application/vnd.jupyter.widget-view+json": {
       "model_id": "871fc1c623d14a1abbe008e10c8c72fe",
       "version_major": 2,
       "version_minor": 0
      },
      "text/plain": [
       "Canvas(toolbar=Toolbar(toolitems=[('Home', 'Reset original view', 'home', 'home'), ('Back', 'Back to previous …"
      ]
     },
     "metadata": {},
     "output_type": "display_data"
    }
   ],
   "source": [
    "plt.figure(figsize=(10,6))\n",
    "plt.scatter(bt_cyl_dyz_med, bt_cyl_dyz, c='blue', s=10, marker='s', alpha=.5, label='drum bitumen')\n",
    "#plt.scatter(h_drum_dyz_med, h_drum_dyz,  c='crimson', s=10, marker='s', alpha=.4, label='drum hydrogen')\n",
    "\n",
    "\n",
    "plt.axvline(11.265, linestyle='--', c='gray', linewidth=1)\n",
    "plt.text(-16,11.25,'11.265', fontsize=8)\n",
    "#plt.ylim(9.5,13)\n",
    "plt.xlim(0,15)\n",
    "#plt.yticks(np.arange(0,15,1))\n",
    "plt.xlabel('distance from x axis (mm)')\n",
    "plt.ylabel('metric')\n",
    "plt.legend(loc='upper left')\n",
    "plt.show()"
   ]
  },
  {
   "cell_type": "code",
   "execution_count": 59,
   "metadata": {},
   "outputs": [
    {
     "data": {
      "application/vnd.jupyter.widget-view+json": {
       "model_id": "d37139e06cb649bfafba6a1dba8ec2cf",
       "version_major": 2,
       "version_minor": 0
      },
      "text/plain": [
       "Canvas(toolbar=Toolbar(toolitems=[('Home', 'Reset original view', 'home', 'home'), ('Back', 'Back to previous …"
      ]
     },
     "metadata": {},
     "output_type": "display_data"
    }
   ],
   "source": [
    "plt.figure(figsize=(10,6))\n",
    "#plt.scatter(bt_drum_dyz_med, bt_drum_dyz, c='blue', s=10, marker='s', alpha=.5, label='drum bitumen')\n",
    "plt.scatter(h_cyl_dyz_med, h_cyl_dyz,  c='crimson', s=10, marker='s', alpha=.4, label='drum hydrogen')\n",
    "\n",
    "\n",
    "plt.axvline(11.265, linestyle='--', c='gray', linewidth=1)\n",
    "plt.text(-16,11.25,'11.265', fontsize=8)\n",
    "#plt.ylim(9.5,13)\n",
    "plt.xlim(0,15)\n",
    "#plt.yticks(np.arange(0,15,1))\n",
    "plt.xlabel('distance from x axis (mm)')\n",
    "plt.ylabel('metric')\n",
    "plt.legend(loc='upper left')\n",
    "plt.show()"
   ]
  },
  {
   "cell_type": "code",
   "execution_count": 148,
   "metadata": {
    "tags": []
   },
   "outputs": [
    {
     "data": {
      "application/vnd.jupyter.widget-view+json": {
       "model_id": "c9635ede3eb64b399f216235d1d0b54d",
       "version_major": 2,
       "version_minor": 0
      },
      "text/plain": [
       "Canvas(toolbar=Toolbar(toolitems=[('Home', 'Reset original view', 'home', 'home'), ('Back', 'Back to previous …"
      ]
     },
     "metadata": {},
     "output_type": "display_data"
    }
   ],
   "source": [
    "plt.figure(figsize=(10,6))\n",
    "plt.scatter (bt_drum_dxyz_med,bt_drum_dxyz, c='blue', s=5, marker='s', alpha=.5, label='alldata drum bitumen')\n",
    "#plt.scatter (h_drum_dxyz_med,h_drum_dxyz, c='crimson', s=5, marker='s', alpha=.3, label='alldata drum hydrogen')\n",
    "plt.axvline(11.265, linestyle='--', c='gray', linewidth=1)\n",
    "plt.text(-16,11.25,'11.265', fontsize=8)\n",
    "#plt.ylim(9.5,13)\n",
    "plt.xlim(0,15)\n",
    "#plt.yticks(np.arange(0,15,1))\n",
    "plt.xlabel('distance from axes origin (mm)')\n",
    "plt.ylabel('metric')\n",
    "plt.legend(loc='upper left')\n",
    "plt.show()"
   ]
  },
  {
   "cell_type": "code",
   "execution_count": 31,
   "metadata": {},
   "outputs": [
    {
     "data": {
      "application/vnd.jupyter.widget-view+json": {
       "model_id": "fa1c1c3b13754b47b79331d5dfb1c257",
       "version_major": 2,
       "version_minor": 0
      },
      "text/plain": [
       "Canvas(toolbar=Toolbar(toolitems=[('Home', 'Reset original view', 'home', 'home'), ('Back', 'Back to previous …"
      ]
     },
     "metadata": {},
     "output_type": "display_data"
    }
   ],
   "source": [
    "plt.figure(figsize=(10,6))\n",
    "plt.scatter (bt_drum_dz, bt_drum_dz_med, c='blue', s=5, marker='s', alpha=.5, label='alldata drum bitumen')\n",
    "plt.scatter (h_drum_dz , h_drum_dz_med, c='crimson', s=5, marker='s', alpha=.3, label='alldata drum hydrogen')\n",
    "plt.axhline(11.265, linestyle='--', c='gray', linewidth=1)\n",
    "plt.text(-16,11.25,'11.265', fontsize=8)\n",
    "#plt.ylim(9.5,13)\n",
    "#plt.xlim(0,15)\n",
    "#plt.yticks(np.arange(0,15,1))\n",
    "plt.xlabel('z coord (mm)')\n",
    "plt.ylabel('metric')\n",
    "plt.legend(loc='upper left')\n",
    "plt.show()"
   ]
  },
  {
   "cell_type": "code",
   "execution_count": null,
   "metadata": {},
   "outputs": [],
   "source": []
  }
 ],
 "metadata": {
  "kernelspec": {
   "display_name": "Python 3",
   "language": "python",
   "name": "python3"
  },
  "language_info": {
   "codemirror_mode": {
    "name": "ipython",
    "version": 3
   },
   "file_extension": ".py",
   "mimetype": "text/x-python",
   "name": "python",
   "nbconvert_exporter": "python",
   "pygments_lexer": "ipython3",
   "version": "3.9.2"
  }
 },
 "nbformat": 4,
 "nbformat_minor": 4
}
