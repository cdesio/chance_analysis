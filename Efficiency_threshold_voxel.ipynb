{
 "cells": [
  {
   "cell_type": "code",
   "execution_count": 1,
   "id": "87663d4d",
   "metadata": {},
   "outputs": [],
   "source": [
    "%load_ext autoreload"
   ]
  },
  {
   "cell_type": "code",
   "execution_count": 2,
   "id": "59f5baf4",
   "metadata": {},
   "outputs": [],
   "source": [
    "%autoreload 2"
   ]
  },
  {
   "cell_type": "code",
   "execution_count": 3,
   "id": "92276450",
   "metadata": {},
   "outputs": [],
   "source": [
    "import numpy as np"
   ]
  },
  {
   "cell_type": "code",
   "execution_count": 4,
   "id": "68f69aad",
   "metadata": {},
   "outputs": [],
   "source": [
    "from bins import Hist, Bin"
   ]
  },
  {
   "cell_type": "code",
   "execution_count": 5,
   "id": "7dec2789",
   "metadata": {},
   "outputs": [],
   "source": [
    "from collections import Counter"
   ]
  },
  {
   "cell_type": "code",
   "execution_count": 6,
   "id": "02dcb91d",
   "metadata": {},
   "outputs": [],
   "source": [
    "import matplotlib.pyplot as plt"
   ]
  },
  {
   "cell_type": "markdown",
   "id": "e83f9873",
   "metadata": {},
   "source": [
    "#### Import histograms from input files"
   ]
  },
  {
   "cell_type": "code",
   "execution_count": 7,
   "id": "c40d76b4",
   "metadata": {},
   "outputs": [],
   "source": [
    "histogram_21l = Hist('data/largedrum_21L_dense_MedianCut_3cmVoxel_all.discriminator.root')\n",
    "histogram_bitumen = Hist(infile='data/largedrum_onlybitumen_dense_newmetrics_3cmVoxel_April2021.discriminator.root')\n",
    "histogram_hydrogen = Hist(infile='data/largedrum_onlyhydrogen_dense_newmetrics_3cmVoxel_April2021.discriminator.root')"
   ]
  },
  {
   "cell_type": "code",
   "execution_count": 8,
   "id": "a303ad69",
   "metadata": {},
   "outputs": [],
   "source": [
    "histogram_21l_shifted= Hist('data/largedrum_21L_5cm_dense_newmetrics_3cmVoxel_April2021.discriminator.root')"
   ]
  },
  {
   "cell_type": "markdown",
   "id": "7eb4812e",
   "metadata": {},
   "source": [
    "#### Cylindrical selection"
   ]
  },
  {
   "cell_type": "code",
   "execution_count": 9,
   "id": "8fe6df9e",
   "metadata": {},
   "outputs": [],
   "source": [
    "drum_21l =  histogram_21l.cylinder_select(threshold=290, edges_x=Bin(-400,400))\n",
    "drum_bitumen = histogram_bitumen.cylinder_select(threshold=290, edges_x=Bin(-400,400))\n",
    "drum_hydrogen = histogram_hydrogen.cylinder_select(threshold=290, edges_x=Bin(-400,400))\n",
    "drum_21l_hydr = histogram_21l.cylinder_select(threshold=90, edges_x=Bin(-90,90))\n",
    "drum_21l_hydr_shifted = histogram_21l_shifted.cylinder_select(threshold=90, edges_x=Bin(-120,60))"
   ]
  },
  {
   "cell_type": "markdown",
   "id": "d1b223ab",
   "metadata": {},
   "source": [
    "Define distance bins: 12 bins between 15 and 300"
   ]
  },
  {
   "cell_type": "code",
   "execution_count": 10,
   "id": "2c2a376c",
   "metadata": {},
   "outputs": [],
   "source": [
    "bins = np.linspace(15, 300, 20)"
   ]
  },
  {
   "cell_type": "markdown",
   "id": "704615d9",
   "metadata": {},
   "source": [
    "Define bin edges, as Bin(left, right) for each bin"
   ]
  },
  {
   "cell_type": "code",
   "execution_count": 11,
   "id": "abae4bec",
   "metadata": {},
   "outputs": [],
   "source": [
    "bin_edges = np.asarray([Bin(l, r) for l, r in zip(bins[:-1], bins[1:])])"
   ]
  },
  {
   "cell_type": "code",
   "execution_count": 12,
   "id": "8093936c",
   "metadata": {},
   "outputs": [
    {
     "data": {
      "text/plain": [
       "array([Bin(left=15.0, right=30.0), Bin(left=30.0, right=45.0),\n",
       "       Bin(left=45.0, right=60.0), Bin(left=60.0, right=75.0),\n",
       "       Bin(left=75.0, right=90.0), Bin(left=90.0, right=105.0),\n",
       "       Bin(left=105.0, right=120.0), Bin(left=120.0, right=135.0),\n",
       "       Bin(left=135.0, right=150.0), Bin(left=150.0, right=165.0),\n",
       "       Bin(left=165.0, right=180.0), Bin(left=180.0, right=195.0),\n",
       "       Bin(left=195.0, right=210.0), Bin(left=210.0, right=225.0),\n",
       "       Bin(left=225.0, right=240.0), Bin(left=240.0, right=255.0),\n",
       "       Bin(left=255.0, right=270.0), Bin(left=270.0, right=285.0),\n",
       "       Bin(left=285.0, right=300.0)], dtype=object)"
      ]
     },
     "execution_count": 12,
     "metadata": {},
     "output_type": "execute_result"
    }
   ],
   "source": [
    "bin_edges"
   ]
  },
  {
   "cell_type": "markdown",
   "id": "ecf193c6",
   "metadata": {},
   "source": [
    "Thresholds array (evaluated in a different notebook"
   ]
  },
  {
   "cell_type": "code",
   "execution_count": 13,
   "id": "59c89302",
   "metadata": {},
   "outputs": [],
   "source": [
    "ts = np.array([11.37237 , 11.383484, 11.362829, 11.411325, 11.361368, 11.409951,\n",
    "       11.354243, 11.430184, 11.356508, 11.453635, 11.330235, 11.468952,\n",
    "       11.335208, 11.513633, 11.339232, 11.500191, 11.134762, 11.437215,\n",
    "       11.275888])"
   ]
  },
  {
   "cell_type": "markdown",
   "id": "f461052f",
   "metadata": {},
   "source": [
    "ts = np.array([11.379779 , 11.382227 , 11.361368 , 11.397569 , 11.4029045,\n",
    "       11.387936 , 11.375538 , 11.429283 , 11.440058 , 11.37425  ,\n",
    "       11.216588 , 11.47209  ], dtype=np.float32)"
   ]
  },
  {
   "cell_type": "markdown",
   "id": "c11a7acc",
   "metadata": {},
   "source": [
    "ts = np.array([11.37237 , 11.383484, 11.35881 , 11.388082, 11.361368, 11.381344,\n",
    "       11.387841, 11.394067, 11.406638, 11.351276])"
   ]
  },
  {
   "cell_type": "markdown",
   "id": "bc414b1e",
   "metadata": {},
   "source": [
    "Define ground truth for bubble and put nonzero values to 1"
   ]
  },
  {
   "cell_type": "code",
   "execution_count": 14,
   "id": "3a9da265",
   "metadata": {},
   "outputs": [],
   "source": [
    "map_bubble = drum_21l_hydr.padded_histogram"
   ]
  },
  {
   "cell_type": "code",
   "execution_count": 15,
   "id": "3511318f",
   "metadata": {},
   "outputs": [],
   "source": [
    "gt_bubble = np.zeros_like(map_bubble)"
   ]
  },
  {
   "cell_type": "code",
   "execution_count": 16,
   "id": "8b444818",
   "metadata": {},
   "outputs": [],
   "source": [
    "gt_bubble[map_bubble>0] = 1"
   ]
  },
  {
   "cell_type": "markdown",
   "id": "315f3d05",
   "metadata": {},
   "source": [
    "Define bin_map: same for each histogram of the same size (using padded histograms - same size as original)"
   ]
  },
  {
   "cell_type": "code",
   "execution_count": 17,
   "id": "043b0851",
   "metadata": {},
   "outputs": [],
   "source": [
    "bin_map =np.digitize(histogram_21l.distance_axis(axis=0).distance, bins=bins[:-1])-1"
   ]
  },
  {
   "cell_type": "code",
   "execution_count": 18,
   "id": "3411c63a",
   "metadata": {},
   "outputs": [
    {
     "data": {
      "text/plain": [
       "Counter({18: 125400,\n",
       "         17: 1848,\n",
       "         16: 1716,\n",
       "         15: 1848,\n",
       "         14: 1980,\n",
       "         13: 1056,\n",
       "         12: 1452,\n",
       "         11: 1320,\n",
       "         10: 924,\n",
       "         9: 1056,\n",
       "         8: 1188,\n",
       "         7: 792,\n",
       "         6: 660,\n",
       "         5: 792,\n",
       "         4: 660,\n",
       "         2: 396,\n",
       "         3: 264,\n",
       "         1: 264,\n",
       "         0: 132})"
      ]
     },
     "execution_count": 18,
     "metadata": {},
     "output_type": "execute_result"
    }
   ],
   "source": [
    "Counter(bin_map)"
   ]
  },
  {
   "cell_type": "code",
   "execution_count": 19,
   "id": "87ddcc5e",
   "metadata": {},
   "outputs": [
    {
     "data": {
      "text/plain": [
       "(19,)"
      ]
     },
     "execution_count": 19,
     "metadata": {},
     "output_type": "execute_result"
    }
   ],
   "source": [
    "ts.shape"
   ]
  },
  {
   "cell_type": "code",
   "execution_count": 20,
   "id": "996d9a70",
   "metadata": {},
   "outputs": [],
   "source": [
    "from sklearn.metrics import matthews_corrcoef"
   ]
  },
  {
   "cell_type": "markdown",
   "id": "ff5f25f6",
   "metadata": {},
   "source": [
    "Calculate efficiency using hist and gt"
   ]
  },
  {
   "cell_type": "code",
   "execution_count": 21,
   "id": "2c66b43f",
   "metadata": {},
   "outputs": [],
   "source": [
    "bmap_3d = bin_map.reshape(66,66,33)"
   ]
  },
  {
   "cell_type": "code",
   "execution_count": 22,
   "id": "bc0bdf99",
   "metadata": {},
   "outputs": [
    {
     "data": {
      "image/png": "[encoded data removed]",
      "text/plain": [
       "<Figure size 432x288 with 1 Axes>"
      ]
     },
     "metadata": {
      "needs_background": "light"
     },
     "output_type": "display_data"
    }
   ],
   "source": [
    "fig = plt.figure()\n",
    "ax = fig.add_subplot(111,projection='3d')\n",
    "xx, yy, zz = np.where(bmap_3d>=0)\n",
    "pnt3d = ax.scatter(xx, yy, zz, c=bmap_3d, cmap='jet', s=10, alpha=.02)\n",
    "ax.set_xlabel(\"x\")\n",
    "ax.set_ylabel(\"y\")\n",
    "ax.set_zlabel(\"z\")\n",
    "ax.axes.set_xlim3d(left=0, right=bmap_3d.shape[0])\n",
    "ax.axes.set_ylim3d(bottom=0, top=bmap_3d.shape[1])\n",
    "ax.axes.set_zlim3d(bottom=0, top=bmap_3d.shape[2])\n",
    "plt.show()"
   ]
  },
  {
   "cell_type": "code",
   "execution_count": 68,
   "id": "9d4f3a8d",
   "metadata": {},
   "outputs": [],
   "source": [
    "def efficiency(gt_map, hist, ts, bin_map, return_hmap: bool = False):\n",
    "    est_thresholds = ts[bin_map]\n",
    "    metric_values = hist.ravel()\n",
    "    lh = len(hist.ravel())\n",
    "    \n",
    "    h_map = (metric_values>=est_thresholds).astype(int)\n",
    "\n",
    "    gt_map = gt_map.ravel()\n",
    "    B = len(ts)\n",
    "    eg = matthews_corrcoef(gt_map, h_map)\n",
    "    bin_eff = np.zeros(B)\n",
    "    for i in range(B):\n",
    "        if np.all(gt_map[bin_map==i])==1:\n",
    "            gt_map[bin_map==i].append(0)\n",
    "            h_map[bin_map==i].append(0)\n",
    "            print(gt_map[bin_map==i], h_map[bin_map==i])\n",
    "        bin_eff[i] = matthews_corrcoef(gt_map[bin_map==i], h_map[bin_map==i])\n",
    "    \n",
    "    if return_hmap:\n",
    "        return eg, bin_eff, h_map\n",
    "    return eg, bin_eff"
   ]
  },
  {
   "cell_type": "code",
   "execution_count": 69,
   "id": "2a252306",
   "metadata": {},
   "outputs": [],
   "source": [
    "import warnings\n",
    "warnings.filterwarnings('ignore')"
   ]
  },
  {
   "cell_type": "code",
   "execution_count": 70,
   "id": "4322c10c",
   "metadata": {},
   "outputs": [],
   "source": [
    "eff, eff_bubble = efficiency(gt_bubble, map_bubble, ts, bin_map)"
   ]
  },
  {
   "cell_type": "code",
   "execution_count": 71,
   "id": "e9b4f3eb",
   "metadata": {},
   "outputs": [
    {
     "data": {
      "text/plain": [
       "0.9640622286466835"
      ]
     },
     "execution_count": 71,
     "metadata": {},
     "output_type": "execute_result"
    }
   ],
   "source": [
    "eff"
   ]
  },
  {
   "cell_type": "code",
   "execution_count": 72,
   "id": "1ec8870d",
   "metadata": {},
   "outputs": [
    {
     "data": {
      "image/png": "[encoded data removed]",
      "text/plain": [
       "<Figure size 432x288 with 1 Axes>"
      ]
     },
     "metadata": {
      "needs_background": "light"
     },
     "output_type": "display_data"
    }
   ],
   "source": [
    "plt.figure()\n",
    "plt.plot(bins[:-1], eff_bubble,'o-', marker='s', markersize=3)\n",
    "plt.xlabel('distance (mm)')\n",
    "plt.ylabel('detection efficiency')\n",
    "plt.show()"
   ]
  },
  {
   "cell_type": "code",
   "execution_count": 73,
   "id": "f1db02fb",
   "metadata": {},
   "outputs": [
    {
     "data": {
      "text/plain": [
       "array([1.        , 0.97691189, 0.95346259, 0.95346259, 0.95346259,\n",
       "       0.        , 0.        , 0.        , 0.        , 0.        ,\n",
       "       0.        , 0.        , 0.        , 0.        , 0.        ,\n",
       "       0.        , 0.        , 0.        , 0.        ])"
      ]
     },
     "execution_count": 73,
     "metadata": {},
     "output_type": "execute_result"
    }
   ],
   "source": [
    "eff_bubble"
   ]
  },
  {
   "cell_type": "code",
   "execution_count": 74,
   "id": "032a3798",
   "metadata": {},
   "outputs": [],
   "source": [
    "Lb = Counter(bin_map)"
   ]
  },
  {
   "cell_type": "code",
   "execution_count": 75,
   "id": "64e34715",
   "metadata": {},
   "outputs": [
    {
     "data": {
      "text/plain": [
       "Counter({18: 125400,\n",
       "         17: 1848,\n",
       "         16: 1716,\n",
       "         15: 1848,\n",
       "         14: 1980,\n",
       "         13: 1056,\n",
       "         12: 1452,\n",
       "         11: 1320,\n",
       "         10: 924,\n",
       "         9: 1056,\n",
       "         8: 1188,\n",
       "         7: 792,\n",
       "         6: 660,\n",
       "         5: 792,\n",
       "         4: 660,\n",
       "         2: 396,\n",
       "         3: 264,\n",
       "         1: 264,\n",
       "         0: 132})"
      ]
     },
     "execution_count": 75,
     "metadata": {},
     "output_type": "execute_result"
    }
   ],
   "source": [
    "Lb"
   ]
  },
  {
   "cell_type": "code",
   "execution_count": 76,
   "id": "3a5c77e5",
   "metadata": {},
   "outputs": [
    {
     "data": {
      "text/plain": [
       "array([1.96406223, 1.94097412, 1.91752482, 1.91752482, 1.91752482,\n",
       "       0.96406223, 0.96406223, 0.96406223, 0.96406223, 0.96406223,\n",
       "       0.96406223, 0.96406223, 0.96406223, 0.96406223, 0.96406223,\n",
       "       0.96406223, 0.96406223, 0.96406223, 0.96406223])"
      ]
     },
     "execution_count": 76,
     "metadata": {},
     "output_type": "execute_result"
    }
   ],
   "source": [
    "np.sum(efficiency(gt_bubble, map_bubble, ts, bin_map))"
   ]
  },
  {
   "cell_type": "markdown",
   "id": "75fd0a34",
   "metadata": {},
   "source": [
    "#### Same for 8 bubbles"
   ]
  },
  {
   "cell_type": "code",
   "execution_count": 77,
   "id": "6a4dd35c",
   "metadata": {},
   "outputs": [],
   "source": [
    "histogram_8blocks =Hist('data/largedrum_0.5L_8Cubes_dense_newmetrics_3cmVoxel_April2021.discriminator.root')"
   ]
  },
  {
   "cell_type": "code",
   "execution_count": 1,
   "id": "3e7852dd",
   "metadata": {},
   "outputs": [],
   "source": [
    "cube_centre_positions = [[130,20,0],[-150,10,0],[20,150,0],[10,-160,0],[140,-130,0],[-120,-120,0],[-110,110,0]]"
   ]
  },
  {
   "cell_type": "code",
   "execution_count": 2,
   "id": "ddd96fac",
   "metadata": {},
   "outputs": [],
   "source": [
    "cube_size=[80,80,80]"
   ]
  },
  {
   "cell_type": "code",
   "execution_count": 80,
   "id": "7cc20fc5",
   "metadata": {},
   "outputs": [],
   "source": [
    "cube_edges = [[Bin(i-40, i+40),Bin(j-40,j+40), Bin(k-40,k+40)] for i, j, k in cube_centre_positions]"
   ]
  },
  {
   "cell_type": "code",
   "execution_count": 81,
   "id": "e8e4c86e",
   "metadata": {},
   "outputs": [],
   "source": [
    "cubes_hist = [histogram_8blocks.cube_select(edge_cut=sel) for sel in cube_edges]"
   ]
  },
  {
   "cell_type": "code",
   "execution_count": 82,
   "id": "c03cdbf6",
   "metadata": {},
   "outputs": [],
   "source": [
    "cubes = [cube.padded_histogram for cube in cubes_hist]"
   ]
  },
  {
   "cell_type": "code",
   "execution_count": 83,
   "id": "49c819bc",
   "metadata": {},
   "outputs": [],
   "source": [
    "from operator import add\n",
    "from functools import reduce"
   ]
  },
  {
   "cell_type": "code",
   "execution_count": 84,
   "id": "a8f1cd5e",
   "metadata": {},
   "outputs": [],
   "source": [
    "cubes_hist = reduce(add,cubes)"
   ]
  },
  {
   "cell_type": "code",
   "execution_count": 85,
   "id": "4ab20f9e",
   "metadata": {},
   "outputs": [],
   "source": [
    "gt_bubble_cubes_hist = np.zeros_like(cubes_hist)"
   ]
  },
  {
   "cell_type": "code",
   "execution_count": 86,
   "id": "41ecc555",
   "metadata": {},
   "outputs": [],
   "source": [
    "gt_bubble_cubes_hist[cubes_hist>0] = 1\n",
    "gt_bubble_cubes_hist[gt_bubble_cubes_hist>1] = 1\n",
    "gt_bubble_cubes_hist[gt_bubble_cubes_hist<0] = 0"
   ]
  },
  {
   "cell_type": "code",
   "execution_count": 87,
   "id": "153718fe",
   "metadata": {},
   "outputs": [],
   "source": [
    "eff_8b, eff_bubble_8b, hmap = efficiency(gt_bubble_cubes_hist, histogram_8blocks.histogram, \n",
    "                                         ts, bin_map, return_hmap=True)"
   ]
  },
  {
   "cell_type": "code",
   "execution_count": 88,
   "id": "67af6c49",
   "metadata": {},
   "outputs": [
    {
     "data": {
      "text/plain": [
       "-0.006165242264541819"
      ]
     },
     "execution_count": 88,
     "metadata": {},
     "output_type": "execute_result"
    }
   ],
   "source": [
    "eff_8b"
   ]
  },
  {
   "cell_type": "code",
   "execution_count": 89,
   "id": "998384fa",
   "metadata": {},
   "outputs": [
    {
     "data": {
      "image/png": "[encoded data removed]",
      "text/plain": [
       "<Figure size 432x288 with 1 Axes>"
      ]
     },
     "metadata": {
      "needs_background": "light"
     },
     "output_type": "display_data"
    }
   ],
   "source": [
    "plt.figure()\n",
    "plt.plot(bins[:-1], eff_bubble_8b, 'o-', marker='s', markersize=3)\n",
    "plt.xlabel('distance (mm)')\n",
    "plt.ylabel('detection efficiency')\n",
    "plt.show()"
   ]
  },
  {
   "cell_type": "code",
   "execution_count": 90,
   "id": "7033b4a1",
   "metadata": {},
   "outputs": [
    {
     "data": {
      "text/plain": [
       "array([-0.06565322, -0.07369095, -0.01809677,  0.        , -0.01906579,\n",
       "        0.        , -0.0218687 ,  0.        ,  0.00637713,  0.        ,\n",
       "       -0.04804988,  0.        , -0.03301319,  0.        ,  0.        ,\n",
       "        0.        ,  0.        ,  0.        ,  0.        ])"
      ]
     },
     "execution_count": 90,
     "metadata": {},
     "output_type": "execute_result"
    }
   ],
   "source": [
    "eff_bubble_8b"
   ]
  },
  {
   "cell_type": "code",
   "execution_count": 91,
   "id": "8e781ce8",
   "metadata": {},
   "outputs": [],
   "source": [
    "gt_5 = gt_bubble_cubes_hist.ravel()[bin_map==5]\n",
    "g_zeros = gt_5[gt_5 == 0]\n",
    "g_ones = gt_5[gt_5 == 1]"
   ]
  },
  {
   "cell_type": "code",
   "execution_count": 92,
   "id": "5ad2bb3b",
   "metadata": {},
   "outputs": [
    {
     "data": {
      "text/plain": [
       "((792,), (0,))"
      ]
     },
     "execution_count": 92,
     "metadata": {},
     "output_type": "execute_result"
    }
   ],
   "source": [
    "g_zeros.shape, g_ones.shape"
   ]
  },
  {
   "cell_type": "code",
   "execution_count": 93,
   "id": "44324b75",
   "metadata": {},
   "outputs": [],
   "source": [
    "hmap5 = hmap.ravel()[bin_map==5]\n",
    "h_zeros = hmap5[hmap5 == 0]\n",
    "h_ones = hmap5[hmap5 == 1]"
   ]
  },
  {
   "cell_type": "code",
   "execution_count": 94,
   "id": "581b7089",
   "metadata": {},
   "outputs": [
    {
     "data": {
      "text/plain": [
       "((781,), (11,))"
      ]
     },
     "execution_count": 94,
     "metadata": {},
     "output_type": "execute_result"
    }
   ],
   "source": [
    "h_zeros.shape, h_ones.shape"
   ]
  },
  {
   "cell_type": "code",
   "execution_count": 95,
   "id": "13c598ea",
   "metadata": {},
   "outputs": [
    {
     "data": {
      "text/plain": [
       "(4037,)"
      ]
     },
     "execution_count": 95,
     "metadata": {},
     "output_type": "execute_result"
    }
   ],
   "source": [
    "h_ones_all = hmap[hmap == 1]\n",
    "h_ones_all.shape"
   ]
  },
  {
   "cell_type": "code",
   "execution_count": 96,
   "id": "f857ae14",
   "metadata": {},
   "outputs": [
    {
     "data": {
      "text/plain": [
       "Bin(left=90.0, right=105.0)"
      ]
     },
     "execution_count": 96,
     "metadata": {},
     "output_type": "execute_result"
    }
   ],
   "source": [
    "bin_edges[5]"
   ]
  },
  {
   "cell_type": "code",
   "execution_count": 97,
   "id": "4fa37e6c",
   "metadata": {},
   "outputs": [
    {
     "data": {
      "text/plain": [
       "array([11.42163], dtype=float32)"
      ]
     },
     "execution_count": 97,
     "metadata": {},
     "output_type": "execute_result"
    }
   ],
   "source": [
    "cubes_hist[cubes_hist > 11.39]"
   ]
  },
  {
   "cell_type": "code",
   "execution_count": 98,
   "id": "854671b2",
   "metadata": {},
   "outputs": [
    {
     "data": {
      "text/plain": [
       "array([12.507962, 12.605438, 13.078924, ..., 13.185023, 13.377857,\n",
       "       13.836502], dtype=float32)"
      ]
     },
     "execution_count": 98,
     "metadata": {},
     "output_type": "execute_result"
    }
   ],
   "source": [
    "histogram_8blocks.histogram[histogram_8blocks.histogram > 11.39]"
   ]
  },
  {
   "cell_type": "markdown",
   "id": "eb68b8c6",
   "metadata": {},
   "source": [
    "### hydrogen drum"
   ]
  },
  {
   "cell_type": "code",
   "execution_count": 99,
   "id": "4b313e59",
   "metadata": {},
   "outputs": [
    {
     "data": {
      "text/plain": [
       "<bins.SelectedHist at 0x1155d91c0>"
      ]
     },
     "execution_count": 99,
     "metadata": {},
     "output_type": "execute_result"
    }
   ],
   "source": [
    "drum_hydrogen"
   ]
  },
  {
   "cell_type": "code",
   "execution_count": 100,
   "id": "ea81637a",
   "metadata": {},
   "outputs": [],
   "source": [
    "gt_hydrogen = np.zeros_like(drum_hydrogen.padded_histogram)"
   ]
  },
  {
   "cell_type": "code",
   "execution_count": 101,
   "id": "57f9b416",
   "metadata": {},
   "outputs": [],
   "source": [
    "gt_hydrogen[drum_hydrogen.padded_histogram>0] = 1"
   ]
  },
  {
   "cell_type": "code",
   "execution_count": 102,
   "id": "584748a2",
   "metadata": {},
   "outputs": [],
   "source": [
    "eff_hydr, eff_hydr_bin, hmap = efficiency(gt_hydrogen, drum_hydrogen.padded_histogram, \n",
    "                                         ts, bin_map, return_hmap=True)"
   ]
  },
  {
   "cell_type": "code",
   "execution_count": 103,
   "id": "95e2701f",
   "metadata": {},
   "outputs": [
    {
     "data": {
      "text/plain": [
       "0.8695568991392911"
      ]
     },
     "execution_count": 103,
     "metadata": {},
     "output_type": "execute_result"
    }
   ],
   "source": [
    "eff_hydr"
   ]
  },
  {
   "cell_type": "code",
   "execution_count": 104,
   "id": "b9f5c2cd",
   "metadata": {},
   "outputs": [
    {
     "data": {
      "image/png": "[encoded data removed]",
      "text/plain": [
       "<Figure size 432x288 with 1 Axes>"
      ]
     },
     "metadata": {
      "needs_background": "light"
     },
     "output_type": "display_data"
    }
   ],
   "source": [
    "plt.figure()\n",
    "plt.plot(bins[:-1], eff_hydr_bin,'o-', marker='s', markersize=3)\n",
    "plt.xlabel('distance (mm)')\n",
    "plt.ylabel('detection efficiency')\n",
    "plt.show()"
   ]
  },
  {
   "cell_type": "code",
   "execution_count": 105,
   "id": "11e6d3d9",
   "metadata": {},
   "outputs": [
    {
     "data": {
      "text/plain": [
       "array([0.9392246 , 0.93179088, 0.92932038, 0.92439026, 0.93327495,\n",
       "       0.94669236, 0.93624708, 0.94669236, 0.94253935, 0.94108832,\n",
       "       0.94348766, 0.8791896 , 0.80341171, 0.78195906, 0.69433867,\n",
       "       0.75342292, 0.62864545, 0.67841613, 0.79474707])"
      ]
     },
     "execution_count": 105,
     "metadata": {},
     "output_type": "execute_result"
    }
   ],
   "source": [
    "eff_hydr_bin"
   ]
  },
  {
   "cell_type": "markdown",
   "id": "3c68026e",
   "metadata": {},
   "source": [
    "### Bubble shifted"
   ]
  },
  {
   "cell_type": "code",
   "execution_count": 106,
   "id": "29ff192f",
   "metadata": {},
   "outputs": [],
   "source": [
    "map_bubble_sh = drum_21l_hydr_shifted.padded_histogram"
   ]
  },
  {
   "cell_type": "code",
   "execution_count": 107,
   "id": "f4ef03a2",
   "metadata": {},
   "outputs": [],
   "source": [
    "gt_bubble_sh = np.zeros_like(map_bubble_sh)"
   ]
  },
  {
   "cell_type": "code",
   "execution_count": 108,
   "id": "128c62f3",
   "metadata": {},
   "outputs": [],
   "source": [
    "gt_bubble_sh[map_bubble_sh>0] = 1"
   ]
  },
  {
   "cell_type": "markdown",
   "id": "a1a9271b",
   "metadata": {},
   "source": [
    "Define bin_map: same for each histogram of the same size (using padded histograms - same size as original)"
   ]
  },
  {
   "cell_type": "code",
   "execution_count": 109,
   "id": "b536b441",
   "metadata": {},
   "outputs": [],
   "source": [
    "eff_sh, eff_bubble_sh = efficiency(gt_bubble_sh, map_bubble_sh, ts, bin_map)"
   ]
  },
  {
   "cell_type": "code",
   "execution_count": 110,
   "id": "a3a27197",
   "metadata": {},
   "outputs": [
    {
     "data": {
      "text/plain": [
       "0.9640622286466835"
      ]
     },
     "execution_count": 110,
     "metadata": {},
     "output_type": "execute_result"
    }
   ],
   "source": [
    "eff"
   ]
  },
  {
   "cell_type": "code",
   "execution_count": 111,
   "id": "9a7ba41d",
   "metadata": {},
   "outputs": [
    {
     "data": {
      "image/png": "[encoded data removed]",
      "text/plain": [
       "<Figure size 432x288 with 1 Axes>"
      ]
     },
     "metadata": {
      "needs_background": "light"
     },
     "output_type": "display_data"
    }
   ],
   "source": [
    "plt.figure()\n",
    "plt.plot(bins[:-1], eff_bubble_sh,'o-', marker='s', markersize=3)\n",
    "plt.xlabel('distance (mm)')\n",
    "plt.ylabel('detection efficiency')\n",
    "plt.show()"
   ]
  },
  {
   "cell_type": "code",
   "execution_count": 112,
   "id": "b0c19430",
   "metadata": {},
   "outputs": [
    {
     "data": {
      "text/plain": [
       "array([1.        , 1.        , 1.        , 1.        , 0.98155751,\n",
       "       0.        , 0.        , 0.        , 0.        , 0.        ,\n",
       "       0.        , 0.        , 0.        , 0.        , 0.        ,\n",
       "       0.        , 0.        , 0.        , 0.        ])"
      ]
     },
     "execution_count": 112,
     "metadata": {},
     "output_type": "execute_result"
    }
   ],
   "source": [
    "eff_bubble_sh"
   ]
  },
  {
   "cell_type": "code",
   "execution_count": null,
   "id": "34318008",
   "metadata": {},
   "outputs": [],
   "source": []
  }
 ],
 "metadata": {
  "kernelspec": {
   "display_name": "Python 3",
   "language": "python",
   "name": "python3"
  },
  "language_info": {
   "codemirror_mode": {
    "name": "ipython",
    "version": 3
   },
   "file_extension": ".py",
   "mimetype": "text/x-python",
   "name": "python",
   "nbconvert_exporter": "python",
   "pygments_lexer": "ipython3",
   "version": "3.9.4"
  }
 },
 "nbformat": 4,
 "nbformat_minor": 5
}
